{
 "cells": [
  {
   "cell_type": "markdown",
   "metadata": {},
   "source": [
    "# Creating a Sentiment Analysis Web App\n",
    "## Using PyTorch and SageMaker\n",
    "\n",
    "_Deep Learning Nanodegree Program | Deployment_\n",
    "\n",
    "---\n",
    "\n",
    "Now that we have a basic understanding of how SageMaker works we will try to use it to construct a complete project from end to end. Our goal will be to have a simple web page which a user can use to enter a movie review. The web page will then send the review off to our deployed model which will predict the sentiment of the entered review.\n",
    "\n",
    "## Instructions\n",
    "\n",
    "Some template code has already been provided for you, and you will need to implement additional functionality to successfully complete this notebook. You will not need to modify the included code beyond what is requested. Sections that begin with '**TODO**' in the header indicate that you need to complete or implement some portion within them. Instructions will be provided for each section and the specifics of the implementation are marked in the code block with a `# TODO: ...` comment. Please be sure to read the instructions carefully!\n",
    "\n",
    "In addition to implementing code, there will be questions for you to answer which relate to the task and your implementation. Each section where you will answer a question is preceded by a '**Question:**' header. Carefully read each question and provide your answer below the '**Answer:**' header by editing the Markdown cell.\n",
    "\n",
    "> **Note**: Code and Markdown cells can be executed using the **Shift+Enter** keyboard shortcut. In addition, a cell can be edited by typically clicking it (double-click for Markdown cells) or by pressing **Enter** while it is highlighted.\n",
    "\n",
    "## General Outline\n",
    "\n",
    "Recall the general outline for SageMaker projects using a notebook instance.\n",
    "\n",
    "1. Download or otherwise retrieve the data.\n",
    "2. Process / Prepare the data.\n",
    "3. Upload the processed data to S3.\n",
    "4. Train a chosen model.\n",
    "5. Test the trained model (typically using a batch transform job).\n",
    "6. Deploy the trained model.\n",
    "7. Use the deployed model.\n",
    "\n",
    "For this project, you will be following the steps in the general outline with some modifications. \n",
    "\n",
    "First, you will not be testing the model in its own step. You will still be testing the model, however, you will do it by deploying your model and then using the deployed model by sending the test data to it. One of the reasons for doing this is so that you can make sure that your deployed model is working correctly before moving forward.\n",
    "\n",
    "In addition, you will deploy and use your trained model a second time. In the second iteration you will customize the way that your trained model is deployed by including some of your own code. In addition, your newly deployed model will be used in the sentiment analysis web app."
   ]
  },
  {
   "cell_type": "markdown",
   "metadata": {},
   "source": [
    "## Step 1: Downloading the data\n",
    "\n",
    "As in the XGBoost in SageMaker notebook, we will be using the [IMDb dataset](http://ai.stanford.edu/~amaas/data/sentiment/)\n",
    "\n",
    "> Maas, Andrew L., et al. [Learning Word Vectors for Sentiment Analysis](http://ai.stanford.edu/~amaas/data/sentiment/). In _Proceedings of the 49th Annual Meeting of the Association for Computational Linguistics: Human Language Technologies_. Association for Computational Linguistics, 2011."
   ]
  },
  {
   "cell_type": "code",
   "execution_count": 1,
   "metadata": {},
   "outputs": [
    {
     "name": "stdout",
     "output_type": "stream",
     "text": [
      "--2020-01-05 07:18:25--  http://ai.stanford.edu/~amaas/data/sentiment/aclImdb_v1.tar.gz\n",
      "Resolving ai.stanford.edu (ai.stanford.edu)... 171.64.68.10\n",
      "Connecting to ai.stanford.edu (ai.stanford.edu)|171.64.68.10|:80... connected.\n",
      "HTTP request sent, awaiting response... 200 OK\n",
      "Length: 84125825 (80M) [application/x-gzip]\n",
      "Saving to: ‘../data/aclImdb_v1.tar.gz’\n",
      "\n",
      "../data/aclImdb_v1. 100%[===================>]  80.23M  5.93MB/s    in 17s     \n",
      "\n",
      "2020-01-05 07:18:43 (4.65 MB/s) - ‘../data/aclImdb_v1.tar.gz’ saved [84125825/84125825]\n",
      "\n"
     ]
    }
   ],
   "source": [
    "%mkdir ../data\n",
    "!wget -O ../data/aclImdb_v1.tar.gz http://ai.stanford.edu/~amaas/data/sentiment/aclImdb_v1.tar.gz\n",
    "!tar -zxf ../data/aclImdb_v1.tar.gz -C ../data"
   ]
  },
  {
   "cell_type": "markdown",
   "metadata": {},
   "source": [
    "## Step 2: Preparing and Processing the data\n",
    "\n",
    "Also, as in the XGBoost notebook, we will be doing some initial data processing. The first few steps are the same as in the XGBoost example. To begin with, we will read in each of the reviews and combine them into a single input structure. Then, we will split the dataset into a training set and a testing set."
   ]
  },
  {
   "cell_type": "code",
   "execution_count": 2,
   "metadata": {},
   "outputs": [],
   "source": [
    "import os\n",
    "import glob\n",
    "\n",
    "def read_imdb_data(data_dir='../data/aclImdb'):\n",
    "    data = {}\n",
    "    labels = {}\n",
    "    \n",
    "    for data_type in ['train', 'test']:\n",
    "        data[data_type] = {}\n",
    "        labels[data_type] = {}\n",
    "        \n",
    "        for sentiment in ['pos', 'neg']:\n",
    "            data[data_type][sentiment] = []\n",
    "            labels[data_type][sentiment] = []\n",
    "            \n",
    "            path = os.path.join(data_dir, data_type, sentiment, '*.txt')\n",
    "            files = glob.glob(path)\n",
    "            \n",
    "            for f in files:\n",
    "                with open(f) as review:\n",
    "                    data[data_type][sentiment].append(review.read())\n",
    "                    # Here we represent a positive review by '1' and a negative review by '0'\n",
    "                    labels[data_type][sentiment].append(1 if sentiment == 'pos' else 0)\n",
    "                    \n",
    "            assert len(data[data_type][sentiment]) == len(labels[data_type][sentiment]), \\\n",
    "                    \"{}/{} data size does not match labels size\".format(data_type, sentiment)\n",
    "                \n",
    "    return data, labels"
   ]
  },
  {
   "cell_type": "code",
   "execution_count": 3,
   "metadata": {},
   "outputs": [
    {
     "name": "stdout",
     "output_type": "stream",
     "text": [
      "IMDB reviews: train = 12500 pos / 12500 neg, test = 12500 pos / 12500 neg\n"
     ]
    }
   ],
   "source": [
    "data, labels = read_imdb_data()\n",
    "print(\"IMDB reviews: train = {} pos / {} neg, test = {} pos / {} neg\".format(\n",
    "            len(data['train']['pos']), len(data['train']['neg']),\n",
    "            len(data['test']['pos']), len(data['test']['neg'])))"
   ]
  },
  {
   "cell_type": "markdown",
   "metadata": {},
   "source": [
    "Now that we've read the raw training and testing data from the downloaded dataset, we will combine the positive and negative reviews and shuffle the resulting records."
   ]
  },
  {
   "cell_type": "code",
   "execution_count": 4,
   "metadata": {},
   "outputs": [],
   "source": [
    "from sklearn.utils import shuffle\n",
    "\n",
    "def prepare_imdb_data(data, labels):\n",
    "    \"\"\"Prepare training and test sets from IMDb movie reviews.\"\"\"\n",
    "    \n",
    "    #Combine positive and negative reviews and labels\n",
    "    data_train = data['train']['pos'] + data['train']['neg']\n",
    "    data_test = data['test']['pos'] + data['test']['neg']\n",
    "    labels_train = labels['train']['pos'] + labels['train']['neg']\n",
    "    labels_test = labels['test']['pos'] + labels['test']['neg']\n",
    "    \n",
    "    #Shuffle reviews and corresponding labels within training and test sets\n",
    "    data_train, labels_train = shuffle(data_train, labels_train)\n",
    "    data_test, labels_test = shuffle(data_test, labels_test)\n",
    "    \n",
    "    # Return a unified training data, test data, training labels, test labets\n",
    "    return data_train, data_test, labels_train, labels_test"
   ]
  },
  {
   "cell_type": "code",
   "execution_count": 5,
   "metadata": {},
   "outputs": [
    {
     "name": "stdout",
     "output_type": "stream",
     "text": [
      "IMDb reviews (combined): train = 25000, test = 25000\n"
     ]
    }
   ],
   "source": [
    "train_X, test_X, train_y, test_y = prepare_imdb_data(data, labels)\n",
    "print(\"IMDb reviews (combined): train = {}, test = {}\".format(len(train_X), len(test_X)))"
   ]
  },
  {
   "cell_type": "markdown",
   "metadata": {},
   "source": [
    "Now that we have our training and testing sets unified and prepared, we should do a quick check and see an example of the data our model will be trained on. This is generally a good idea as it allows you to see how each of the further processing steps affects the reviews and it also ensures that the data has been loaded correctly."
   ]
  },
  {
   "cell_type": "code",
   "execution_count": 6,
   "metadata": {},
   "outputs": [
    {
     "name": "stdout",
     "output_type": "stream",
     "text": [
      "A film written and directed by Neil Young, \"Greendale\" is little more than an 87-minute music video set to a doxen or so of the songwriter's works. In lieu of dialogue, the film relies exclusively on Young's lyrics, which are heavily laced with sociopolitical commentary, to tell the \"story\" while actors act out the scenes.<br /><br />Given the hammy performances and the shoddy graininess of the picture, the effect is the equivalent of Young blowing up some of his own home movies and releasing them for public consumption. Although there is allegedly a \"story\" running through the film, we really have no idea what is going on thanks mainly to the unpolished look of the film, the lack of dialogue and the amateurish ineptitude of the acting. All we get for eighty-seven minutes is a bunch of aging hippies cavorting silently through an incoherent narrative while Young's songs play endlessly on the soundtrack. The whole thing turns into a tedious exercise in self-indulgence. \"Greendale\" gives off-Hollywood, low budget movie-making a bad name.\n",
      "0\n"
     ]
    }
   ],
   "source": [
    "print(train_X[100])\n",
    "print(train_y[100])"
   ]
  },
  {
   "cell_type": "markdown",
   "metadata": {},
   "source": [
    "The first step in processing the reviews is to make sure that any html tags that appear should be removed. In addition we wish to tokenize our input, that way words such as *entertained* and *entertaining* are considered the same with regard to sentiment analysis."
   ]
  },
  {
   "cell_type": "code",
   "execution_count": 7,
   "metadata": {},
   "outputs": [],
   "source": [
    "import nltk\n",
    "from nltk.corpus import stopwords\n",
    "from nltk.stem.porter import *\n",
    "\n",
    "import re\n",
    "from bs4 import BeautifulSoup\n",
    "\n",
    "def review_to_words(review):\n",
    "    nltk.download(\"stopwords\", quiet=True)\n",
    "    stemmer = PorterStemmer()\n",
    "    \n",
    "    text = BeautifulSoup(review, \"html.parser\").get_text() # Remove HTML tags\n",
    "    text = re.sub(r\"[^a-zA-Z0-9]\", \" \", text.lower()) # Convert to lower case\n",
    "    words = text.split() # Split string into words\n",
    "    words = [w for w in words if w not in stopwords.words(\"english\")] # Remove stopwords\n",
    "    words = [PorterStemmer().stem(w) for w in words] # stem\n",
    "    \n",
    "    return words"
   ]
  },
  {
   "cell_type": "markdown",
   "metadata": {},
   "source": [
    "The `review_to_words` method defined above uses `BeautifulSoup` to remove any html tags that appear and uses the `nltk` package to tokenize the reviews. As a check to ensure we know how everything is working, try applying `review_to_words` to one of the reviews in the training set."
   ]
  },
  {
   "cell_type": "code",
   "execution_count": 8,
   "metadata": {},
   "outputs": [
    {
     "data": {
      "text/plain": [
       "['film',\n",
       " 'written',\n",
       " 'direct',\n",
       " 'neil',\n",
       " 'young',\n",
       " 'greendal',\n",
       " 'littl',\n",
       " '87',\n",
       " 'minut',\n",
       " 'music',\n",
       " 'video',\n",
       " 'set',\n",
       " 'doxen',\n",
       " 'songwrit',\n",
       " 'work',\n",
       " 'lieu',\n",
       " 'dialogu',\n",
       " 'film',\n",
       " 'reli',\n",
       " 'exclus',\n",
       " 'young',\n",
       " 'lyric',\n",
       " 'heavili',\n",
       " 'lace',\n",
       " 'sociopolit',\n",
       " 'commentari',\n",
       " 'tell',\n",
       " 'stori',\n",
       " 'actor',\n",
       " 'act',\n",
       " 'scene',\n",
       " 'given',\n",
       " 'hammi',\n",
       " 'perform',\n",
       " 'shoddi',\n",
       " 'graini',\n",
       " 'pictur',\n",
       " 'effect',\n",
       " 'equival',\n",
       " 'young',\n",
       " 'blow',\n",
       " 'home',\n",
       " 'movi',\n",
       " 'releas',\n",
       " 'public',\n",
       " 'consumpt',\n",
       " 'although',\n",
       " 'allegedli',\n",
       " 'stori',\n",
       " 'run',\n",
       " 'film',\n",
       " 'realli',\n",
       " 'idea',\n",
       " 'go',\n",
       " 'thank',\n",
       " 'mainli',\n",
       " 'unpolish',\n",
       " 'look',\n",
       " 'film',\n",
       " 'lack',\n",
       " 'dialogu',\n",
       " 'amateurish',\n",
       " 'ineptitud',\n",
       " 'act',\n",
       " 'get',\n",
       " 'eighti',\n",
       " 'seven',\n",
       " 'minut',\n",
       " 'bunch',\n",
       " 'age',\n",
       " 'hippi',\n",
       " 'cavort',\n",
       " 'silent',\n",
       " 'incoher',\n",
       " 'narr',\n",
       " 'young',\n",
       " 'song',\n",
       " 'play',\n",
       " 'endlessli',\n",
       " 'soundtrack',\n",
       " 'whole',\n",
       " 'thing',\n",
       " 'turn',\n",
       " 'tediou',\n",
       " 'exercis',\n",
       " 'self',\n",
       " 'indulg',\n",
       " 'greendal',\n",
       " 'give',\n",
       " 'hollywood',\n",
       " 'low',\n",
       " 'budget',\n",
       " 'movi',\n",
       " 'make',\n",
       " 'bad',\n",
       " 'name']"
      ]
     },
     "execution_count": 8,
     "metadata": {},
     "output_type": "execute_result"
    }
   ],
   "source": [
    "# TODO: Apply review_to_words to a review (train_X[100] or any other review)\n",
    "review_to_words(train_X[100])"
   ]
  },
  {
   "cell_type": "markdown",
   "metadata": {},
   "source": [
    "**Question:** Above we mentioned that `review_to_words` method removes html formatting and allows us to tokenize the words found in a review, for example, converting *entertained* and *entertaining* into *entertain* so that they are treated as though they are the same word. What else, if anything, does this method do to the input?"
   ]
  },
  {
   "cell_type": "markdown",
   "metadata": {},
   "source": [
    "**Answer:**\n",
    "This method will reduce the word tokens by converting multiple occuring words which hold the same information into a single word, which implies a reduced training cost. Additionaly it also removes HTML and XML tags, Converts all the words to lower case and removes unncesseary charatcers such as punctuations and by allowing only characters and numbers. And finally it removes stopwords."
   ]
  },
  {
   "cell_type": "markdown",
   "metadata": {},
   "source": [
    "The method below applies the `review_to_words` method to each of the reviews in the training and testing datasets. In addition it caches the results. This is because performing this processing step can take a long time. This way if you are unable to complete the notebook in the current session, you can come back without needing to process the data a second time."
   ]
  },
  {
   "cell_type": "code",
   "execution_count": 9,
   "metadata": {},
   "outputs": [],
   "source": [
    "import pickle\n",
    "\n",
    "cache_dir = os.path.join(\"../cache\", \"sentiment_analysis\")  # where to store cache files\n",
    "os.makedirs(cache_dir, exist_ok=True)  # ensure cache directory exists\n",
    "\n",
    "def preprocess_data(data_train, data_test, labels_train, labels_test,\n",
    "                    cache_dir=cache_dir, cache_file=\"preprocessed_data.pkl\"):\n",
    "    \"\"\"Convert each review to words; read from cache if available.\"\"\"\n",
    "\n",
    "    # If cache_file is not None, try to read from it first\n",
    "    cache_data = None\n",
    "    if cache_file is not None:\n",
    "        try:\n",
    "            with open(os.path.join(cache_dir, cache_file), \"rb\") as f:\n",
    "                cache_data = pickle.load(f)\n",
    "            print(\"Read preprocessed data from cache file:\", cache_file)\n",
    "        except:\n",
    "            pass  # unable to read from cache, but that's okay\n",
    "    \n",
    "    # If cache is missing, then do the heavy lifting\n",
    "    if cache_data is None:\n",
    "        # Preprocess training and test data to obtain words for each review\n",
    "        #words_train = list(map(review_to_words, data_train))\n",
    "        #words_test = list(map(review_to_words, data_test))\n",
    "        words_train = [review_to_words(review) for review in data_train]\n",
    "        words_test = [review_to_words(review) for review in data_test]\n",
    "        \n",
    "        # Write to cache file for future runs\n",
    "        if cache_file is not None:\n",
    "            cache_data = dict(words_train=words_train, words_test=words_test,\n",
    "                              labels_train=labels_train, labels_test=labels_test)\n",
    "            with open(os.path.join(cache_dir, cache_file), \"wb\") as f:\n",
    "                pickle.dump(cache_data, f)\n",
    "            print(\"Wrote preprocessed data to cache file:\", cache_file)\n",
    "    else:\n",
    "        # Unpack data loaded from cache file\n",
    "        words_train, words_test, labels_train, labels_test = (cache_data['words_train'],\n",
    "                cache_data['words_test'], cache_data['labels_train'], cache_data['labels_test'])\n",
    "    \n",
    "    return words_train, words_test, labels_train, labels_test"
   ]
  },
  {
   "cell_type": "code",
   "execution_count": 10,
   "metadata": {},
   "outputs": [
    {
     "name": "stdout",
     "output_type": "stream",
     "text": [
      "Wrote preprocessed data to cache file: preprocessed_data.pkl\n"
     ]
    }
   ],
   "source": [
    "# Preprocess data\n",
    "train_X, test_X, train_y, test_y = preprocess_data(train_X, test_X, train_y, test_y)"
   ]
  },
  {
   "cell_type": "markdown",
   "metadata": {},
   "source": [
    "## Transform the data\n",
    "\n",
    "In the XGBoost notebook we transformed the data from its word representation to a bag-of-words feature representation. For the model we are going to construct in this notebook we will construct a feature representation which is very similar. To start, we will represent each word as an integer. Of course, some of the words that appear in the reviews occur very infrequently and so likely don't contain much information for the purposes of sentiment analysis. The way we will deal with this problem is that we will fix the size of our working vocabulary and we will only include the words that appear most frequently. We will then combine all of the infrequent words into a single category and, in our case, we will label it as `1`.\n",
    "\n",
    "Since we will be using a recurrent neural network, it will be convenient if the length of each review is the same. To do this, we will fix a size for our reviews and then pad short reviews with the category 'no word' (which we will label `0`) and truncate long reviews."
   ]
  },
  {
   "cell_type": "markdown",
   "metadata": {},
   "source": [
    "### (TODO) Create a word dictionary\n",
    "\n",
    "To begin with, we need to construct a way to map words that appear in the reviews to integers. Here we fix the size of our vocabulary (including the 'no word' and 'infrequent' categories) to be `5000` but you may wish to change this to see how it affects the model.\n",
    "\n",
    "> **TODO:** Complete the implementation for the `build_dict()` method below. Note that even though the vocab_size is set to `5000`, we only want to construct a mapping for the most frequently appearing `4998` words. This is because we want to reserve the special labels `0` for 'no word' and `1` for 'infrequent word'."
   ]
  },
  {
   "cell_type": "code",
   "execution_count": 13,
   "metadata": {},
   "outputs": [],
   "source": [
    "import numpy as np\n",
    "import re\n",
    "from collections import Counter\n",
    "\n",
    "def build_dict(data, vocab_size = 5000):\n",
    "    \"\"\"Construct and return a dictionary mapping each of the most frequently appearing words to a unique integer.\"\"\"\n",
    "    \n",
    "    # TODO: Determine how often each word appears in `data`. Note that `data` is a list of sentences and that a\n",
    "    #       sentence is a list of words.\n",
    "    \n",
    "    word_counts = Counter(np.concatenate(data,axis=0)) # A dict storing the words that appear in the reviews along with how often they occur\n",
    "    \n",
    "    # TODO: Sort the words found in `data` so that sorted_words[0] is the most frequently appearing word and\n",
    "    #       sorted_words[-1] is the least frequently appearing word.\n",
    "    \n",
    "    sorted_words = sorted(word_counts,key=word_counts.get, reverse=True)\n",
    "    \n",
    "    word_dict = {} # This is what we are building, a dictionary that translates words into integers\n",
    "    for idx, word in enumerate(sorted_words[:vocab_size - 2]): # The -2 is so that we save room for the 'no word'\n",
    "        word_dict[word] = idx + 2                              # 'infrequent' labels\n",
    "        \n",
    "    return word_dict"
   ]
  },
  {
   "cell_type": "code",
   "execution_count": 14,
   "metadata": {},
   "outputs": [
    {
     "name": "stdout",
     "output_type": "stream",
     "text": [
      "{'movi': 2, 'film': 3, 'one': 4, 'like': 5, 'time': 6, 'good': 7, 'make': 8, 'charact': 9, 'get': 10, 'see': 11, 'watch': 12, 'stori': 13, 'even': 14, 'would': 15, 'realli': 16, 'well': 17, 'scene': 18, 'look': 19, 'show': 20, 'much': 21, 'end': 22, 'peopl': 23, 'bad': 24, 'go': 25, 'great': 26, 'also': 27, 'first': 28, 'love': 29, 'think': 30, 'way': 31, 'act': 32, 'play': 33, 'made': 34, 'thing': 35, 'could': 36, 'know': 37, 'say': 38, 'seem': 39, 'work': 40, 'plot': 41, 'two': 42, 'actor': 43, 'year': 44, 'come': 45, 'mani': 46, 'seen': 47, 'take': 48, 'want': 49, 'life': 50, 'never': 51, 'littl': 52, 'best': 53, 'tri': 54, 'man': 55, 'ever': 56, 'give': 57, 'better': 58, 'still': 59, 'perform': 60, 'find': 61, 'feel': 62, 'part': 63, 'back': 64, 'use': 65, 'someth': 66, 'director': 67, 'actual': 68, 'interest': 69, 'lot': 70, 'real': 71, 'old': 72, 'cast': 73, 'though': 74, 'live': 75, 'star': 76, 'enjoy': 77, 'guy': 78, 'anoth': 79, 'new': 80, 'role': 81, 'noth': 82, '10': 83, 'funni': 84, 'music': 85, 'point': 86, 'start': 87, 'set': 88, 'girl': 89, 'origin': 90, 'day': 91, 'world': 92, 'everi': 93, 'believ': 94, 'turn': 95, 'quit': 96, 'direct': 97, 'us': 98, 'thought': 99, 'fact': 100, 'minut': 101, 'horror': 102, 'kill': 103, 'action': 104, 'comedi': 105, 'pretti': 106, 'young': 107, 'wonder': 108, 'happen': 109, 'around': 110, 'got': 111, 'effect': 112, 'right': 113, 'long': 114, 'howev': 115, 'big': 116, 'line': 117, 'famili': 118, 'enough': 119, 'seri': 120, 'may': 121, 'need': 122, 'fan': 123, 'bit': 124, 'script': 125, 'beauti': 126, 'person': 127, 'becom': 128, 'without': 129, 'must': 130, 'alway': 131, 'friend': 132, 'tell': 133, 'reason': 134, 'saw': 135, 'last': 136, 'final': 137, 'kid': 138, 'almost': 139, 'put': 140, 'least': 141, 'sure': 142, 'done': 143, 'whole': 144, 'place': 145, 'complet': 146, 'kind': 147, 'differ': 148, 'expect': 149, 'shot': 150, 'far': 151, 'mean': 152, 'anyth': 153, 'book': 154, 'laugh': 155, 'might': 156, 'name': 157, 'sinc': 158, 'begin': 159, '2': 160, 'probabl': 161, 'woman': 162, 'help': 163, 'entertain': 164, 'let': 165, 'screen': 166, 'call': 167, 'tv': 168, 'moment': 169, 'away': 170, 'read': 171, 'yet': 172, 'rather': 173, 'worst': 174, 'run': 175, 'fun': 176, 'lead': 177, 'hard': 178, 'audienc': 179, 'idea': 180, 'anyon': 181, 'episod': 182, 'american': 183, 'found': 184, 'appear': 185, 'bore': 186, 'especi': 187, 'although': 188, 'hope': 189, 'cours': 190, 'keep': 191, 'anim': 192, 'job': 193, 'goe': 194, 'move': 195, 'sens': 196, 'dvd': 197, 'version': 198, 'war': 199, 'money': 200, 'someon': 201, 'mind': 202, 'mayb': 203, 'problem': 204, 'true': 205, 'hous': 206, 'everyth': 207, 'nice': 208, 'second': 209, 'rate': 210, 'three': 211, 'night': 212, 'face': 213, 'follow': 214, 'recommend': 215, 'product': 216, 'main': 217, 'worth': 218, 'leav': 219, 'human': 220, 'special': 221, 'excel': 222, 'togeth': 223, 'wast': 224, 'sound': 225, 'everyon': 226, 'john': 227, 'hand': 228, '1': 229, 'father': 230, 'later': 231, 'eye': 232, 'said': 233, 'view': 234, 'instead': 235, 'review': 236, 'boy': 237, 'high': 238, 'hour': 239, 'miss': 240, 'talk': 241, 'classic': 242, 'wife': 243, 'understand': 244, 'left': 245, 'care': 246, 'black': 247, 'death': 248, 'open': 249, 'murder': 250, 'write': 251, 'half': 252, 'head': 253, 'rememb': 254, 'chang': 255, 'viewer': 256, 'fight': 257, 'gener': 258, 'surpris': 259, 'short': 260, 'includ': 261, 'die': 262, 'fall': 263, 'less': 264, 'els': 265, 'entir': 266, 'piec': 267, 'involv': 268, 'pictur': 269, 'simpli': 270, 'power': 271, 'top': 272, 'home': 273, 'total': 274, 'usual': 275, 'budget': 276, 'attempt': 277, 'suppos': 278, 'releas': 279, 'hollywood': 280, 'terribl': 281, 'song': 282, 'men': 283, 'possibl': 284, 'featur': 285, 'portray': 286, 'disappoint': 287, 'poor': 288, '3': 289, 'coupl': 290, 'stupid': 291, 'camera': 292, 'dead': 293, 'wrong': 294, 'produc': 295, 'low': 296, 'video': 297, 'either': 298, 'aw': 299, 'definit': 300, 'except': 301, 'rest': 302, 'given': 303, 'absolut': 304, 'women': 305, 'lack': 306, 'word': 307, 'writer': 308, 'titl': 309, 'talent': 310, 'decid': 311, 'full': 312, 'perfect': 313, 'along': 314, 'style': 315, 'close': 316, 'truli': 317, 'school': 318, 'save': 319, 'emot': 320, 'age': 321, 'sex': 322, 'next': 323, 'bring': 324, 'mr': 325, 'case': 326, 'killer': 327, 'heart': 328, 'comment': 329, 'sort': 330, 'creat': 331, 'perhap': 332, 'came': 333, 'brother': 334, 'sever': 335, 'joke': 336, 'art': 337, 'dialogu': 338, 'game': 339, 'small': 340, 'base': 341, 'flick': 342, 'written': 343, 'sequenc': 344, 'meet': 345, 'earli': 346, 'often': 347, 'other': 348, 'mother': 349, 'develop': 350, 'humor': 351, 'actress': 352, 'consid': 353, 'dark': 354, 'guess': 355, 'amaz': 356, 'unfortun': 357, 'lost': 358, 'light': 359, 'exampl': 360, 'cinema': 361, 'drama': 362, 'ye': 363, 'white': 364, 'experi': 365, 'imagin': 366, 'mention': 367, 'stop': 368, 'natur': 369, 'forc': 370, 'manag': 371, 'felt': 372, 'cut': 373, 'present': 374, 'children': 375, 'fail': 376, 'son': 377, 'qualiti': 378, 'support': 379, 'car': 380, 'ask': 381, 'hit': 382, 'side': 383, 'voic': 384, 'extrem': 385, 'impress': 386, 'evil': 387, 'wors': 388, 'went': 389, 'stand': 390, 'certainli': 391, 'basic': 392, 'oh': 393, 'overal': 394, 'favorit': 395, 'horribl': 396, 'mysteri': 397, 'number': 398, 'type': 399, 'danc': 400, 'wait': 401, 'hero': 402, '5': 403, 'alreadi': 404, 'learn': 405, 'matter': 406, '4': 407, 'michael': 408, 'genr': 409, 'fine': 410, 'despit': 411, 'throughout': 412, 'walk': 413, 'success': 414, 'histori': 415, 'question': 416, 'zombi': 417, 'town': 418, 'relationship': 419, 'realiz': 420, 'past': 421, 'child': 422, 'daughter': 423, 'late': 424, 'b': 425, 'wish': 426, 'credit': 427, 'hate': 428, 'event': 429, 'theme': 430, 'touch': 431, 'citi': 432, 'today': 433, 'sometim': 434, 'behind': 435, 'god': 436, 'twist': 437, 'sit': 438, 'stay': 439, 'deal': 440, 'annoy': 441, 'abl': 442, 'rent': 443, 'pleas': 444, 'edit': 445, 'blood': 446, 'deserv': 447, 'comic': 448, 'anyway': 449, 'appar': 450, 'soon': 451, 'gave': 452, 'etc': 453, 'level': 454, 'slow': 455, 'chanc': 456, 'score': 457, 'bodi': 458, 'brilliant': 459, 'incred': 460, 'figur': 461, 'situat': 462, 'major': 463, 'self': 464, 'stuff': 465, 'decent': 466, 'element': 467, 'dream': 468, 'return': 469, 'obvious': 470, 'order': 471, 'continu': 472, 'pace': 473, 'ridicul': 474, 'happi': 475, 'highli': 476, 'group': 477, 'add': 478, 'thank': 479, 'ladi': 480, 'novel': 481, 'speak': 482, 'pain': 483, 'career': 484, 'shoot': 485, 'strang': 486, 'heard': 487, 'sad': 488, 'polic': 489, 'husband': 490, 'import': 491, 'break': 492, 'took': 493, 'strong': 494, 'cannot': 495, 'predict': 496, 'robert': 497, 'violenc': 498, 'hilari': 499, 'recent': 500, 'countri': 501, 'known': 502, 'particularli': 503, 'pick': 504, 'documentari': 505, 'season': 506, 'critic': 507, 'jame': 508, 'compar': 509, 'obviou': 510, 'alon': 511, 'told': 512, 'state': 513, 'visual': 514, 'rock': 515, 'offer': 516, 'exist': 517, 'theater': 518, 'opinion': 519, 'gore': 520, 'crap': 521, 'hold': 522, 'result': 523, 'room': 524, 'hear': 525, 'realiti': 526, 'clich': 527, 'effort': 528, 'thriller': 529, 'caus': 530, 'sequel': 531, 'serious': 532, 'explain': 533, 'king': 534, 'local': 535, 'ago': 536, 'hell': 537, 'none': 538, 'note': 539, 'allow': 540, 'sister': 541, 'david': 542, 'simpl': 543, 'femal': 544, 'deliv': 545, 'ok': 546, 'convinc': 547, 'class': 548, 'check': 549, 'suspens': 550, 'win': 551, 'buy': 552, 'oscar': 553, 'huge': 554, 'valu': 555, 'sexual': 556, 'cool': 557, 'scari': 558, 'similar': 559, 'excit': 560, 'apart': 561, 'exactli': 562, 'provid': 563, 'shown': 564, 'avoid': 565, 'seriou': 566, 'english': 567, 'whose': 568, 'taken': 569, 'cinematographi': 570, 'shock': 571, 'polit': 572, 'spoiler': 573, 'offic': 574, 'across': 575, 'middl': 576, 'street': 577, 'pass': 578, 'messag': 579, 'somewhat': 580, 'silli': 581, 'charm': 582, 'modern': 583, 'filmmak': 584, 'confus': 585, 'form': 586, 'tale': 587, 'singl': 588, 'jack': 589, 'mostli': 590, 'william': 591, 'attent': 592, 'carri': 593, 'sing': 594, 'subject': 595, 'five': 596, 'richard': 597, 'prove': 598, 'stage': 599, 'team': 600, 'unlik': 601, 'cop': 602, 'georg': 603, 'televis': 604, 'monster': 605, 'earth': 606, 'cover': 607, 'villain': 608, 'pay': 609, 'marri': 610, 'toward': 611, 'build': 612, 'pull': 613, 'parent': 614, 'due': 615, 'respect': 616, 'fill': 617, 'dialog': 618, 'four': 619, 'remind': 620, 'futur': 621, 'typic': 622, 'weak': 623, '7': 624, 'cheap': 625, 'intellig': 626, 'atmospher': 627, 'british': 628, 'clearli': 629, '80': 630, 'dog': 631, 'paul': 632, 'non': 633, '8': 634, 'knew': 635, 'artist': 636, 'fast': 637, 'crime': 638, 'easili': 639, 'escap': 640, 'doubt': 641, 'adult': 642, 'detail': 643, 'date': 644, 'fire': 645, 'member': 646, 'romant': 647, 'drive': 648, 'gun': 649, 'straight': 650, 'beyond': 651, 'fit': 652, 'attack': 653, 'imag': 654, 'upon': 655, 'posit': 656, 'whether': 657, 'fantast': 658, 'peter': 659, 'aspect': 660, 'appreci': 661, 'captur': 662, 'ten': 663, 'plan': 664, 'discov': 665, 'remain': 666, 'near': 667, 'period': 668, 'air': 669, 'realist': 670, 'mark': 671, 'red': 672, 'dull': 673, 'adapt': 674, 'within': 675, 'lose': 676, 'spend': 677, 'color': 678, 'materi': 679, 'chase': 680, 'mari': 681, 'storylin': 682, 'forget': 683, 'bunch': 684, 'clear': 685, 'lee': 686, 'victim': 687, 'nearli': 688, 'box': 689, 'york': 690, 'inspir': 691, 'match': 692, 'finish': 693, 'mess': 694, 'standard': 695, 'easi': 696, 'truth': 697, 'suffer': 698, 'busi': 699, 'space': 700, 'bill': 701, 'dramat': 702, 'western': 703, 'e': 704, 'list': 705, 'battl': 706, 'notic': 707, 'de': 708, 'french': 709, 'ad': 710, '9': 711, 'tom': 712, 'larg': 713, 'among': 714, 'eventu': 715, 'accept': 716, 'train': 717, 'agre': 718, 'soundtrack': 719, 'spirit': 720, 'third': 721, 'teenag': 722, 'adventur': 723, 'soldier': 724, 'sorri': 725, 'drug': 726, 'famou': 727, 'suggest': 728, 'normal': 729, 'cri': 730, 'babi': 731, 'ultim': 732, 'troubl': 733, 'contain': 734, 'certain': 735, 'cultur': 736, 'romanc': 737, 'rare': 738, 'lame': 739, 'somehow': 740, 'mix': 741, 'disney': 742, 'gone': 743, 'cartoon': 744, 'student': 745, 'reveal': 746, 'fear': 747, 'kept': 748, 'suck': 749, 'attract': 750, 'appeal': 751, 'premis': 752, 'secret': 753, 'greatest': 754, 'design': 755, 'shame': 756, 'throw': 757, 'copi': 758, 'scare': 759, 'wit': 760, 'admit': 761, 'america': 762, 'brought': 763, 'relat': 764, 'particular': 765, 'screenplay': 766, 'whatev': 767, 'pure': 768, '70': 769, 'harri': 770, 'averag': 771, 'master': 772, 'describ': 773, 'treat': 774, 'male': 775, '20': 776, 'issu': 777, 'fantasi': 778, 'warn': 779, 'inde': 780, 'forward': 781, 'background': 782, 'free': 783, 'project': 784, 'japanes': 785, 'memor': 786, 'poorli': 787, 'award': 788, 'locat': 789, 'amus': 790, 'potenti': 791, 'struggl': 792, 'weird': 793, 'magic': 794, 'societi': 795, 'okay': 796, 'accent': 797, 'imdb': 798, 'doctor': 799, 'water': 800, 'hot': 801, 'alien': 802, '30': 803, 'express': 804, 'dr': 805, 'odd': 806, 'choic': 807, 'crazi': 808, 'studio': 809, 'fiction': 810, 'control': 811, 'becam': 812, 'masterpiec': 813, 'difficult': 814, 'fli': 815, 'joe': 816, 'scream': 817, 'costum': 818, 'lover': 819, 'refer': 820, 'uniqu': 821, 'remak': 822, 'girlfriend': 823, 'vampir': 824, 'prison': 825, 'execut': 826, 'wear': 827, 'jump': 828, 'wood': 829, 'unless': 830, 'creepi': 831, 'cheesi': 832, 'superb': 833, 'otherwis': 834, 'parti': 835, 'roll': 836, 'ghost': 837, 'mad': 838, 'public': 839, 'depict': 840, 'badli': 841, 'week': 842, 'moral': 843, 'earlier': 844, 'jane': 845, 'dumb': 846, 'fi': 847, 'flaw': 848, 'grow': 849, 'sci': 850, 'deep': 851, 'cat': 852, 'maker': 853, 'footag': 854, 'older': 855, 'connect': 856, 'bother': 857, 'plenti': 858, 'outsid': 859, 'stick': 860, 'gay': 861, 'catch': 862, 'co': 863, 'plu': 864, 'popular': 865, 'equal': 866, 'social': 867, 'quickli': 868, 'disturb': 869, 'perfectli': 870, 'dress': 871, 'era': 872, '90': 873, 'mistak': 874, 'lie': 875, 'ride': 876, 'previou': 877, 'combin': 878, 'concept': 879, 'band': 880, 'answer': 881, 'rich': 882, 'surviv': 883, 'front': 884, 'sweet': 885, 'christma': 886, 'insid': 887, 'eat': 888, 'concern': 889, 'bare': 890, 'listen': 891, 'beat': 892, 'ben': 893, 'c': 894, 'serv': 895, 'term': 896, 'german': 897, 'meant': 898, 'la': 899, 'stereotyp': 900, 'hardli': 901, 'law': 902, 'innoc': 903, 'desper': 904, 'memori': 905, 'promis': 906, 'cute': 907, 'intent': 908, 'inform': 909, 'steal': 910, 'variou': 911, 'brain': 912, 'post': 913, 'tone': 914, 'island': 915, 'amount': 916, 'nuditi': 917, 'compani': 918, 'track': 919, 'store': 920, 'claim': 921, 'flat': 922, '50': 923, 'hair': 924, 'land': 925, 'univers': 926, 'kick': 927, 'danger': 928, 'fairli': 929, 'scott': 930, 'player': 931, 'step': 932, 'crew': 933, 'plain': 934, 'toni': 935, 'share': 936, 'tast': 937, 'centuri': 938, 'achiev': 939, 'engag': 940, 'travel': 941, 'cold': 942, 'suit': 943, 'record': 944, 'rip': 945, 'sadli': 946, 'manner': 947, 'wrote': 948, 'spot': 949, 'tension': 950, 'fascin': 951, 'intens': 952, 'familiar': 953, 'burn': 954, 'remark': 955, 'depth': 956, 'histor': 957, 'destroy': 958, 'sleep': 959, 'purpos': 960, 'languag': 961, 'ruin': 962, 'ignor': 963, 'delight': 964, 'italian': 965, 'unbeliev': 966, 'abil': 967, 'soul': 968, 'collect': 969, 'clever': 970, 'detect': 971, 'violent': 972, 'rape': 973, 'reach': 974, 'door': 975, 'trash': 976, 'liter': 977, 'scienc': 978, 'caught': 979, 'reveng': 980, 'commun': 981, 'creatur': 982, 'trip': 983, 'approach': 984, 'intrigu': 985, 'fashion': 986, 'skill': 987, 'introduc': 988, 'paint': 989, 'complex': 990, 'channel': 991, 'camp': 992, 'christian': 993, 'hole': 994, 'extra': 995, 'mental': 996, 'limit': 997, 'immedi': 998, 'ann': 999, 'million': 1000, 'slightli': 1001, 'comput': 1002, '6': 1003, 'mere': 1004, 'slasher': 1005, 'conclus': 1006, 'suddenli': 1007, 'imposs': 1008, 'neither': 1009, 'teen': 1010, 'crimin': 1011, 'spent': 1012, 'physic': 1013, 'nation': 1014, 'respons': 1015, 'planet': 1016, 'fake': 1017, 'receiv': 1018, 'blue': 1019, 'sick': 1020, 'bizarr': 1021, 'embarrass': 1022, 'indian': 1023, '15': 1024, 'ring': 1025, 'drop': 1026, 'pop': 1027, 'drag': 1028, 'haunt': 1029, 'suspect': 1030, 'pointless': 1031, 'search': 1032, 'edg': 1033, 'handl': 1034, 'common': 1035, 'biggest': 1036, 'hurt': 1037, 'faith': 1038, 'arriv': 1039, 'technic': 1040, 'angel': 1041, 'genuin': 1042, 'dad': 1043, 'solid': 1044, 'awesom': 1045, 'f': 1046, 'focu': 1047, 'van': 1048, 'former': 1049, 'colleg': 1050, 'count': 1051, 'tear': 1052, 'heavi': 1053, 'rais': 1054, 'wall': 1055, 'laughabl': 1056, 'younger': 1057, 'visit': 1058, 'sign': 1059, 'fair': 1060, 'excus': 1061, 'cult': 1062, 'key': 1063, 'motion': 1064, 'tough': 1065, 'desir': 1066, 'super': 1067, 'addit': 1068, 'stun': 1069, 'cloth': 1070, 'exploit': 1071, 'smith': 1072, 'tortur': 1073, 'race': 1074, 'davi': 1075, 'author': 1076, 'cross': 1077, 'jim': 1078, 'compel': 1079, 'consist': 1080, 'minor': 1081, 'focus': 1082, 'chemistri': 1083, 'commit': 1084, 'pathet': 1085, 'park': 1086, 'frank': 1087, 'tradit': 1088, 'obsess': 1089, 'grade': 1090, '60': 1091, 'asid': 1092, 'brutal': 1093, 'somewher': 1094, 'steve': 1095, 'grant': 1096, 'depress': 1097, 'rule': 1098, 'explor': 1099, 'opportun': 1100, 'u': 1101, 'honest': 1102, 'besid': 1103, 'dub': 1104, 'anti': 1105, 'trailer': 1106, 'intend': 1107, 'bar': 1108, 'west': 1109, 'longer': 1110, 'scientist': 1111, 'regard': 1112, 'decad': 1113, 'judg': 1114, 'silent': 1115, 'creativ': 1116, 'armi': 1117, 'wild': 1118, 'south': 1119, 'g': 1120, 'stewart': 1121, 'draw': 1122, 'road': 1123, 'govern': 1124, 'boss': 1125, 'ex': 1126, 'practic': 1127, 'club': 1128, 'motiv': 1129, 'gang': 1130, 'festiv': 1131, 'surprisingli': 1132, 'london': 1133, 'page': 1134, 'green': 1135, 'redeem': 1136, 'aliv': 1137, 'machin': 1138, 'display': 1139, 'militari': 1140, 'idiot': 1141, 'repeat': 1142, 'thrill': 1143, 'folk': 1144, 'nobodi': 1145, '100': 1146, 'yeah': 1147, '40': 1148, 'garbag': 1149, 'journey': 1150, 'ground': 1151, 'tire': 1152, 'smile': 1153, 'bought': 1154, 'mood': 1155, 'stone': 1156, 'cost': 1157, 'sam': 1158, 'mouth': 1159, 'noir': 1160, 'agent': 1161, 'terrif': 1162, 'requir': 1163, 'utterli': 1164, 'honestli': 1165, 'sexi': 1166, 'area': 1167, 'report': 1168, 'geniu': 1169, 'glad': 1170, 'enter': 1171, 'humour': 1172, 'investig': 1173, 'serial': 1174, 'narr': 1175, 'occasion': 1176, 'passion': 1177, 'climax': 1178, 'marriag': 1179, 'studi': 1180, 'industri': 1181, 'nowher': 1182, 'ship': 1183, 'charli': 1184, 'center': 1185, 'demon': 1186, 'loos': 1187, 'bear': 1188, 'hors': 1189, 'wow': 1190, 'hang': 1191, 'graphic': 1192, 'giant': 1193, 'admir': 1194, 'send': 1195, 'damn': 1196, 'loud': 1197, 'subtl': 1198, 'profession': 1199, 'rel': 1200, 'nake': 1201, 'blow': 1202, 'bottom': 1203, 'batman': 1204, 'insult': 1205, 'doubl': 1206, 'boyfriend': 1207, 'r': 1208, 'kelli': 1209, 'initi': 1210, 'frame': 1211, 'gem': 1212, 'opera': 1213, 'church': 1214, 'cinemat': 1215, 'affect': 1216, 'drawn': 1217, 'challeng': 1218, 'fulli': 1219, 'seek': 1220, 'j': 1221, 'nightmar': 1222, 'l': 1223, 'evid': 1224, 'essenti': 1225, 'arm': 1226, 'conflict': 1227, 'wind': 1228, 'grace': 1229, 'christoph': 1230, 'henri': 1231, 'assum': 1232, 'narrat': 1233, 'witch': 1234, 'hunt': 1235, 'push': 1236, 'wise': 1237, 'chri': 1238, 'repres': 1239, 'month': 1240, 'nomin': 1241, 'affair': 1242, 'sceneri': 1243, 'avail': 1244, 'hide': 1245, 'smart': 1246, 'justic': 1247, 'thu': 1248, 'bond': 1249, 'flashback': 1250, 'interview': 1251, 'outstand': 1252, 'satisfi': 1253, 'presenc': 1254, 'constantli': 1255, 'central': 1256, 'bed': 1257, 'content': 1258, 'sell': 1259, 'iron': 1260, 'everybodi': 1261, 'gag': 1262, 'slowli': 1263, 'hotel': 1264, 'hire': 1265, 'system': 1266, 'charl': 1267, 'thrown': 1268, 'hey': 1269, 'individu': 1270, 'adam': 1271, 'mediocr': 1272, 'jone': 1273, 'allen': 1274, 'billi': 1275, 'lesson': 1276, 'ray': 1277, 'cameo': 1278, 'photographi': 1279, 'fellow': 1280, 'pari': 1281, 'strike': 1282, 'rise': 1283, 'independ': 1284, 'brief': 1285, 'absurd': 1286, 'neg': 1287, 'phone': 1288, 'impact': 1289, 'model': 1290, 'born': 1291, 'ill': 1292, 'fresh': 1293, 'spoil': 1294, 'angl': 1295, 'abus': 1296, 'likabl': 1297, 'discuss': 1298, 'hill': 1299, 'sight': 1300, 'ahead': 1301, 'photograph': 1302, 'sent': 1303, 'blame': 1304, 'logic': 1305, 'shine': 1306, 'occur': 1307, 'bruce': 1308, 'mainli': 1309, 'skip': 1310, 'forev': 1311, 'commerci': 1312, 'segment': 1313, 'held': 1314, 'surround': 1315, 'teacher': 1316, 'blond': 1317, 'zero': 1318, 'satir': 1319, 'trap': 1320, 'resembl': 1321, 'summer': 1322, 'six': 1323, 'queen': 1324, 'fool': 1325, 'ball': 1326, 'sub': 1327, 'tragedi': 1328, 'twice': 1329, 'reaction': 1330, 'pack': 1331, 'bomb': 1332, 'protagonist': 1333, 'hospit': 1334, 'will': 1335, 'sport': 1336, 'mile': 1337, 'jerri': 1338, 'mom': 1339, 'trust': 1340, 'vote': 1341, 'drink': 1342, 'encount': 1343, 'plane': 1344, 'current': 1345, 'station': 1346, 'program': 1347, 'al': 1348, 'choos': 1349, 'martin': 1350, 'celebr': 1351, 'join': 1352, 'field': 1353, 'favourit': 1354, 'lord': 1355, 'round': 1356, 'tragic': 1357, 'jean': 1358, 'vision': 1359, 'robot': 1360, 'tie': 1361, 'arthur': 1362, 'random': 1363, 'roger': 1364, 'fortun': 1365, 'dread': 1366, 'intern': 1367, 'psycholog': 1368, 'nonsens': 1369, 'prefer': 1370, 'epic': 1371, 'improv': 1372, 'highlight': 1373, 'formula': 1374, 'pleasur': 1375, 'legend': 1376, '11': 1377, 'tape': 1378, 'dollar': 1379, 'wide': 1380, 'fox': 1381, 'thin': 1382, 'gorgeou': 1383, 'object': 1384, 'porn': 1385, 'buddi': 1386, 'ugli': 1387, 'influenc': 1388, 'ii': 1389, 'prepar': 1390, 'nasti': 1391, 'supposedli': 1392, 'warm': 1393, 'progress': 1394, 'reflect': 1395, 'worthi': 1396, 'youth': 1397, 'length': 1398, 'latter': 1399, 'unusu': 1400, 'crash': 1401, 'shop': 1402, 'seven': 1403, 'childhood': 1404, 'superior': 1405, 'theatr': 1406, 'remot': 1407, 'disgust': 1408, 'funniest': 1409, 'pilot': 1410, 'paid': 1411, 'fell': 1412, 'trick': 1413, 'convers': 1414, 'castl': 1415, 'gangster': 1416, 'disast': 1417, 'establish': 1418, 'rob': 1419, 'mine': 1420, 'ident': 1421, 'heaven': 1422, 'disappear': 1423, 'suicid': 1424, 'mask': 1425, 'forgotten': 1426, 'heroin': 1427, 'decis': 1428, 'tend': 1429, 'singer': 1430, 'brian': 1431, 'partner': 1432, 'alan': 1433, 'recogn': 1434, 'desert': 1435, 'sky': 1436, 'stuck': 1437, 'thoroughli': 1438, 'p': 1439, 'ms': 1440, 'accur': 1441, 'replac': 1442, 'market': 1443, 'uncl': 1444, 'andi': 1445, 'seemingli': 1446, 'danni': 1447, 'commentari': 1448, 'clue': 1449, 'eddi': 1450, 'devil': 1451, 'jackson': 1452, 'that': 1453, 'pair': 1454, 'therefor': 1455, 'refus': 1456, 'fault': 1457, 'fate': 1458, 'river': 1459, 'ed': 1460, 'accid': 1461, 'unit': 1462, 'afraid': 1463, 'tune': 1464, 'hidden': 1465, 'clean': 1466, 'russian': 1467, 'stephen': 1468, 'readi': 1469, 'test': 1470, 'instanc': 1471, 'quick': 1472, 'convey': 1473, 'irrit': 1474, 'captain': 1475, 'european': 1476, 'insan': 1477, 'frustrat': 1478, 'daniel': 1479, 'food': 1480, '1950': 1481, 'rescu': 1482, 'wed': 1483, 'chines': 1484, 'lock': 1485, 'angri': 1486, 'dirti': 1487, 'joy': 1488, 'steven': 1489, 'price': 1490, 'cage': 1491, 'bland': 1492, 'rang': 1493, 'anymor': 1494, 'wooden': 1495, 'rush': 1496, 'news': 1497, 'jason': 1498, 'n': 1499, 'board': 1500, 'worri': 1501, 'twenti': 1502, 'martial': 1503, 'led': 1504, '12': 1505, 'transform': 1506, 'hunter': 1507, 'cgi': 1508, 'symbol': 1509, 'piti': 1510, 'onto': 1511, 'johnni': 1512, 'invent': 1513, 'sentiment': 1514, 'x': 1515, 'process': 1516, 'attitud': 1517, 'explan': 1518, 'owner': 1519, 'awar': 1520, 'aim': 1521, 'floor': 1522, 'target': 1523, 'favor': 1524, 'necessari': 1525, 'energi': 1526, 'religi': 1527, 'opposit': 1528, 'blind': 1529, 'chick': 1530, 'window': 1531, 'insight': 1532, 'movement': 1533, 'possess': 1534, 'deepli': 1535, 'research': 1536, 'mountain': 1537, 'comparison': 1538, 'comed': 1539, 'whatsoev': 1540, 'rain': 1541, 'grand': 1542, 'began': 1543, 'mid': 1544, 'bank': 1545, 'shadow': 1546, 'princ': 1547, 'parodi': 1548, 'pre': 1549, 'taylor': 1550, 'friendship': 1551, 'weapon': 1552, 'credibl': 1553, 'teach': 1554, 'flesh': 1555, 'dougla': 1556, 'hint': 1557, 'bloodi': 1558, 'terror': 1559, 'protect': 1560, 'marvel': 1561, 'anybodi': 1562, 'load': 1563, 'superman': 1564, 'accord': 1565, 'drunk': 1566, 'leader': 1567, 'watchabl': 1568, 'brown': 1569, 'freddi': 1570, 'seat': 1571, 'tim': 1572, 'jeff': 1573, 'appropri': 1574, 'hitler': 1575, 'villag': 1576, 'unknown': 1577, 'charg': 1578, 'knock': 1579, 'keaton': 1580, 'unnecessari': 1581, 'media': 1582, 'empti': 1583, 'enemi': 1584, 'england': 1585, 'utter': 1586, 'perspect': 1587, 'wave': 1588, 'craft': 1589, 'strength': 1590, 'dare': 1591, 'buck': 1592, 'nativ': 1593, 'kiss': 1594, 'correct': 1595, 'contrast': 1596, 'ford': 1597, 'knowledg': 1598, 'anywher': 1599, 'magnific': 1600, 'distract': 1601, 'chill': 1602, 'speed': 1603, 'nazi': 1604, 'soap': 1605, 'mission': 1606, 'ice': 1607, 'breath': 1608, '1980': 1609, 'fred': 1610, 'moon': 1611, 'jr': 1612, 'joan': 1613, 'crowd': 1614, 'frighten': 1615, '000': 1616, 'kate': 1617, 'soft': 1618, 'nick': 1619, 'hundr': 1620, 'dick': 1621, 'dan': 1622, 'somebodi': 1623, 'dozen': 1624, 'radio': 1625, 'simon': 1626, 'loss': 1627, 'andrew': 1628, 'thousand': 1629, 'shakespear': 1630, 'academi': 1631, 'root': 1632, 'vehicl': 1633, 'quot': 1634, 'sum': 1635, 'account': 1636, 'behavior': 1637, 'convent': 1638, '1970': 1639, 'leg': 1640, 'regular': 1641, 'gold': 1642, 'worker': 1643, 'compet': 1644, 'demand': 1645, 'pretenti': 1646, 'interpret': 1647, 'lynch': 1648, 'japan': 1649, 'privat': 1650, 'explos': 1651, 'stretch': 1652, 'notabl': 1653, 'candi': 1654, 'debut': 1655, 'constant': 1656, 'tarzan': 1657, 'prais': 1658, 'sea': 1659, 'spi': 1660, 'revolv': 1661, 'translat': 1662, 'failur': 1663, 'technolog': 1664, 'quiet': 1665, 'jesu': 1666, 'threaten': 1667, 'franc': 1668, 'sat': 1669, 'ass': 1670, 'higher': 1671, 'aid': 1672, 'punch': 1673, 'toy': 1674, 'kevin': 1675, 'met': 1676, 'vh': 1677, 'interact': 1678, 'mike': 1679, 'abandon': 1680, 'bet': 1681, 'separ': 1682, 'command': 1683, 'confront': 1684, 'gotten': 1685, 'belong': 1686, 'servic': 1687, 'recal': 1688, 'techniqu': 1689, 'site': 1690, 'stunt': 1691, 'freak': 1692, 'bug': 1693, 'foot': 1694, 'cabl': 1695, 'bright': 1696, 'capabl': 1697, 'african': 1698, 'jimmi': 1699, 'fu': 1700, 'presid': 1701, 'succeed': 1702, 'boat': 1703, 'fat': 1704, 'clark': 1705, 'stock': 1706, 'structur': 1707, 'gene': 1708, 'spanish': 1709, 'kidnap': 1710, 'paper': 1711, 'factor': 1712, 'whilst': 1713, 'belief': 1714, 'complic': 1715, 'attend': 1716, 'realis': 1717, 'witti': 1718, 'realism': 1719, 'educ': 1720, 'bob': 1721, 'tree': 1722, 'finest': 1723, 'broken': 1724, 'assist': 1725, 'santa': 1726, 'observ': 1727, 'smoke': 1728, 'up': 1729, 'depart': 1730, 'determin': 1731, 'v': 1732, 'routin': 1733, 'fame': 1734, 'hat': 1735, 'oper': 1736, 'domin': 1737, 'rubbish': 1738, 'lewi': 1739, 'hook': 1740, 'safe': 1741, 'advanc': 1742, 'foreign': 1743, 'morgan': 1744, 'lone': 1745, 'kinda': 1746, 'rank': 1747, 'numer': 1748, 'shallow': 1749, 'shape': 1750, 'vs': 1751, 'civil': 1752, 'washington': 1753, 'werewolf': 1754, 'rose': 1755, 'morn': 1756, 'gari': 1757, 'ordinari': 1758, 'kong': 1759, 'winner': 1760, 'accomplish': 1761, 'whenev': 1762, 'peac': 1763, 'virtual': 1764, 'grab': 1765, 'luck': 1766, 'offens': 1767, 'h': 1768, 'activ': 1769, 'contriv': 1770, 'unfunni': 1771, 'complain': 1772, 'welcom': 1773, 'patient': 1774, 'bigger': 1775, 'dimension': 1776, 'pretend': 1777, 'con': 1778, 'trek': 1779, 'cain': 1780, 'wake': 1781, 'flash': 1782, 'dri': 1783, 'eric': 1784, 'lesbian': 1785, 'code': 1786, 'dancer': 1787, 'albert': 1788, 'statu': 1789, 'guard': 1790, 'corrupt': 1791, 'manipul': 1792, 'awkward': 1793, 'gain': 1794, 'context': 1795, 'speech': 1796, 'signific': 1797, 'sourc': 1798, 'corni': 1799, 'psycho': 1800, 'sean': 1801, 'clip': 1802, '13': 1803, 'anthoni': 1804, 'advic': 1805, 'religion': 1806, 'reli': 1807, 'priest': 1808, 'curiou': 1809, 'theatric': 1810, 'w': 1811, 'flow': 1812, 'addict': 1813, 'skin': 1814, 'specif': 1815, 'secur': 1816, 'howard': 1817, 'asian': 1818, 'jennif': 1819, 'organ': 1820, 'promot': 1821, 'comfort': 1822, 'golden': 1823, 'core': 1824, 'luke': 1825, 'cash': 1826, 'cheat': 1827, 'lucki': 1828, 'dislik': 1829, 'associ': 1830, 'lower': 1831, 'devic': 1832, 'balanc': 1833, 'regret': 1834, 'frequent': 1835, 'contribut': 1836, 'degre': 1837, 'spell': 1838, 'wing': 1839, 'frankli': 1840, 'lake': 1841, 'print': 1842, 'sake': 1843, 'forgiv': 1844, 'betti': 1845, 'thoma': 1846, 'mass': 1847, 'crack': 1848, 'gordon': 1849, 'unexpect': 1850, 'amateur': 1851, 'invit': 1852, 'unfold': 1853, 'depend': 1854, 'grown': 1855, 'categori': 1856, 'construct': 1857, 'honor': 1858, 'condit': 1859, 'intellectu': 1860, 'matur': 1861, 'anna': 1862, 'grew': 1863, 'walter': 1864, 'spectacular': 1865, 'sole': 1866, 'sudden': 1867, 'veteran': 1868, 'mirror': 1869, 'overli': 1870, 'card': 1871, 'robin': 1872, 'liner': 1873, 'demonstr': 1874, 'gift': 1875, 'meanwhil': 1876, 'freedom': 1877, 'grip': 1878, 'experienc': 1879, 'crappi': 1880, 'unabl': 1881, 'theori': 1882, 'section': 1883, 'sheriff': 1884, 'colour': 1885, 'subtitl': 1886, 'circumst': 1887, 'brilliantli': 1888, 'oliv': 1889, 'drew': 1890, 'altern': 1891, 'pile': 1892, 'sheer': 1893, 'laughter': 1894, 'cook': 1895, 'path': 1896, 'matt': 1897, 'parker': 1898, 'sinatra': 1899, 'accident': 1900, 'lawyer': 1901, 'defin': 1902, 'relief': 1903, 'treatment': 1904, 'wander': 1905, 'hall': 1906, 'captiv': 1907, 'hank': 1908, 'dragon': 1909, 'moor': 1910, 'halloween': 1911, 'gratuit': 1912, 'broadway': 1913, 'wayn': 1914, 'unintent': 1915, 'cowboy': 1916, 'barbara': 1917, 'wound': 1918, 'k': 1919, 'kung': 1920, 'jacki': 1921, 'statement': 1922, 'winter': 1923, 'surreal': 1924, 'spoof': 1925, 'canadian': 1926, 'compos': 1927, 'treasur': 1928, 'cheer': 1929, 'fare': 1930, 'fish': 1931, 'gonna': 1932, 'sensit': 1933, 'unrealist': 1934, 'woodi': 1935, 'victor': 1936, 'emerg': 1937, 'ran': 1938, 'driven': 1939, 'sympathet': 1940, 'neighbor': 1941, 'glass': 1942, 'topic': 1943, 'expos': 1944, 'authent': 1945, 'overlook': 1946, 'menac': 1947, 'gross': 1948, 'handsom': 1949, 'chief': 1950, 'michel': 1951, 'ancient': 1952, 'nevertheless': 1953, 'stranger': 1954, 'network': 1955, 'pleasant': 1956, 'russel': 1957, 'built': 1958, 'cinderella': 1959, 'comedian': 1960, 'contemporari': 1961, 'feet': 1962, 'underr': 1963, 'endless': 1964, 'blockbust': 1965, 'consider': 1966, 'gori': 1967, 'letter': 1968, 'earn': 1969, 'miser': 1970, 'solv': 1971, 'brook': 1972, 'switch': 1973, 'convict': 1974, 'virgin': 1975, 'joseph': 1976, 'edward': 1977, 'bullet': 1978, 'victoria': 1979, 'chosen': 1980, 'scale': 1981, 'scenario': 1982, 'cynic': 1983, '0': 1984, 'alex': 1985, 'outrag': 1986, 'com': 1987, 'sword': 1988, 'curs': 1989, 'gut': 1990, 'juli': 1991, 'wrap': 1992, 'uk': 1993, 'driver': 1994, 'screenwrit': 1995, 'monkey': 1996, 'substanc': 1997, 'proper': 1998, 'par': 1999, 'court': 2000, 'remov': 2001, 'indic': 2002, 'bird': 2003, 'consequ': 2004, 'advertis': 2005, 'loser': 2006, 'inevit': 2007, 'grave': 2008, 'nanci': 2009, 'naiv': 2010, 'roy': 2011, 'rental': 2012, 'invis': 2013, 'slap': 2014, 'fatal': 2015, 'brave': 2016, 'bridg': 2017, 'le': 2018, 'germani': 2019, 'ador': 2020, 'anger': 2021, 'provok': 2022, 'footbal': 2023, 'loui': 2024, 'anderson': 2025, 'alcohol': 2026, 'chan': 2027, 'ryan': 2028, 'professor': 2029, 'willi': 2030, 'stumbl': 2031, 'australian': 2032, '1930': 2033, 'bat': 2034, 'patrick': 2035, 'sharp': 2036, 'assassin': 2037, 'heck': 2038, 'strongli': 2039, 'lousi': 2040, 'amateurish': 2041, 'cell': 2042, 'deni': 2043, 'saturday': 2044, 'ape': 2045, 'eight': 2046, 'refresh': 2047, 'trilog': 2048, 'liber': 2049, 'sin': 2050, 'resid': 2051, 'vagu': 2052, 'justifi': 2053, 'san': 2054, 'mini': 2055, 'terrifi': 2056, 'sympathi': 2057, 'reput': 2058, 'indi': 2059, 'creator': 2060, 'defeat': 2061, 'expert': 2062, 'tediou': 2063, 'task': 2064, 'endur': 2065, 'prevent': 2066, 'tabl': 2067, 'che': 2068, 'rival': 2069, 'offend': 2070, 'employ': 2071, 'imit': 2072, 'trial': 2073, 'basebal': 2074, 'pitch': 2075, 'complaint': 2076, 'beach': 2077, 'weekend': 2078, 'dig': 2079, 'europ': 2080, 'max': 2081, 'fairi': 2082, 'risk': 2083, 'purchas': 2084, 'format': 2085, 'murphi': 2086, 'glimps': 2087, 'bite': 2088, 'reminisc': 2089, 'harsh': 2090, 'powel': 2091, 'nois': 2092, 'hype': 2093, 'tini': 2094, 'titan': 2095, 'till': 2096, 'prime': 2097, 'asleep': 2098, 'strip': 2099, 'fals': 2100, '14': 2101, 'north': 2102, 'texa': 2103, 'descript': 2104, 'destruct': 2105, 'africa': 2106, 'revel': 2107, 'uninterest': 2108, 'spin': 2109, 'surfac': 2110, 'excess': 2111, 'arrest': 2112, 'semi': 2113, 'inner': 2114, 'sitcom': 2115, 'hitchcock': 2116, 'argu': 2117, 'massiv': 2118, 'maintain': 2119, 'controversi': 2120, 'makeup': 2121, 'dinosaur': 2122, 'twin': 2123, 'ludicr': 2124, 'ideal': 2125, 'kim': 2126, 'stare': 2127, 'expens': 2128, 'melodrama': 2129, 'reject': 2130, 'insist': 2131, 'subplot': 2132, 'atroci': 2133, 'nail': 2134, 'supernatur': 2135, 'ala': 2136, 'host': 2137, 'ga': 2138, 'columbo': 2139, 'forest': 2140, 'erot': 2141, 'press': 2142, 'identifi': 2143, 'notch': 2144, 'presum': 2145, 'cant': 2146, 'dude': 2147, 'method': 2148, 'character': 2149, 'forgett': 2150, 'closer': 2151, 'plagu': 2152, 'guest': 2153, 'crude': 2154, 'landscap': 2155, 'ear': 2156, 'lion': 2157, 'princess': 2158, 'border': 2159, 'foster': 2160, 'beast': 2161, 'jungl': 2162, 'damag': 2163, 'aunt': 2164, 'urban': 2165, 'storytel': 2166, 'accus': 2167, 'pacino': 2168, 'previous': 2169, 'birth': 2170, 'bound': 2171, 'guid': 2172, 'propaganda': 2173, 'emma': 2174, 'nude': 2175, 'jess': 2176, 'thirti': 2177, 'chose': 2178, 'doll': 2179, 'whoever': 2180, 'mate': 2181, 'warrior': 2182, '25': 2183, 'mainstream': 2184, 'pet': 2185, 'merit': 2186, 'poster': 2187, 'friday': 2188, 'exact': 2189, 'gritti': 2190, 'size': 2191, 'upset': 2192, 'deadli': 2193, 'cooper': 2194, 'latest': 2195, 'ton': 2196, 'sun': 2197, 'corps': 2198, '1990': 2199, 'citizen': 2200, 'popul': 2201, 'warner': 2202, 'blend': 2203, 'rough': 2204, 'buff': 2205, 'contact': 2206, 'settl': 2207, 'contest': 2208, 'wilson': 2209, 'overcom': 2210, 'rat': 2211, 'metal': 2212, 'select': 2213, 'environ': 2214, 'pitt': 2215, 'alic': 2216, 'widow': 2217, 'mgm': 2218, 'bu': 2219, 'link': 2220, 'particip': 2221, 'revolut': 2222, 'lift': 2223, 'guilti': 2224, 'ted': 2225, 'johnson': 2226, 'afternoon': 2227, 'exagger': 2228, '1960': 2229, 'corner': 2230, 'corpor': 2231, 'accompani': 2232, 'moron': 2233, 'matrix': 2234, 'prostitut': 2235, 'friendli': 2236, 'instal': 2237, 'doom': 2238, 'leagu': 2239, 'clair': 2240, 'sincer': 2241, 'holm': 2242, 'multipl': 2243, 'hood': 2244, 'examin': 2245, 'defend': 2246, 'sunday': 2247, 'advis': 2248, 'hip': 2249, 'junk': 2250, 'irish': 2251, 'aka': 2252, 'string': 2253, 'blah': 2254, 'campi': 2255, 'lugosi': 2256, 'grim': 2257, 'tight': 2258, 'pro': 2259, 'varieti': 2260, 'shake': 2261, 'confid': 2262, 'rachel': 2263, 'shut': 2264, 'icon': 2265, 'medic': 2266, 'sullivan': 2267, 'denni': 2268, 'goal': 2269, 'attach': 2270, 'mexican': 2271, 'jaw': 2272, 'directli': 2273, 'sarah': 2274, 'sentenc': 2275, 'prior': 2276, 'truck': 2277, 'legendari': 2278, 'terrorist': 2279, 'duke': 2280, 'breast': 2281, 'courag': 2282, 'vietnam': 2283, 'dean': 2284, 'bourn': 2285, 'hong': 2286, 'proceed': 2287, 'split': 2288, 'un': 2289, 'donald': 2290, 'behav': 2291, 'nose': 2292, 'entri': 2293, 'yell': 2294, 'jerk': 2295, 'concentr': 2296, 'everywher': 2297, 'forth': 2298, 'confess': 2299, 'stolen': 2300, 'crush': 2301, 'lifetim': 2302, 'buri': 2303, 'swim': 2304, 'unconvinc': 2305, 'borrow': 2306, 'gather': 2307, 'deliveri': 2308, 'lip': 2309, 'california': 2310, 'turkey': 2311, 'pan': 2312, 'spite': 2313, 'julia': 2314, 'proud': 2315, 'downright': 2316, 'hoffman': 2317, 'offici': 2318, 'quest': 2319, 'reward': 2320, 'china': 2321, 'freeman': 2322, 'flight': 2323, 'sir': 2324, 'lazi': 2325, 'inept': 2326, 'notori': 2327, 'fade': 2328, 'worthwhil': 2329, 'fabul': 2330, 'encourag': 2331, 'sink': 2332, 'jon': 2333, 'betray': 2334, 'jail': 2335, 'bag': 2336, 'cousin': 2337, 'shower': 2338, 'storm': 2339, 'imageri': 2340, 'relev': 2341, 'retard': 2342, 'branagh': 2343, 'survivor': 2344, 'lisa': 2345, 'bell': 2346, 'teeth': 2347, 'susan': 2348, 'summari': 2349, 'tremend': 2350, 'mexico': 2351, 'shark': 2352, 'alright': 2353, 'quirki': 2354, 'toler': 2355, 'stab': 2356, 'facial': 2357, 'finger': 2358, 'bride': 2359, 'trade': 2360, 'hugh': 2361, 'ha': 2362, 'bitter': 2363, 'pose': 2364, 'blown': 2365, 'hyster': 2366, 'von': 2367, 'ron': 2368, 'christ': 2369, 'afterward': 2370, 'scheme': 2371, 'bone': 2372, 'ned': 2373, 'address': 2374, 'cruel': 2375, 'larri': 2376, 'thumb': 2377, 'swear': 2378, 'distinct': 2379, 'pursu': 2380, 'beg': 2381, 'tour': 2382, 'screw': 2383, 'feed': 2384, 'snake': 2385, 'traci': 2386, 'chair': 2387, 'occas': 2388, 'photo': 2389, 'stomach': 2390, 'raw': 2391, 'obscur': 2392, 'mechan': 2393, 'argument': 2394, 'sidney': 2395, 'chain': 2396, 'gruesom': 2397, 'resist': 2398, 'heavili': 2399, 'necessarili': 2400, 'render': 2401, 'southern': 2402, 'holiday': 2403, 'hardi': 2404, 'cabin': 2405, 'philip': 2406, 'racist': 2407, 'satan': 2408, 'indulg': 2409, 'india': 2410, 'understood': 2411, 'forgot': 2412, 'lay': 2413, 'outfit': 2414, 'belov': 2415, 'midnight': 2416, 'integr': 2417, 'fourth': 2418, 'tongu': 2419, 'stalk': 2420, 'obnoxi': 2421, 'pregnant': 2422, 'inhabit': 2423, 'deeper': 2424, 'magazin': 2425, 'ticket': 2426, 'carol': 2427, 'restor': 2428, '17': 2429, 'slapstick': 2430, 'garden': 2431, 'lincoln': 2432, 'incid': 2433, 'brad': 2434, 'devot': 2435, 'shoe': 2436, 'elizabeth': 2437, 'underground': 2438, 'guarante': 2439, 'benefit': 2440, 'disbelief': 2441, 'anticip': 2442, 'divorc': 2443, 'maria': 2444, 'sandler': 2445, 'lili': 2446, 'capit': 2447, 'creation': 2448, 'princip': 2449, 'cring': 2450, 'greater': 2451, 'explod': 2452, 'amazingli': 2453, 'slave': 2454, 'bbc': 2455, 'mildli': 2456, 'introduct': 2457, 'halfway': 2458, 'funnier': 2459, 'lesli': 2460, 'extraordinari': 2461, 'text': 2462, 'transfer': 2463, 'overwhelm': 2464, 'extent': 2465, 'wreck': 2466, 'advantag': 2467, 'enhanc': 2468, 'tap': 2469, 'punish': 2470, 'deliber': 2471, 'horrif': 2472, 'plant': 2473, 'dynam': 2474, 'east': 2475, 'jessica': 2476, 'lo': 2477, 'error': 2478, 'preview': 2479, 'lane': 2480, 'vincent': 2481, 'miscast': 2482, 'sophist': 2483, 'ensu': 2484, '2000': 2485, 'appli': 2486, 'vacat': 2487, 'basi': 2488, 'miller': 2489, 'homosexu': 2490, 'mansion': 2491, 'via': 2492, 'extend': 2493, 'uncomfort': 2494, 'measur': 2495, 'bollywood': 2496, 'elev': 2497, 'sleazi': 2498, 'reed': 2499, 'steel': 2500, 'spoken': 2501, 'conceiv': 2502, 'daili': 2503, 'breathtak': 2504, 'savag': 2505, 'assign': 2506, 'hippi': 2507, 'goofi': 2508, 'beer': 2509, 'mous': 2510, 'cathol': 2511, 'stanley': 2512, 'fix': 2513, 'dentist': 2514, 'overact': 2515, 'alter': 2516, 'melt': 2517, 'blair': 2518, 'subsequ': 2519, 'inspector': 2520, 'everyday': 2521, 'oppos': 2522, 'carpent': 2523, 'nowaday': 2524, 'succe': 2525, 'burt': 2526, 'sacrific': 2527, 'properli': 2528, 'massacr': 2529, 'laura': 2530, 'neck': 2531, 'circl': 2532, 'block': 2533, 'pool': 2534, 'fallen': 2535, 'mob': 2536, 'portrait': 2537, 'concert': 2538, 'lesser': 2539, 'seagal': 2540, 'access': 2541, 'grey': 2542, 'christi': 2543, 'fay': 2544, 'react': 2545, 'isol': 2546, 'jewish': 2547, 'sinist': 2548, 'chees': 2549, 'relax': 2550, 'jake': 2551, 'usa': 2552, 'competit': 2553, 'stink': 2554, 'appal': 2555, 'nine': 2556, 'creep': 2557, 'suitabl': 2558, 'lyric': 2559, 'chop': 2560, 'spiritu': 2561, 'nonetheless': 2562, 'immens': 2563, 'ironi': 2564, '2006': 2565, 'sold': 2566, 'spring': 2567, 'shirt': 2568, 'navi': 2569, 'rage': 2570, 'adopt': 2571, 'nut': 2572, 'luci': 2573, 'showcas': 2574, 'retir': 2575, 'reduc': 2576, 'user': 2577, 'franchis': 2578, 'needless': 2579, 'bulli': 2580, 'bath': 2581, 'per': 2582, 'asham': 2583, 'nurs': 2584, 'jay': 2585, 'zone': 2586, 'digit': 2587, 'stanwyck': 2588, 'uninspir': 2589, '1940': 2590, 'broadcast': 2591, 'amongst': 2592, 'oddli': 2593, 'sutherland': 2594, 'illustr': 2595, 'upper': 2596, 'laid': 2597, '2001': 2598, 'brando': 2599, 'aspir': 2600, 'stylish': 2601, 'fulfil': 2602, 'baker': 2603, 'throat': 2604, 'disguis': 2605, 'em': 2606, 'endear': 2607, 'wwii': 2608, 'neighborhood': 2609, 'impli': 2610, 'wanna': 2611, 'pound': 2612, 'pride': 2613, 'nobl': 2614, 'thief': 2615, '18': 2616, 'distribut': 2617, 'shift': 2618, 'tens': 2619, 'diseas': 2620, 'coher': 2621, 'dinner': 2622, 'cinematograph': 2623, 'prop': 2624, 'albeit': 2625, 'shoulder': 2626, 'bo': 2627, '16': 2628, 'dawn': 2629, 'bett': 2630, 'rochest': 2631, 'contract': 2632, 'knife': 2633, 'function': 2634, 'poignant': 2635, 'surf': 2636, 'wash': 2637, 'rebel': 2638, 'snow': 2639, 'silenc': 2640, 'matthau': 2641, 'shout': 2642, 'forti': 2643, 'internet': 2644, 'mindless': 2645, 'proof': 2646, 'widmark': 2647, 'duti': 2648, 'chuck': 2649, 'cannib': 2650, 'reunion': 2651, 'silver': 2652, 'heat': 2653, 'eeri': 2654, 'henc': 2655, 'instinct': 2656, 'cancel': 2657, 'height': 2658, 'horrend': 2659, 'derek': 2660, 'elvira': 2661, 'repetit': 2662, 'neat': 2663, 'torn': 2664, 'etern': 2665, 'elvi': 2666, 'greatli': 2667, 'incoher': 2668, 'mill': 2669, 'glori': 2670, 'innov': 2671, 'pie': 2672, 'musician': 2673, 'absorb': 2674, 'premier': 2675, 'alik': 2676, 'spielberg': 2677, 'precis': 2678, 'racism': 2679, 'itali': 2680, 'horrifi': 2681, 'blank': 2682, 'lovabl': 2683, 'trite': 2684, 'redempt': 2685, 'nelson': 2686, 'bang': 2687, 'burton': 2688, 'fbi': 2689, 'crisi': 2690, 'infam': 2691, 'britain': 2692, 'announc': 2693, 'diamond': 2694, 'wealthi': 2695, 'homag': 2696, 'wilder': 2697, 'flop': 2698, 'resolut': 2699, 'hammer': 2700, 'happili': 2701, 'pat': 2702, 'dedic': 2703, 'parallel': 2704, 'chaplin': 2705, 'helen': 2706, 'ensembl': 2707, 'streisand': 2708, 'plastic': 2709, 'cube': 2710, 'conclud': 2711, 'triumph': 2712, 'factori': 2713, 'oil': 2714, 'st': 2715, 'disagre': 2716, 'carter': 2717, 'mar': 2718, 'broke': 2719, 'chuckl': 2720, 'row': 2721, 'rocket': 2722, 'climb': 2723, 'march': 2724, 'weight': 2725, 'own': 2726, 'fighter': 2727, 'bush': 2728, 'vega': 2729, 'boot': 2730, 'spare': 2731, 'meaning': 2732, 'lust': 2733, 'sensibl': 2734, 'mst3k': 2735, 'luca': 2736, 'enorm': 2737, 'wherea': 2738, 'unforgett': 2739, 'dane': 2740, 'thug': 2741, 'dump': 2742, 'kurt': 2743, 'butt': 2744, 'caricatur': 2745, 'threat': 2746, 'difficulti': 2747, 'arnold': 2748, 'engin': 2749, 'bobbi': 2750, 'brand': 2751, 'fifti': 2752, 'stress': 2753, 'dear': 2754, 'adequ': 2755, 'rap': 2756, 'karloff': 2757, 'homeless': 2758, 'journalist': 2759, 'fest': 2760, 'hamlet': 2761, 'barri': 2762, 'secretari': 2763, 'ego': 2764, 'ralph': 2765, 'elabor': 2766, 'swing': 2767, 'flynn': 2768, 'polish': 2769, 'arrog': 2770, 'grate': 2771, 'spike': 2772, 'induc': 2773, 'float': 2774, 'fanci': 2775, 'resort': 2776, 'unbear': 2777, 'simpson': 2778, 'conspiraci': 2779, 'puppet': 2780, 'tool': 2781, 'arrang': 2782, 'boll': 2783, 'guilt': 2784, 'cruis': 2785, 'exercis': 2786, 'basement': 2787, 'tribut': 2788, 'pig': 2789, 'phillip': 2790, 'choreograph': 2791, 'muppet': 2792, 'tower': 2793, 'ham': 2794, 'layer': 2795, 'item': 2796, 'slip': 2797, 'document': 2798, 'korean': 2799, 'medium': 2800, 'ward': 2801, 'fianc': 2802, 'toilet': 2803, 'puzzl': 2804, 'babe': 2805, '24': 2806, 'file': 2807, 'editor': 2808, 'scarecrow': 2809, 'stan': 2810, 'librari': 2811, 'superfici': 2812, 'orient': 2813, 'slaughter': 2814, 'assur': 2815, 'spark': 2816, 'persona': 2817, 'inexplic': 2818, 'transit': 2819, 'portion': 2820, 'glover': 2821, 'catherin': 2822, 'larger': 2823, 'denzel': 2824, 'minim': 2825, 'doc': 2826, 'philosoph': 2827, 'territori': 2828, 'pg': 2829, 'jet': 2830, 'boredom': 2831, 'sneak': 2832, 'curti': 2833, 'walken': 2834, 'jeremi': 2835, 'dorothi': 2836, 'shi': 2837, 'owe': 2838, 'ban': 2839, 'wolf': 2840, 'financi': 2841, 'ambigu': 2842, 'multi': 2843, 'metaphor': 2844, 'hudson': 2845, 'cusack': 2846, 'backdrop': 2847, 'eleph': 2848, 'profound': 2849, 'whale': 2850, 'union': 2851, 'notion': 2852, 'implaus': 2853, 'viru': 2854, 'birthday': 2855, '2005': 2856, 'gadget': 2857, 'rave': 2858, 'ultra': 2859, 'elsewher': 2860, 'stiff': 2861, 'hack': 2862, 'distanc': 2863, 'afford': 2864, 'urg': 2865, 'lloyd': 2866, 'hawk': 2867, 'slight': 2868, 'pad': 2869, 'bibl': 2870, 'deriv': 2871, '1st': 2872, 'newspap': 2873, 'disc': 2874, 'poison': 2875, 'squar': 2876, 'reader': 2877, 'canada': 2878, 'eastwood': 2879, 'eva': 2880, 'superhero': 2881, 'sadist': 2882, 'health': 2883, 'skit': 2884, 'spread': 2885, 'restaur': 2886, 'montag': 2887, 'huh': 2888, 'button': 2889, 'cure': 2890, 'drown': 2891, 'essenc': 2892, 'charisma': 2893, 'heston': 2894, 'fetch': 2895, 'invest': 2896, 'dealt': 2897, 'gradual': 2898, 'peak': 2899, 'estat': 2900, 'muslim': 2901, 'godfath': 2902, 'scoobi': 2903, 'lab': 2904, 'maniac': 2905, 'companion': 2906, 'miik': 2907, 'subtleti': 2908, 'countless': 2909, 'kane': 2910, 'alli': 2911, 'ritter': 2912, 'tea': 2913, 'cup': 2914, 'servant': 2915, 'gothic': 2916, 'iii': 2917, 'elect': 2918, 'salli': 2919, 'briefli': 2920, 'heroic': 2921, 'charismat': 2922, 'electr': 2923, 'nuanc': 2924, 'wannab': 2925, 'admittedli': 2926, 'bud': 2927, 'ingredi': 2928, 'grandmoth': 2929, 'neil': 2930, 'cole': 2931, 'toss': 2932, 'resourc': 2933, 'tender': 2934, 'reel': 2935, 'mafia': 2936, 'stronger': 2937, 'shall': 2938, 'pit': 2939, 'stood': 2940, 'punk': 2941, 'poverti': 2942, 'gate': 2943, 'reev': 2944, 'mild': 2945, 'label': 2946, 'carrey': 2947, 'dawson': 2948, 'pauli': 2949, 'kubrick': 2950, 'assault': 2951, 'updat': 2952, 'smooth': 2953, 'burst': 2954, 'outcom': 2955, 'easier': 2956, 'terri': 2957, 'cox': 2958, 'cardboard': 2959, 'astair': 2960, 'useless': 2961, 'smash': 2962, 'tag': 2963, 'ian': 2964, 'fond': 2965, 'bakshi': 2966, '2002': 2967, 'increasingli': 2968, 'vulner': 2969, 'fist': 2970, 'qualifi': 2971, 'samurai': 2972, 'sketch': 2973, 'vari': 2974, 'resolv': 2975, 'rex': 2976, 'exchang': 2977, 'melodramat': 2978, 'divers': 2979, 'coincid': 2980, 'templ': 2981, 'conveni': 2982, 'scratch': 2983, 'brillianc': 2984, 'insert': 2985, 'suspend': 2986, 'reynold': 2987, 'be': 2988, 'blast': 2989, 'tame': 2990, 'luckili': 2991, 'pin': 2992, 'gotta': 2993, 'farm': 2994, 'meat': 2995, 'ambiti': 2996, 'seventi': 2997, 'coach': 2998, 'hamilton': 2999, 'jami': 3000, 'strictli': 3001, 'fisher': 3002, 'soprano': 3003, 'walker': 3004, 'matthew': 3005, 'nuclear': 3006, 'eccentr': 3007, 'kudo': 3008, 'butcher': 3009, 'grasp': 3010, 'instantli': 3011, 'revers': 3012, 'cave': 3013, 'discoveri': 3014, 'empir': 3015, 'convolut': 3016, 'struck': 3017, 'spooki': 3018, 'brosnan': 3019, 'worthless': 3020, 'closet': 3021, 'clock': 3022, 'joey': 3023, 'recreat': 3024, 'monk': 3025, 'ninja': 3026, 'timeless': 3027, 'sloppi': 3028, 'evok': 3029, 'sidekick': 3030, 'declar': 3031, 'eighti': 3032, 'partli': 3033, 'norman': 3034, 'importantli': 3035, 'cliff': 3036, 'gray': 3037, 'bleak': 3038, 'seller': 3039, 'selfish': 3040, 'inconsist': 3041, 'miracl': 3042, 'communist': 3043, 'pal': 3044, 'clown': 3045, 'mitchel': 3046, 'wipe': 3047, 'fifteen': 3048, 'seed': 3049, '45': 3050, 'websit': 3051, 'farc': 3052, 'debat': 3053, 'flawless': 3054, 'australia': 3055, 'stoog': 3056, 'lifestyl': 3057, 'superbl': 3058, 'ho': 3059, 'cheek': 3060, 'aforement': 3061, 'piano': 3062, 'chew': 3063, 'enthusiast': 3064, 'psychiatrist': 3065, 'destin': 3066, 'wrestl': 3067, 'bash': 3068, 'incompet': 3069, 'wick': 3070, 'dire': 3071, 'akshay': 3072, 'splatter': 3073, 'pressur': 3074, 'anni': 3075, 'abc': 3076, 'slice': 3077, 'kitchen': 3078, 'directori': 3079, 'dash': 3080, 'emili': 3081, 'soviet': 3082, 'regardless': 3083, 'drivel': 3084, 'jar': 3085, 'pleasantli': 3086, 'curios': 3087, 'beaten': 3088, 'distant': 3089, 'suppli': 3090, 'helicopt': 3091, 'recov': 3092, 'artifici': 3093, 'glow': 3094, 'flower': 3095, 'lou': 3096, 'chapter': 3097, 'dave': 3098, 'cia': 3099, 'cameron': 3100, 'increas': 3101, 'doo': 3102, 'prize': 3103, 'ken': 3104, 'mann': 3105, 'blob': 3106, 'seduc': 3107, 'judi': 3108, 'duo': 3109, 'cagney': 3110, 'boil': 3111, 'web': 3112, 'glenn': 3113, 'eleg': 3114, 'combat': 3115, 'psychot': 3116, 'goldberg': 3117, 'turner': 3118, 'splendid': 3119, 'ranger': 3120, 'craven': 3121, 'perri': 3122, 'ellen': 3123, 'drunken': 3124, 'favour': 3125, 'francisco': 3126, 'hop': 3127, 'panic': 3128, 'craig': 3129, 'laurel': 3130, 'hatr': 3131, 'shortli': 3132, 'plausibl': 3133, 'alexand': 3134, 'philosophi': 3135, 'rid': 3136, 'slightest': 3137, 'greek': 3138, 'wizard': 3139, 'min': 3140, 'ruth': 3141, 'graduat': 3142, '20th': 3143, 'falk': 3144, 'gentl': 3145, 'modesti': 3146, 'fx': 3147, 'flip': 3148, 'gandhi': 3149, 'holi': 3150, 'unpleas': 3151, 'harm': 3152, 'tall': 3153, 'manhattan': 3154, 'futurist': 3155, 'preciou': 3156, 'we': 3157, 'fund': 3158, 'lend': 3159, 'ocean': 3160, 'legal': 3161, 'jealou': 3162, 'felix': 3163, 'knight': 3164, 'dracula': 3165, 'childish': 3166, 'bless': 3167, 'nod': 3168, 'scientif': 3169, 'explicit': 3170, 'thread': 3171, 'overdon': 3172, 'tank': 3173, 'ami': 3174, 'reviv': 3175, 'forbidden': 3176, 'digniti': 3177, 'mock': 3178, 'giallo': 3179, 'fever': 3180, '99': 3181, 'awaken': 3182, 'unwatch': 3183, 'mel': 3184, 'yesterday': 3185, 'pirat': 3186, 'eve': 3187, 'margaret': 3188, 'repeatedli': 3189, '2004': 3190, 'thick': 3191, 'nerv': 3192, 'verhoeven': 3193, 'broad': 3194, 'elderli': 3195, 'torment': 3196, 'awe': 3197, 'absenc': 3198, 'lean': 3199, 'custom': 3200, 'roman': 3201, 'publish': 3202, 'ah': 3203, 'rivet': 3204, 'royal': 3205, 'eas': 3206, 'romero': 3207, 'automat': 3208, 'launch': 3209, 'stiller': 3210, 'politician': 3211, 'acclaim': 3212, 'uniform': 3213, 'ambit': 3214, 'timothi': 3215, 'bin': 3216, 'griffith': 3217, 'kay': 3218, 'tomato': 3219, 'stinker': 3220, 'crook': 3221, 'antic': 3222, 'pierc': 3223, 'phrase': 3224, 'termin': 3225, 'purpl': 3226, 'warren': 3227, 'bathroom': 3228, 'gabriel': 3229, 'transport': 3230, 'foul': 3231, 'homicid': 3232, 'wallac': 3233, 'darker': 3234, 'sunshin': 3235, 'pulp': 3236, 'li': 3237, 'q': 3238, 'kenneth': 3239, 'ought': 3240, 'sixti': 3241, 'hollow': 3242, 'coloni': 3243, 'pray': 3244, 'packag': 3245, '2003': 3246, 'contrari': 3247, 'rambo': 3248, 'viciou': 3249, 'juvenil': 3250, 'donna': 3251, 'brazil': 3252, 'prom': 3253, 'evolv': 3254, 'horrid': 3255, 'marin': 3256, 'revolutionari': 3257, 'album': 3258, 'awak': 3259, 'karen': 3260, 'saint': 3261, 'eyr': 3262, 'choreographi': 3263, 'defi': 3264, 'stole': 3265, 'ireland': 3266, 'mummi': 3267, 'twelv': 3268, 'option': 3269, 'blade': 3270, 'overr': 3271, 'boast': 3272, 'kapoor': 3273, 'beatti': 3274, 'candid': 3275, 'nerd': 3276, 'ramon': 3277, 'dose': 3278, 'conserv': 3279, 'mildr': 3280, 'altman': 3281, 'confirm': 3282, 'fulci': 3283, 'protest': 3284, 'jazz': 3285, 'trio': 3286, 'natali': 3287, 'kirk': 3288, 'funer': 3289, 'astonish': 3290, 'flame': 3291, 'detract': 3292, 'global': 3293, 'collabor': 3294, 'shade': 3295, 'racial': 3296, 'audio': 3297, 'tommi': 3298, 'yellow': 3299, 'bull': 3300, 'bottl': 3301, 'enterpris': 3302, 'leap': 3303, 'nicholson': 3304, 'destini': 3305, 'spit': 3306, 'blake': 3307, 'whip': 3308, 'delici': 3309, 'mystic': 3310, 'bedroom': 3311, 'meaningless': 3312, 'merci': 3313, 'vivid': 3314, 'neo': 3315, 'pseudo': 3316, 'popcorn': 3317, 'inherit': 3318, 'altogeth': 3319, 'fonda': 3320, 'staff': 3321, 'visibl': 3322, 'enchant': 3323, 'threw': 3324, 'reunit': 3325, 'adolesc': 3326, 'harder': 3327, 'todd': 3328, 'swedish': 3329, 'edi': 3330, 'kennedi': 3331, 'roommat': 3332, 'wire': 3333, 'bust': 3334, 'uneven': 3335, 'respond': 3336, 'ruthless': 3337, 'reserv': 3338, 'synopsi': 3339, 'fanat': 3340, 'madonna': 3341, 'await': 3342, 'befriend': 3343, 'voight': 3344, 'lemmon': 3345, 'moodi': 3346, 'decor': 3347, 'exhibit': 3348, 'tip': 3349, 'suspici': 3350, 'jew': 3351, 'leonard': 3352, 'crocodil': 3353, 'lawrenc': 3354, 'atlanti': 3355, 'unsettl': 3356, 'rural': 3357, 'bargain': 3358, '2007': 3359, 'ventur': 3360, 'incident': 3361, 'voyag': 3362, 'bradi': 3363, 'dimens': 3364, 'palma': 3365, 'bold': 3366, 'clumsi': 3367, 'abysm': 3368, 'garner': 3369, 'centr': 3370, 'chao': 3371, 'holli': 3372, 'audit': 3373, 'clint': 3374, 'carl': 3375, 'mall': 3376, 'elimin': 3377, 'cd': 3378, 'ant': 3379, 'imperson': 3380, 'daddi': 3381, 'troop': 3382, 'lit': 3383, '2nd': 3384, 'acknowledg': 3385, 'nearbi': 3386, 'cuba': 3387, 'characterist': 3388, 'humili': 3389, 'hart': 3390, 'cari': 3391, 'neglect': 3392, 'immigr': 3393, 'trail': 3394, 'tiger': 3395, 'echo': 3396, 'timon': 3397, 'poetic': 3398, 'versu': 3399, 'wealth': 3400, 'celluloid': 3401, 'collaps': 3402, 'mickey': 3403, 'prejudic': 3404, 'saga': 3405, 'jeffrey': 3406, 'homer': 3407, 'domest': 3408, 'repuls': 3409, 'marshal': 3410, 'solo': 3411, 'infect': 3412, 'pun': 3413, 'paus': 3414, 'mistaken': 3415, 'chest': 3416, 'tribe': 3417, 'olivi': 3418, 'pant': 3419, 'undoubtedli': 3420, 'inan': 3421, 'gear': 3422, '1996': 3423, 'apolog': 3424, 'hbo': 3425, 'ginger': 3426, 'interrupt': 3427, 'inappropri': 3428, 'cake': 3429, 'coffe': 3430, 'harvey': 3431, 'leon': 3432, 'sore': 3433, 'coat': 3434, 'assembl': 3435, 'equip': 3436, 'promin': 3437, 'milk': 3438, 'vulgar': 3439, 'consum': 3440, 'colonel': 3441, 'airplan': 3442, 'trace': 3443, 'highest': 3444, 'instant': 3445, 'retain': 3446, 'brooklyn': 3447, 'primari': 3448, 'colleagu': 3449, 'institut': 3450, 'exot': 3451, 'solut': 3452, 'polanski': 3453, 'devast': 3454, 'aveng': 3455, 'furthermor': 3456, 'pot': 3457, 'pen': 3458, 'florida': 3459, 'embrac': 3460, 'humbl': 3461, 'maggi': 3462, 'jenni': 3463, 'strain': 3464, 'outer': 3465, 'godzilla': 3466, 'principl': 3467, '3rd': 3468, 'illog': 3469, 'bowl': 3470, 'ya': 3471, 'disabl': 3472, 'dian': 3473, 'rick': 3474, '1999': 3475, 'gender': 3476, 'smaller': 3477, 'sale': 3478, 'poke': 3479, 'wive': 3480, 'linda': 3481, 'descend': 3482, 'dutch': 3483, 'seduct': 3484, 'cope': 3485, 'vast': 3486, 'cue': 3487, 'secondli': 3488, 'yard': 3489, 'predecessor': 3490, 'mixtur': 3491, 'rabbit': 3492, 'inferior': 3493, 'beneath': 3494, 'primarili': 3495, 'dud': 3496, 'glamor': 3497, 'dive': 3498, 'lol': 3499, 'bubbl': 3500, 'scope': 3501, 'blatant': 3502, 'gundam': 3503, 'gloriou': 3504, 'hal': 3505, 'devoid': 3506, 'hideou': 3507, 'invas': 3508, 'senseless': 3509, 'streep': 3510, 'simplist': 3511, 'breed': 3512, 'aggress': 3513, 'countrysid': 3514, 'z': 3515, 'museum': 3516, 'alfr': 3517, 'talki': 3518, 'pearl': 3519, 'disjoint': 3520, 'alert': 3521, 'shelf': 3522, 'casual': 3523, 'et': 3524, 'domino': 3525, 'myer': 3526, 'shirley': 3527, 'arab': 3528, 'trademark': 3529, 'april': 3530, 'grinch': 3531, 'garbo': 3532, 'illeg': 3533, 'uwe': 3534, 'robinson': 3535, 'sh': 3536, 'defens': 3537, 'robberi': 3538, 'applaud': 3539, 'vanish': 3540, 'experiment': 3541, 'rendit': 3542, 'loyal': 3543, 'obtain': 3544, 'disgrac': 3545, 'hardcor': 3546, 'stack': 3547, 'khan': 3548, 'mail': 3549, 'acid': 3550, 'boom': 3551, 'mayor': 3552, 'stir': 3553, 'slide': 3554, 'stellar': 3555, 'hopeless': 3556, 'unhappi': 3557, 'maci': 3558, 'oz': 3559, 'dismiss': 3560, 'spider': 3561, 'grandfath': 3562, 'declin': 3563, 'topless': 3564, 'span': 3565, 'tempt': 3566, 'emphasi': 3567, 'craze': 3568, 'wont': 3569, 'tenant': 3570, 'berlin': 3571, 'counter': 3572, 'dicken': 3573, 'scroog': 3574, 'psychic': 3575, 'incomprehens': 3576, 'fri': 3577, 'amanda': 3578, 'blew': 3579, 'recruit': 3580, 'rifl': 3581, 'diana': 3582, 'hartley': 3583, 'soccer': 3584, 'wet': 3585, 'intim': 3586, 'lumet': 3587, 'ethnic': 3588, 'shed': 3589, 'revolt': 3590, 'goer': 3591, 'bitch': 3592, 'woo': 3593, 'parad': 3594, 'ration': 3595, 'faster': 3596, 'trashi': 3597, 'niro': 3598, 'sympath': 3599, 'resurrect': 3600, 'porno': 3601, 'sibl': 3602, 'shaw': 3603, 'justin': 3604, 'riot': 3605, '00': 3606, 'rider': 3607, 'ballet': 3608, 'immort': 3609, 'hopper': 3610, 'slick': 3611, 'weakest': 3612, 'partial': 3613, 'eager': 3614, 'enlighten': 3615, 'steam': 3616, 'commend': 3617, 'wheel': 3618, 'jonathan': 3619, 'farmer': 3620, 'feminist': 3621, 'mario': 3622, 'honesti': 3623, 'biographi': 3624, 'gap': 3625, 'dealer': 3626, 'region': 3627, 'nephew': 3628, 'ensur': 3629, 'worm': 3630, 'patriot': 3631, 'choru': 3632, 'lena': 3633, 'wendi': 3634, 'hesit': 3635, 'andr': 3636, 'unreal': 3637, 'sappi': 3638, 'hung': 3639, 'repress': 3640, 'skull': 3641, 'snap': 3642, 'similarli': 3643, 'vice': 3644, 'mutant': 3645, 'morri': 3646, 'util': 3647, 'victori': 3648, 'sandra': 3649, 'leo': 3650, 'charlott': 3651, 'psychopath': 3652, 'blunt': 3653, 'safeti': 3654, 'composit': 3655, 'wore': 3656, 'properti': 3657, 'kingdom': 3658, 'prequel': 3659, 'confin': 3660, 'owen': 3661, 'nostalg': 3662, 'franco': 3663, 'macarthur': 3664, 'pattern': 3665, 'tail': 3666, 'montana': 3667, 'del': 3668, 'miseri': 3669, 'thru': 3670, 'snl': 3671, 'emperor': 3672, 'bergman': 3673, 'rope': 3674, 'compens': 3675, '1972': 3676, 'dalton': 3677, 'speci': 3678, 'hyde': 3679, 'bow': 3680, 'compass': 3681, 'exit': 3682, 'drum': 3683, 'rocki': 3684, 'acquir': 3685, 'rambl': 3686, 'whoopi': 3687, 'nervou': 3688, 'valuabl': 3689, 'tad': 3690, 'deed': 3691, 'cg': 3692, 'latin': 3693, 'dust': 3694, 'heartbreak': 3695, 'bumbl': 3696, 'drain': 3697, 'repli': 3698, 'bonu': 3699, 'recycl': 3700, 'despair': 3701, 'campbel': 3702, 'farrel': 3703, 'strand': 3704, 'kyle': 3705, 'bleed': 3706, 'pour': 3707, 'carradin': 3708, 'martian': 3709, 'gal': 3710, 'downhil': 3711, 'wacki': 3712, '35': 3713, 'rapist': 3714, 'roth': 3715, 'contempl': 3716, 'rotten': 3717, 'da': 3718, 'oppress': 3719, 'tonight': 3720, 'romp': 3721, 'slug': 3722, 'mistress': 3723, 'airport': 3724, 'percept': 3725, 'gimmick': 3726, 'radic': 3727, 'chess': 3728, 'orson': 3729, 'olli': 3730, 'banal': 3731, 'stilt': 3732, '1983': 3733, 'preach': 3734, 'dazzl': 3735, 'paltrow': 3736, 'belt': 3737, 'taught': 3738, 'attorney': 3739, 'pursuit': 3740, 'pervers': 3741, 'pervert': 3742, 'tooth': 3743, 'edgar': 3744, 'tackl': 3745, 'arc': 3746, 'slash': 3747, 'heal': 3748, 'shelley': 3749, 'champion': 3750, 'mislead': 3751, 'unpredict': 3752, 'arguabl': 3753, 'melodi': 3754, 'programm': 3755, 'graham': 3756, 'duval': 3757, 'raymond': 3758, 'dixon': 3759, 'chicken': 3760, 'employe': 3761, 'orang': 3762, 'virginia': 3763, 'plight': 3764, 'tiresom': 3765, 'franki': 3766, 'poem': 3767, 'cleverli': 3768, 'bela': 3769, 'gambl': 3770, 'vocal': 3771, 'vengeanc': 3772, 'maid': 3773, 'marti': 3774, 'passeng': 3775, 'uplift': 3776, 'sensat': 3777, 'mesmer': 3778, 'rubi': 3779, 'closest': 3780, 'conneri': 3781, 'secretli': 3782, 'habit': 3783, 'clone': 3784, '1968': 3785, 'outing': 3786, 'amitabh': 3787, 'yawn': 3788, 'iran': 3789, 'quarter': 3790, 'tube': 3791, 'convincingli': 3792, 'bay': 3793, 'abraham': 3794, 'giggl': 3795, 'climact': 3796, 'paranoia': 3797, 'monologu': 3798, 'calm': 3799, 'inject': 3800, 'sirk': 3801, 'whine': 3802, 'scottish': 3803, 'volum': 3804, 'swallow': 3805, 'extens': 3806, 'profan': 3807, 'mute': 3808, 'crystal': 3809, 'engross': 3810, 'lundgren': 3811, 'suffic': 3812, 'gerard': 3813, 'numb': 3814, 'pokemon': 3815, 'linger': 3816, 'junior': 3817, 'ethan': 3818, 'austen': 3819, 'frankenstein': 3820, 'fed': 3821, 'dispos': 3822, 'abort': 3823, 'surpass': 3824, 'lowest': 3825, 'chicago': 3826, 'im': 3827, 'earl': 3828, 'spock': 3829, 'backward': 3830, 'expand': 3831, 'bend': 3832, 'poetri': 3833, 'profess': 3834, 'trend': 3835, 'underst': 3836, 'plod': 3837, 'taxi': 3838, 'septemb': 3839, 'nichola': 3840, 'richardson': 3841, 'meander': 3842, 'franci': 3843, 'grotesqu': 3844, 'hum': 3845, 'myth': 3846, 'stallon': 3847, 'simplic': 3848, 'descent': 3849, 'lure': 3850, 'greedi': 3851, 'catchi': 3852, 'eugen': 3853, 'compliment': 3854, 'der': 3855, 'nostalgia': 3856, 'waitress': 3857, 'tourist': 3858, 'muddl': 3859, 'literatur': 3860, 'cannon': 3861, 'household': 3862, 'rant': 3863, 'instrument': 3864, 'sue': 3865, 'mundan': 3866, 'dysfunct': 3867, 'econom': 3868, 'spoke': 3869, 'rubber': 3870, 'firstli': 3871, 'insur': 3872, 'coast': 3873, 'dement': 3874, 'lang': 3875, 'recognis': 3876, 'duck': 3877, 'flee': 3878, 'equival': 3879, 'phantom': 3880, 'dictat': 3881, 'stale': 3882, 'mankind': 3883, 'bacal': 3884, 'omen': 3885, 'damon': 3886, 'deaf': 3887, 'cent': 3888, 'irrelev': 3889, 'hello': 3890, 'sissi': 3891, 'carel': 3892, 'recognit': 3893, 'phoni': 3894, 'randi': 3895, 'june': 3896, 'furi': 3897, 'molli': 3898, 'alongsid': 3899, 'crucial': 3900, 'mortal': 3901, 'louis': 3902, 'map': 3903, 'occupi': 3904, 'eaten': 3905, 'bump': 3906, 'buffalo': 3907, 'drake': 3908, '1973': 3909, 'likewis': 3910, 'rude': 3911, 'distinguish': 3912, 'loyalti': 3913, 'wisdom': 3914, 'onlin': 3915, 'dreari': 3916, 'freez': 3917, 'bike': 3918, 'blackmail': 3919, 'ashley': 3920, 'lengthi': 3921, 'daisi': 3922, 'twilight': 3923, 'reign': 3924, 'newli': 3925, 'labor': 3926, 'rooney': 3927, 'grayson': 3928, 'antwon': 3929, 'heel': 3930, 'damm': 3931, 'cyborg': 3932, 'biko': 3933, 'vein': 3934, 'startl': 3935, 'attribut': 3936, 'boxer': 3937, 'exposur': 3938, 'pink': 3939, 'chronicl': 3940, 'incorpor': 3941, 'prey': 3942, 'ridden': 3943, 'interior': 3944, 'provoc': 3945, 'sailor': 3946, 'inher': 3947, 'keith': 3948, 'butler': 3949, 'baddi': 3950, 'analysi': 3951, 'proce': 3952, 'worn': 3953, 'basketbal': 3954, 'tunnel': 3955, 'unorigin': 3956, 'approv': 3957, 'barrymor': 3958, 'nineti': 3959, 'emphas': 3960, 'simmon': 3961, 'drift': 3962, 'millionair': 3963, 'condemn': 3964, 'hypnot': 3965, 'walsh': 3966, 'carla': 3967, 'othello': 3968, 'belushi': 3969, 'mighti': 3970, 'underli': 3971, 'fleet': 3972, 'bunni': 3973, 'mormon': 3974, 'robbin': 3975, 'elm': 3976, 'meg': 3977, 'meyer': 3978, 'substitut': 3979, 'unrel': 3980, 'barrel': 3981, 'er': 3982, 'julian': 3983, 'degrad': 3984, 'nicol': 3985, 'indiffer': 3986, 'improvis': 3987, 'undeni': 3988, 'stalker': 3989, 'predat': 3990, 'nyc': 3991, 'shove': 3992, 'disord': 3993, 'exquisit': 3994, 'warmth': 3995, 'greed': 3996, 'alarm': 3997, 'lampoon': 3998, 'unawar': 3999, 'alison': 4000, 'mtv': 4001, 'priceless': 4002, 'enthusiasm': 4003, 'errol': 4004, 'marion': 4005, 'firm': 4006, 'agenda': 4007, 'roof': 4008, 'rukh': 4009, 'palac': 4010, 'watson': 4011, 'dolph': 4012, 'reid': 4013, 'novak': 4014, 'vital': 4015, 'hay': 4016, 'edgi': 4017, '3d': 4018, 'testament': 4019, 'what': 4020, 'spain': 4021, 'randomli': 4022, 'sergeant': 4023, 'thompson': 4024, 'crown': 4025, 'glanc': 4026, 'peril': 4027, 'pamela': 4028, 'eastern': 4029, 'ponder': 4030, 'session': 4031, 'minimum': 4032, 'profit': 4033, 'distort': 4034, 'championship': 4035, 'gestur': 4036, 'campaign': 4037, 'showdown': 4038, 'drip': 4039, 'angela': 4040, 'iraq': 4041, 'simultan': 4042, 'nun': 4043, 'preserv': 4044, 'coup': 4045, 'israel': 4046, '13th': 4047, 'unleash': 4048, 'orlean': 4049, 'petti': 4050, 'cassidi': 4051, '1933': 4052, 'valentin': 4053, 'peck': 4054, 'beatl': 4055, 'zizek': 4056, 'mon': 4057, 'climat': 4058, 'realm': 4059, 'kurosawa': 4060, 'gentleman': 4061, 'wig': 4062, 'quinn': 4063, 'stake': 4064, 'restrain': 4065, 'miyazaki': 4066, 'empathi': 4067, 'cream': 4068, 'shootout': 4069, 'perpetu': 4070, 'din': 4071, 'rout': 4072, 'contradict': 4073, 'regist': 4074, 'han': 4075, 'jan': 4076, 'crawl': 4077, 'bro': 4078, 'travesti': 4079, 'cooki': 4080, 'reson': 4081, 'crow': 4082, 'exposit': 4083, 'sabrina': 4084, 'scotland': 4085, 'unimagin': 4086, 'brenda': 4087, 'calib': 4088, 'buster': 4089, 'represent': 4090, 'stroke': 4091, 'valley': 4092, '1984': 4093, 'fido': 4094, 'unseen': 4095, 'josh': 4096, 'censor': 4097, 'soderbergh': 4098, '1997': 4099, 'perceiv': 4100, 'sucker': 4101, 'darren': 4102, 'dana': 4103, 'greg': 4104, 'spacey': 4105, 'femm': 4106, 'monoton': 4107, 'meryl': 4108, 'cloud': 4109, 'shoddi': 4110, 'shaki': 4111, 'wax': 4112, 'geek': 4113, 'unsatisfi': 4114, 'compromis': 4115, 'stargat': 4116, 'demis': 4117, 'baldwin': 4118, 'tacki': 4119, 'mclaglen': 4120, 'derang': 4121, 'traumat': 4122, 'ross': 4123, 'delic': 4124, 'businessman': 4125, 'pole': 4126, 'pretens': 4127, 'absent': 4128, 'fuller': 4129, 'distress': 4130, 'abomin': 4131, 'painter': 4132, 'warrant': 4133, 'passabl': 4134, 'crawford': 4135, '1987': 4136, 'ustinov': 4137, 'sammi': 4138, 'nathan': 4139, 'dee': 4140, 'uncov': 4141, 'tarantino': 4142, 'verbal': 4143, 'exclus': 4144, 'kumar': 4145, 'valid': 4146, '1993': 4147, 'unravel': 4148, 'primit': 4149, 'austin': 4150, 'tech': 4151, 'wholli': 4152, 'expedit': 4153, 'norm': 4154, 'clash': 4155, 'deceas': 4156, 'jewel': 4157, 'fenc': 4158, 'correctli': 4159, 'anchor': 4160, 'judgment': 4161, 'click': 4162, 'sid': 4163, 'accuraci': 4164, 'polici': 4165, 'furiou': 4166, 'seal': 4167, 'reluct': 4168, 'deniro': 4169, 'fog': 4170, 'antonioni': 4171, 'fabric': 4172, '1995': 4173, 'debt': 4174, 'nicola': 4175, 'alec': 4176, 'ritual': 4177, 'murray': 4178, 'sand': 4179, 'slam': 4180, 'trait': 4181, 'sunni': 4182, '3000': 4183, 'shanghai': 4184, 'crippl': 4185, 'conduct': 4186, 'tax': 4187, 'malon': 4188, 'hallucin': 4189, 'dreck': 4190, '2008': 4191, 'joel': 4192, 'fart': 4193, 'wretch': 4194, 'bake': 4195, 'darn': 4196, 'unfair': 4197, 'temper': 4198, '1971': 4199, 'fought': 4200, 'vanc': 4201, 'mode': 4202, 'pocket': 4203, 'clerk': 4204, 'enforc': 4205, 'wang': 4206, 'behold': 4207, 'seldom': 4208, 'patienc': 4209, 'logan': 4210, 'roller': 4211, 'sheet': 4212, 'sustain': 4213, 'conscious': 4214, 'fundament': 4215, 'exhaust': 4216, 'grief': 4217, 'tactic': 4218, 'bias': 4219, 'soup': 4220, 'schedul': 4221, 'runner': 4222, 'divid': 4223, 'legaci': 4224, 'scriptwrit': 4225, 'technicolor': 4226, 'preston': 4227, 'pete': 4228, 'isabel': 4229, 'penni': 4230, 'bridget': 4231, 'shell': 4232, 'helpless': 4233, 'canyon': 4234, 'outlin': 4235, 'preposter': 4236, 'robber': 4237, 'despis': 4238, 'guitar': 4239, 'stuart': 4240, 'clau': 4241, 'critiqu': 4242, 'phil': 4243, 'stark': 4244, 'rita': 4245, 'sweep': 4246, 'squad': 4247, 'delv': 4248, 'jacket': 4249, 'kansa': 4250, 'cigarett': 4251, 'boyl': 4252, 'restrict': 4253, 'invad': 4254, 'implic': 4255, 'sniper': 4256, 'alley': 4257, 'downey': 4258, 'agenc': 4259, 'consciou': 4260, 'jodi': 4261, 'sentinel': 4262, 'vomit': 4263, 'liberti': 4264, 'lacklust': 4265, 'passag': 4266, 'sugar': 4267, 'inabl': 4268, 'unexpectedli': 4269, 'flair': 4270, 'newman': 4271, 'drove': 4272, 'alicia': 4273, 'rehash': 4274, 'palanc': 4275, 'marc': 4276, 'connor': 4277, 'rear': 4278, 'culmin': 4279, 'bloom': 4280, 'propos': 4281, 'gregori': 4282, 'russia': 4283, 'rehears': 4284, 'improb': 4285, 'feat': 4286, 'lush': 4287, 'wrench': 4288, 'cap': 4289, 'mccoy': 4290, 'foxx': 4291, 'aesthet': 4292, '1936': 4293, 'chainsaw': 4294, 'awhil': 4295, 'pale': 4296, 'horn': 4297, 'sharon': 4298, 'delet': 4299, 'rampag': 4300, 'arrow': 4301, '22': 4302, 'tripe': 4303, 'tendenc': 4304, 'behaviour': 4305, 'karl': 4306, 'yeti': 4307, 'rod': 4308, 'bacon': 4309, 'vet': 4310, 'ladder': 4311, 'asylum': 4312, 'kolchak': 4313, 'sung': 4314, 'loneli': 4315, 'lurk': 4316, 'financ': 4317, 'basing': 4318, 'visitor': 4319, 'prank': 4320, 'suffici': 4321, 'spice': 4322, '1988': 4323, 'el': 4324, '1920': 4325, 'rhythm': 4326, 'rumor': 4327, 'tasteless': 4328, 'suspicion': 4329, '19th': 4330, 'wagner': 4331, 'stream': 4332, 'thunderbird': 4333, 'tomorrow': 4334, 'amazon': 4335, 'newcom': 4336, 'shortcom': 4337, '1978': 4338, 'weav': 4339, 'hackney': 4340, 'paramount': 4341, 'minu': 4342, 'hungri': 4343, 'underneath': 4344, 'globe': 4345, 'wildli': 4346, 'elit': 4347, 'coaster': 4348, 'fright': 4349, 'scoop': 4350, 'paradis': 4351, 'aristocrat': 4352, 'filler': 4353, 'conscienc': 4354, 'hulk': 4355, 'iv': 4356, 'quietli': 4357, 'smell': 4358, 'chamberlain': 4359, 'ingeni': 4360, 'beverli': 4361, 'naughti': 4362, 'dirt': 4363, 'grudg': 4364, 'couch': 4365, 'immers': 4366, 'heist': 4367, 'teas': 4368, 'wwe': 4369, 'recogniz': 4370, '1939': 4371, 'secondari': 4372, 'en': 4373, 'leigh': 4374, 'curli': 4375, 'paxton': 4376, 'lectur': 4377, 'standout': 4378, 'hopkin': 4379, 'impos': 4380, 'minist': 4381, 'entranc': 4382, 'literari': 4383, '1989': 4384, 'choppi': 4385, 'abrupt': 4386, 'bread': 4387, 'inmat': 4388, 'ram': 4389, 'tierney': 4390, 'worship': 4391, 'cancer': 4392, 'posey': 4393, 'counterpart': 4394, 'straightforward': 4395, 'penn': 4396, 'springer': 4397, 'brit': 4398, '75': 4399, 'rub': 4400, 'chavez': 4401, 'atroc': 4402, 'net': 4403, 'injuri': 4404, 'laurenc': 4405, 'clan': 4406, 'moreov': 4407, 'misguid': 4408, 'policeman': 4409, 'convert': 4410, 'quaid': 4411, 'transcend': 4412, 'variat': 4413, 'bernard': 4414, 'enthral': 4415, 'attenborough': 4416, 'skeptic': 4417, 'yearn': 4418, 'sublim': 4419, 'nemesi': 4420, 'nolan': 4421, '1986': 4422, 'missil': 4423, 'ratso': 4424, 'morbid': 4425, 'heartfelt': 4426, 'geni': 4427, 'ace': 4428, 'watcher': 4429, 'esther': 4430, 'sassi': 4431, 'lindsay': 4432, 'entitl': 4433, 'cattl': 4434, 'duel': 4435, 'diari': 4436, 'obstacl': 4437, 'youngest': 4438, 'spiral': 4439, 'mytholog': 4440, 'moder': 4441, 'bye': 4442, 'kitti': 4443, 'unexplain': 4444, 'bean': 4445, 'graini': 4446, 'enabl': 4447, 'facil': 4448, 'characteris': 4449, 'buzz': 4450, 'steadi': 4451, 'out': 4452, 'rosemari': 4453, '1979': 4454, 'artsi': 4455, 'reliabl': 4456, 'setup': 4457, 'grin': 4458, 'egg': 4459, 'tyler': 4460, 'vader': 4461, 'hopelessli': 4462, 'cruelti': 4463, 'uncut': 4464, 'poe': 4465, 'puppi': 4466, 'kidman': 4467, 'dont': 4468, 'brood': 4469, 'hk': 4470, 'carlito': 4471, 'bronson': 4472, 'preming': 4473, 'despic': 4474, 'fuel': 4475, 'baffl': 4476, 'effici': 4477, 'heap': 4478, 'hammi': 4479, 'athlet': 4480, 'underworld': 4481, 'weather': 4482, '1969': 4483, 'gillian': 4484, 'acquaint': 4485, 'exterior': 4486, 'oblig': 4487, 'bounc': 4488, 'clueless': 4489, 'gina': 4490, 'bewar': 4491, 'disastr': 4492, 'niec': 4493, 'spontan': 4494, 'narrow': 4495, 'hain': 4496, 'sweat': 4497, 'kline': 4498, 'decept': 4499, 'martha': 4500, 'christin': 4501, 'patricia': 4502, 'brendan': 4503, 'astound': 4504, 'circu': 4505, 'analyz': 4506, 'loi': 4507, 'viewpoint': 4508, 'virtu': 4509, 'harmless': 4510, 'scar': 4511, 'shatter': 4512, 'goof': 4513, 'outlaw': 4514, '19': 4515, 'dilemma': 4516, 'preachi': 4517, 'sleepwalk': 4518, 'mermaid': 4519, 'loath': 4520, 'suprem': 4521, 'trigger': 4522, 'candl': 4523, 'enlist': 4524, 'tick': 4525, 'mayhem': 4526, 'hepburn': 4527, 'rome': 4528, 'fontain': 4529, 'dandi': 4530, 'uh': 4531, 'angst': 4532, 'taboo': 4533, 'biker': 4534, 'injur': 4535, 'sooner': 4536, 'housewif': 4537, '73': 4538, 'headach': 4539, 'insipid': 4540, 'renaiss': 4541, 'lester': 4542, 'amor': 4543, 'claustrophob': 4544, 'filth': 4545, 'glorifi': 4546, 'guin': 4547, 'stair': 4548, 'hostag': 4549, 'slimi': 4550, 'boston': 4551, 'phenomenon': 4552, 'salt': 4553, 'camcord': 4554, 'ebert': 4555, 'spade': 4556, 'hokey': 4557, 'steer': 4558, 'cassavet': 4559, 'immatur': 4560, 'scorses': 4561, 'dismal': 4562, 'fluff': 4563, 'bent': 4564, 'gere': 4565, 'corbett': 4566, 'contempt': 4567, 'surgeri': 4568, 'dish': 4569, 'zoom': 4570, 'idol': 4571, 'overlong': 4572, 'hooker': 4573, 'macho': 4574, 'tripl': 4575, 'whore': 4576, 'stimul': 4577, 'redund': 4578, 'intric': 4579, 'sox': 4580, 'foolish': 4581, 'ariel': 4582, 'oldest': 4583, 'preced': 4584, '1976': 4585, 'proport': 4586, 'conquer': 4587, 'flirt': 4588, 'flashi': 4589, 'assert': 4590, 'corman': 4591, 'muscl': 4592, '1981': 4593, 'schlock': 4594, 'zane': 4595, 'keen': 4596, 'antagonist': 4597, 'joker': 4598, 'spree': 4599, 'remad': 4600, 'messi': 4601, 'beard': 4602, 'radiat': 4603, 'widescreen': 4604, 'mount': 4605, 'fascist': 4606, 'cow': 4607, 'gasp': 4608, 'harold': 4609, 'gabl': 4610, 'faint': 4611, 'obligatori': 4612, 'down': 4613, 'margin': 4614, 'spinal': 4615, 'alvin': 4616, 'transplant': 4617, 'cush': 4618, 'astronaut': 4619, 'rhyme': 4620, 'trivia': 4621, 'flag': 4622, 'strongest': 4623, 'naschi': 4624, 'shred': 4625, 'frantic': 4626, 'cohen': 4627, 'perman': 4628, 'mutual': 4629, 'dwarf': 4630, 'shield': 4631, 'nolt': 4632, 'carey': 4633, 'inflict': 4634, 'aborigin': 4635, 'repris': 4636, 'archiv': 4637, 'neurot': 4638, 'strive': 4639, 'persuad': 4640, 'bitten': 4641, 'ritchi': 4642, '28': 4643, 'raj': 4644, 'off': 4645, 'departur': 4646, 'sensual': 4647, 'scandal': 4648, 'divin': 4649, 'danish': 4650, 'interestingli': 4651, 'mobil': 4652, 'discern': 4653, 'flock': 4654, 'bachelor': 4655, 'info': 4656, '95': 4657, 'boob': 4658, 'www': 4659, 'hara': 4660, '1945': 4661, 'someday': 4662, 'deer': 4663, 'wield': 4664, 'brush': 4665, 'mol': 4666, 'triangl': 4667, 'instruct': 4668, 'barn': 4669, 'vaniti': 4670, 'fishburn': 4671, 'resum': 4672, 'claud': 4673, 'heartwarm': 4674, 'loretta': 4675, 'rot': 4676, 'dim': 4677, 'cliffhang': 4678, 'artwork': 4679, 'fragil': 4680, 'pixar': 4681, 'hapless': 4682, 'axe': 4683, 'ish': 4684, 'prophet': 4685, 'cher': 4686, 'banter': 4687, 'casino': 4688, 'vibrant': 4689, 'senior': 4690, 'recit': 4691, 'dame': 4692, 'cb': 4693, 'earnest': 4694, 'jade': 4695, 'carlo': 4696, 'mobster': 4697, 'dylan': 4698, 'frontier': 4699, 'wendigo': 4700, 'submit': 4701, 'clad': 4702, 'proclaim': 4703, 'hug': 4704, 'miracul': 4705, 'hilar': 4706, 'neill': 4707, 'pickford': 4708, 'pacif': 4709, 'biblic': 4710, 'anton': 4711, 'undermin': 4712, 'luka': 4713, 'cycl': 4714, 'traffic': 4715, 'helm': 4716, 'melissa': 4717, 'bate': 4718, 'parson': 4719, 'harrison': 4720, 'kathryn': 4721, 'colin': 4722, 'timberlak': 4723, 'europa': 4724, 'marlon': 4725, 'blatantli': 4726, 'rooki': 4727, 'seedi': 4728, 'redneck': 4729, 'aris': 4730, 'mason': 4731, 'pc': 4732, 'electron': 4733, 'lui': 4734, 'bikini': 4735, 'vile': 4736, 'illus': 4737, 'shepherd': 4738, 'feast': 4739, 'choke': 4740, 'flavor': 4741, 'legitim': 4742, 'token': 4743, 'estrang': 4744, 'static': 4745, 'akin': 4746, 'misfortun': 4747, 'trier': 4748, 'breakfast': 4749, 'vanessa': 4750, 'holocaust': 4751, 'toronto': 4752, 'antholog': 4753, 'foil': 4754, 'razor': 4755, 'http': 4756, 'uma': 4757, 'northern': 4758, 'mathieu': 4759, 'venom': 4760, 'wardrob': 4761, 'jo': 4762, 'nope': 4763, 'eli': 4764, 'lucil': 4765, 'winchest': 4766, 'jordan': 4767, 'articl': 4768, 'isra': 4769, 'milo': 4770, 'sicken': 4771, 'alexandr': 4772, 'orphan': 4773, 'bondag': 4774, 'cerebr': 4775, 'wrestler': 4776, 'ceremoni': 4777, 'nightclub': 4778, 'disregard': 4779, 'abund': 4780, 'knightley': 4781, 'comprehend': 4782, 'styliz': 4783, 'gilbert': 4784, 'highway': 4785, 'fifth': 4786, 'peer': 4787, 'cartoonish': 4788, 'clinic': 4789, 'leather': 4790, 'psych': 4791, 'shorter': 4792, 'gunga': 4793, 'retriev': 4794, 'smack': 4795, 'linear': 4796, 'feminin': 4797, 'huston': 4798, 'turd': 4799, 'oppon': 4800, 'audrey': 4801, 'ideolog': 4802, 'outdat': 4803, 'swept': 4804, 'frog': 4805, 'tack': 4806, 'howl': 4807, 'magician': 4808, 'dudley': 4809, 'affleck': 4810, 'deem': 4811, 'charlton': 4812, 'boyer': 4813, 'glare': 4814, 'spawn': 4815, 'compris': 4816, 'btw': 4817, 'lighter': 4818, 'bastard': 4819, 'client': 4820, 'tara': 4821, 'summar': 4822, 'boo': 4823, '1994': 4824, 'einstein': 4825, 'sleaz': 4826, 'plate': 4827, '1991': 4828, 'phenomen': 4829, 'toe': 4830, 'energet': 4831, 'potter': 4832, 'collector': 4833, 'newer': 4834, 'moe': 4835, 'monument': 4836, 'greet': 4837, 'cemeteri': 4838, 'durat': 4839, 'whack': 4840, 'lifeless': 4841, 'goldsworthi': 4842, 'chip': 4843, 'mitch': 4844, 'deliver': 4845, 'snatch': 4846, 'breakdown': 4847, 'lavish': 4848, 'spine': 4849, 'evolut': 4850, 'uniformli': 4851, 'senat': 4852, '4th': 4853, 'salman': 4854, 'braveheart': 4855, 'corn': 4856, 'conrad': 4857, 'cuban': 4858, 'bogu': 4859, 'healthi': 4860, 'belli': 4861, 'signal': 4862, 'randolph': 4863, 'undead': 4864, 'trauma': 4865, 'appl': 4866, 'liu': 4867, '1974': 4868, '1977': 4869, 'ie': 4870, 'jare': 4871, 'luxuri': 4872, 'outright': 4873, 'bori': 4874, 'pronounc': 4875, 'eleven': 4876, 'clara': 4877, 'firmli': 4878, 'ol': 4879, 'inaccuraci': 4880, 'creek': 4881, 'spectacl': 4882, 'occup': 4883, 'judd': 4884, 'sorrow': 4885, 'armstrong': 4886, 'bulk': 4887, 'neatli': 4888, 'fluid': 4889, 'undertak': 4890, 'alleg': 4891, 'kazan': 4892, 'lex': 4893, 'kent': 4894, 'evelyn': 4895, 'mcqueen': 4896, 'embark': 4897, 'jam': 4898, 'replay': 4899, 'wtf': 4900, 'nina': 4901, 'cecil': 4902, 'jule': 4903, 'gilliam': 4904, 'historian': 4905, 'constitut': 4906, 'capot': 4907, 'jedi': 4908, 'sacrif': 4909, 'unsuspect': 4910, 'sidewalk': 4911, 'lanc': 4912, 'porter': 4913, 'goldblum': 4914, 'ash': 4915, 'subtli': 4916, 'genet': 4917, 'comb': 4918, 'pepper': 4919, 'vignett': 4920, 'meal': 4921, 'propheci': 4922, 'bsg': 4923, 'lauren': 4924, 'knee': 4925, 'curtain': 4926, 'pioneer': 4927, 'fruit': 4928, 'rosario': 4929, 'cape': 4930, 'basket': 4931, 'comprehens': 4932, 'palm': 4933, 'antonio': 4934, 'decapit': 4935, 'conan': 4936, 'unattract': 4937, 'roar': 4938, 'miami': 4939, 'inaccur': 4940, 'forgiven': 4941, 'poker': 4942, 'congratul': 4943, 'id': 4944, 'bait': 4945, 'inclus': 4946, 'abound': 4947, 'groan': 4948, 'walt': 4949, 'mum': 4950, 'carmen': 4951, 'truman': 4952, 'kiddi': 4953, 'tokyo': 4954, 'relentless': 4955, 'vain': 4956, 'galaxi': 4957, 'miniseri': 4958, 'spray': 4959, '1985': 4960, 'paula': 4961, 'blur': 4962, 'aussi': 4963, 'masterson': 4964, 'monti': 4965, 'cypher': 4966, 'hostil': 4967, 'epitom': 4968, 'playboy': 4969, 'assort': 4970, 'ingrid': 4971, 'asset': 4972, 'spill': 4973, 'reincarn': 4974, 'detach': 4975, 'weari': 4976, 'optimist': 4977, 'rapidli': 4978, 'bach': 4979, 'sparkl': 4980, 'mice': 4981, 'scariest': 4982, 'ghetto': 4983, 'profil': 4984, 'victorian': 4985, 'growth': 4986, 'bravo': 4987, 'modest': 4988, 'weaker': 4989, 'frontal': 4990, 'motorcycl': 4991, 'orchestr': 4992, 'vastli': 4993, 'drone': 4994, 'substanti': 4995, 'incorrect': 4996, 'dubiou': 4997, 'omin': 4998, 'macabr': 4999}\n"
     ]
    }
   ],
   "source": [
    "word_dict = build_dict(train_X)\n",
    "print(word_dict)"
   ]
  },
  {
   "cell_type": "markdown",
   "metadata": {},
   "source": [
    "**Question:** What are the five most frequently appearing (tokenized) words in the training set? Does it makes sense that these words appear frequently in the training set?"
   ]
  },
  {
   "cell_type": "markdown",
   "metadata": {},
   "source": [
    "**Answer:** 'movi', 'film', 'one', 'like', 'time'. And yes it makes sense since in the below cell we see that that 'movi' word appears 51695 times and these words have no sentiments attached to them and hence make no sense for our task."
   ]
  },
  {
   "cell_type": "code",
   "execution_count": 18,
   "metadata": {},
   "outputs": [
    {
     "name": "stdout",
     "output_type": "stream",
     "text": [
      "['movi', 'film', 'one', 'like', 'time']\n",
      "51695\n"
     ]
    }
   ],
   "source": [
    "# TODO: Use this space to determine the five most frequently appearing words in the training set.\n",
    "word_counts = Counter(np.concatenate(train_X, axis =0 ))\n",
    "sorted_words = sorted(word_counts, key=word_counts.get, reverse = True)\n",
    "print(sorted_words[0:5])\n",
    "print(word_counts['movi'])"
   ]
  },
  {
   "cell_type": "markdown",
   "metadata": {},
   "source": [
    "### Save `word_dict`\n",
    "\n",
    "Later on when we construct an endpoint which processes a submitted review we will need to make use of the `word_dict` which we have created. As such, we will save it to a file now for future use."
   ]
  },
  {
   "cell_type": "code",
   "execution_count": 19,
   "metadata": {},
   "outputs": [],
   "source": [
    "data_dir = '../data/pytorch' # The folder we will use for storing data\n",
    "if not os.path.exists(data_dir): # Make sure that the folder exists\n",
    "    os.makedirs(data_dir)"
   ]
  },
  {
   "cell_type": "code",
   "execution_count": 20,
   "metadata": {},
   "outputs": [],
   "source": [
    "with open(os.path.join(data_dir, 'word_dict.pkl'), \"wb\") as f:\n",
    "    pickle.dump(word_dict, f)"
   ]
  },
  {
   "cell_type": "markdown",
   "metadata": {},
   "source": [
    "### Transform the reviews\n",
    "\n",
    "Now that we have our word dictionary which allows us to transform the words appearing in the reviews into integers, it is time to make use of it and convert our reviews to their integer sequence representation, making sure to pad or truncate to a fixed length, which in our case is `500`."
   ]
  },
  {
   "cell_type": "code",
   "execution_count": 21,
   "metadata": {},
   "outputs": [],
   "source": [
    "def convert_and_pad(word_dict, sentence, pad=500):\n",
    "    NOWORD = 0 # We will use 0 to represent the 'no word' category\n",
    "    INFREQ = 1 # and we use 1 to represent the infrequent words, i.e., words not appearing in word_dict\n",
    "    \n",
    "    working_sentence = [NOWORD] * pad\n",
    "    \n",
    "    for word_index, word in enumerate(sentence[:pad]):\n",
    "        if word in word_dict:\n",
    "            working_sentence[word_index] = word_dict[word]\n",
    "        else:\n",
    "            working_sentence[word_index] = INFREQ\n",
    "            \n",
    "    return working_sentence, min(len(sentence), pad)\n",
    "\n",
    "def convert_and_pad_data(word_dict, data, pad=500):\n",
    "    result = []\n",
    "    lengths = []\n",
    "    \n",
    "    for sentence in data:\n",
    "        converted, leng = convert_and_pad(word_dict, sentence, pad)\n",
    "        result.append(converted)\n",
    "        lengths.append(leng)\n",
    "        \n",
    "    return np.array(result), np.array(lengths)"
   ]
  },
  {
   "cell_type": "code",
   "execution_count": 22,
   "metadata": {},
   "outputs": [],
   "source": [
    "train_X, train_X_len = convert_and_pad_data(word_dict, train_X)\n",
    "test_X, test_X_len = convert_and_pad_data(word_dict, test_X)"
   ]
  },
  {
   "cell_type": "markdown",
   "metadata": {},
   "source": [
    "As a quick check to make sure that things are working as intended, check to see what one of the reviews in the training set looks like after having been processeed. Does this look reasonable? What is the length of a review in the training set?"
   ]
  },
  {
   "cell_type": "code",
   "execution_count": 24,
   "metadata": {},
   "outputs": [
    {
     "name": "stdout",
     "output_type": "stream",
     "text": [
      "500\n",
      "[19]\n"
     ]
    }
   ],
   "source": [
    "# Use this cell to examine one of the processed reviews to make sure everything is working as intended.\n",
    "print(len(train_X[0]))\n",
    "print(train_X_len[0:1]) # 500 - 481(non zeros) = 19"
   ]
  },
  {
   "cell_type": "markdown",
   "metadata": {},
   "source": [
    "**Question:** In the cells above we use the `preprocess_data` and `convert_and_pad_data` methods to process both the training and testing set. Why or why not might this be a problem?"
   ]
  },
  {
   "cell_type": "markdown",
   "metadata": {},
   "source": [
    "**Answer:**\n",
    "preprocess_data function will reduce the data preparation cost, since it is one time process and the result is saved in a file. In case if the notebook instance terminal connection is broken then we need to restart from beginning in that case we can skip the data preparation step and proceed to training by directly loading the preprocessed data from file.\n",
    "convert_and_pad_data helps us to maintain a constant data length, since we are using LSTM classifier with Embedding, so we need to maintain a constant batch size throughout the training."
   ]
  },
  {
   "cell_type": "markdown",
   "metadata": {},
   "source": [
    "## Step 3: Upload the data to S3\n",
    "\n",
    "As in the XGBoost notebook, we will need to upload the training dataset to S3 in order for our training code to access it. For now we will save it locally and we will upload to S3 later on.\n",
    "\n",
    "### Save the processed training dataset locally\n",
    "\n",
    "It is important to note the format of the data that we are saving as we will need to know it when we write the training code. In our case, each row of the dataset has the form `label`, `length`, `review[500]` where `review[500]` is a sequence of `500` integers representing the words in the review."
   ]
  },
  {
   "cell_type": "code",
   "execution_count": 25,
   "metadata": {},
   "outputs": [],
   "source": [
    "import pandas as pd\n",
    "    \n",
    "pd.concat([pd.DataFrame(train_y), pd.DataFrame(train_X_len), pd.DataFrame(train_X)], axis=1) \\\n",
    "        .to_csv(os.path.join(data_dir, 'train.csv'), header=False, index=False)"
   ]
  },
  {
   "cell_type": "markdown",
   "metadata": {},
   "source": [
    "### Uploading the training data\n",
    "\n",
    "\n",
    "Next, we need to upload the training data to the SageMaker default S3 bucket so that we can provide access to it while training our model."
   ]
  },
  {
   "cell_type": "code",
   "execution_count": 26,
   "metadata": {},
   "outputs": [],
   "source": [
    "import sagemaker\n",
    "\n",
    "sagemaker_session = sagemaker.Session()\n",
    "\n",
    "bucket = sagemaker_session.default_bucket()\n",
    "prefix = 'sagemaker/sentiment_rnn'\n",
    "\n",
    "role = sagemaker.get_execution_role()"
   ]
  },
  {
   "cell_type": "code",
   "execution_count": 27,
   "metadata": {},
   "outputs": [],
   "source": [
    "input_data = sagemaker_session.upload_data(path=data_dir, bucket=bucket, key_prefix=prefix)"
   ]
  },
  {
   "cell_type": "markdown",
   "metadata": {},
   "source": [
    "**NOTE:** The cell above uploads the entire contents of our data directory. This includes the `word_dict.pkl` file. This is fortunate as we will need this later on when we create an endpoint that accepts an arbitrary review. For now, we will just take note of the fact that it resides in the data directory (and so also in the S3 training bucket) and that we will need to make sure it gets saved in the model directory."
   ]
  },
  {
   "cell_type": "markdown",
   "metadata": {},
   "source": [
    "## Step 4: Build and Train the PyTorch Model\n",
    "\n",
    "In the XGBoost notebook we discussed what a model is in the SageMaker framework. In particular, a model comprises three objects\n",
    "\n",
    " - Model Artifacts,\n",
    " - Training Code, and\n",
    " - Inference Code,\n",
    " \n",
    "each of which interact with one another. In the XGBoost example we used training and inference code that was provided by Amazon. Here we will still be using containers provided by Amazon with the added benefit of being able to include our own custom code.\n",
    "\n",
    "We will start by implementing our own neural network in PyTorch along with a training script. For the purposes of this project we have provided the necessary model object in the `model.py` file, inside of the `train` folder. You can see the provided implementation by running the cell below."
   ]
  },
  {
   "cell_type": "code",
   "execution_count": 28,
   "metadata": {},
   "outputs": [
    {
     "name": "stdout",
     "output_type": "stream",
     "text": [
      "\u001b[34mimport\u001b[39;49;00m \u001b[04m\u001b[36mtorch.nn\u001b[39;49;00m \u001b[34mas\u001b[39;49;00m \u001b[04m\u001b[36mnn\u001b[39;49;00m\r\n",
      "\r\n",
      "\u001b[34mclass\u001b[39;49;00m \u001b[04m\u001b[32mLSTMClassifier\u001b[39;49;00m(nn.Module):\r\n",
      "    \u001b[33m\"\"\"\u001b[39;49;00m\r\n",
      "\u001b[33m    This is the simple RNN model we will be using to perform Sentiment Analysis.\u001b[39;49;00m\r\n",
      "\u001b[33m    \"\"\"\u001b[39;49;00m\r\n",
      "\r\n",
      "    \u001b[34mdef\u001b[39;49;00m \u001b[32m__init__\u001b[39;49;00m(\u001b[36mself\u001b[39;49;00m, embedding_dim, hidden_dim, vocab_size):\r\n",
      "        \u001b[33m\"\"\"\u001b[39;49;00m\r\n",
      "\u001b[33m        Initialize the model by settingg up the various layers.\u001b[39;49;00m\r\n",
      "\u001b[33m        \"\"\"\u001b[39;49;00m\r\n",
      "        \u001b[36msuper\u001b[39;49;00m(LSTMClassifier, \u001b[36mself\u001b[39;49;00m).\u001b[32m__init__\u001b[39;49;00m()\r\n",
      "\r\n",
      "        \u001b[36mself\u001b[39;49;00m.embedding = nn.Embedding(vocab_size, embedding_dim, padding_idx=\u001b[34m0\u001b[39;49;00m)\r\n",
      "        \u001b[36mself\u001b[39;49;00m.lstm = nn.LSTM(embedding_dim, hidden_dim)\r\n",
      "        \u001b[36mself\u001b[39;49;00m.dense = nn.Linear(in_features=hidden_dim, out_features=\u001b[34m1\u001b[39;49;00m)\r\n",
      "        \u001b[36mself\u001b[39;49;00m.sig = nn.Sigmoid()\r\n",
      "        \r\n",
      "        \u001b[36mself\u001b[39;49;00m.word_dict = \u001b[36mNone\u001b[39;49;00m\r\n",
      "\r\n",
      "    \u001b[34mdef\u001b[39;49;00m \u001b[32mforward\u001b[39;49;00m(\u001b[36mself\u001b[39;49;00m, x):\r\n",
      "        \u001b[33m\"\"\"\u001b[39;49;00m\r\n",
      "\u001b[33m        Perform a forward pass of our model on some input.\u001b[39;49;00m\r\n",
      "\u001b[33m        \"\"\"\u001b[39;49;00m\r\n",
      "        x = x.t()\r\n",
      "        lengths = x[\u001b[34m0\u001b[39;49;00m,:]\r\n",
      "        reviews = x[\u001b[34m1\u001b[39;49;00m:,:]\r\n",
      "        embeds = \u001b[36mself\u001b[39;49;00m.embedding(reviews)\r\n",
      "        lstm_out, _ = \u001b[36mself\u001b[39;49;00m.lstm(embeds)\r\n",
      "        out = \u001b[36mself\u001b[39;49;00m.dense(lstm_out)\r\n",
      "        out = out[lengths - \u001b[34m1\u001b[39;49;00m, \u001b[36mrange\u001b[39;49;00m(\u001b[36mlen\u001b[39;49;00m(lengths))]\r\n",
      "        \u001b[34mreturn\u001b[39;49;00m \u001b[36mself\u001b[39;49;00m.sig(out.squeeze())\r\n"
     ]
    }
   ],
   "source": [
    "!pygmentize train/model.py"
   ]
  },
  {
   "cell_type": "markdown",
   "metadata": {},
   "source": [
    "The important takeaway from the implementation provided is that there are three parameters that we may wish to tweak to improve the performance of our model. These are the embedding dimension, the hidden dimension and the size of the vocabulary. We will likely want to make these parameters configurable in the training script so that if we wish to modify them we do not need to modify the script itself. We will see how to do this later on. To start we will write some of the training code in the notebook so that we can more easily diagnose any issues that arise.\n",
    "\n",
    "First we will load a small portion of the training data set to use as a sample. It would be very time consuming to try and train the model completely in the notebook as we do not have access to a gpu and the compute instance that we are using is not particularly powerful. However, we can work on a small bit of the data to get a feel for how our training script is behaving."
   ]
  },
  {
   "cell_type": "code",
   "execution_count": 29,
   "metadata": {},
   "outputs": [],
   "source": [
    "import torch\n",
    "import torch.utils.data\n",
    "\n",
    "# Read in only the first 250 rows\n",
    "train_sample = pd.read_csv(os.path.join(data_dir, 'train.csv'), header=None, names=None, nrows=250)\n",
    "\n",
    "# Turn the input pandas dataframe into tensors\n",
    "train_sample_y = torch.from_numpy(train_sample[[0]].values).float().squeeze()\n",
    "train_sample_X = torch.from_numpy(train_sample.drop([0], axis=1).values).long()\n",
    "\n",
    "# Build the dataset\n",
    "train_sample_ds = torch.utils.data.TensorDataset(train_sample_X, train_sample_y)\n",
    "# Build the dataloader\n",
    "train_sample_dl = torch.utils.data.DataLoader(train_sample_ds, batch_size=50)"
   ]
  },
  {
   "cell_type": "markdown",
   "metadata": {},
   "source": [
    "### (TODO) Writing the training method\n",
    "\n",
    "Next we need to write the training code itself. This should be very similar to training methods that you have written before to train PyTorch models. We will leave any difficult aspects such as model saving / loading and parameter loading until a little later."
   ]
  },
  {
   "cell_type": "code",
   "execution_count": 30,
   "metadata": {},
   "outputs": [],
   "source": [
    "def train(model, train_loader, epochs, optimizer, loss_fn, device):\n",
    "    for epoch in range(1, epochs + 1):\n",
    "        model.train()\n",
    "        total_loss = 0\n",
    "        for batch in train_loader:         \n",
    "            batch_X, batch_y = batch\n",
    "            \n",
    "            batch_X = batch_X.to(device)\n",
    "            batch_y = batch_y.to(device)\n",
    "            \n",
    "            # TODO: Complete this train method to train the model provided.\n",
    "            output = model(batch_X)\n",
    "            loss = loss_fn(output, batch_y)\n",
    "            loss.backward()\n",
    "            optimizer.step()\n",
    "            \n",
    "            \n",
    "            total_loss += loss.data.item()\n",
    "        print(\"Epoch: {}, BCELoss: {}\".format(epoch, total_loss / len(train_loader)))\n",
    "        \n",
    "        \n",
    "device = torch.device(\"cuda\" if torch.cuda.is_available() else \"cpu\")"
   ]
  },
  {
   "cell_type": "markdown",
   "metadata": {},
   "source": [
    "Supposing we have the training method above, we will test that it is working by writing a bit of code in the notebook that executes our training method on the small sample training set that we loaded earlier. The reason for doing this in the notebook is so that we have an opportunity to fix any errors that arise early when they are easier to diagnose."
   ]
  },
  {
   "cell_type": "code",
   "execution_count": 31,
   "metadata": {},
   "outputs": [
    {
     "name": "stdout",
     "output_type": "stream",
     "text": [
      "Epoch: 1, BCELoss: 0.6987334609031677\n",
      "Epoch: 2, BCELoss: 0.68560289144516\n",
      "Epoch: 3, BCELoss: 0.6715470314025879\n",
      "Epoch: 4, BCELoss: 0.654593825340271\n",
      "Epoch: 5, BCELoss: 0.6321419239044189\n",
      "Epoch: 6, BCELoss: 0.6026300311088562\n",
      "Epoch: 7, BCELoss: 0.5566625595092773\n",
      "Epoch: 8, BCELoss: 0.4968938171863556\n",
      "Epoch: 9, BCELoss: 0.4829494059085846\n",
      "Epoch: 10, BCELoss: 0.4413573443889618\n",
      "Epoch: 11, BCELoss: 0.39535012245178225\n"
     ]
    }
   ],
   "source": [
    "import torch.optim as optim\n",
    "from train.model import LSTMClassifier\n",
    "\n",
    "device = torch.device(\"cuda\" if torch.cuda.is_available() else \"cpu\")\n",
    "model = LSTMClassifier(32, 100, 5000).to(device)\n",
    "optimizer = optim.Adam(model.parameters())\n",
    "loss_fn = torch.nn.BCELoss()\n",
    "\n",
    "train(model, train_sample_dl, 11, optimizer, loss_fn, device)"
   ]
  },
  {
   "cell_type": "markdown",
   "metadata": {},
   "source": [
    "In order to construct a PyTorch model using SageMaker we must provide SageMaker with a training script. We may optionally include a directory which will be copied to the container and from which our training code will be run. When the training container is executed it will check the uploaded directory (if there is one) for a `requirements.txt` file and install any required Python libraries, after which the training script will be run."
   ]
  },
  {
   "cell_type": "markdown",
   "metadata": {},
   "source": [
    "### (TODO) Training the model\n",
    "\n",
    "When a PyTorch model is constructed in SageMaker, an entry point must be specified. This is the Python file which will be executed when the model is trained. Inside of the `train` directory is a file called `train.py` which has been provided and which contains most of the necessary code to train our model. The only thing that is missing is the implementation of the `train()` method which you wrote earlier in this notebook.\n",
    "\n",
    "**TODO**: Copy the `train()` method written above and paste it into the `train/train.py` file where required.\n",
    "\n",
    "The way that SageMaker passes hyperparameters to the training script is by way of arguments. These arguments can then be parsed and used in the training script. To see how this is done take a look at the provided `train/train.py` file."
   ]
  },
  {
   "cell_type": "code",
   "execution_count": 37,
   "metadata": {},
   "outputs": [],
   "source": [
    "from sagemaker.pytorch import PyTorch\n",
    "\n",
    "estimator = PyTorch(entry_point=\"train.py\",\n",
    "                    source_dir=\"train\",\n",
    "                    role=role,\n",
    "                    framework_version='0.4.0',\n",
    "                    train_instance_count=1,\n",
    "                    train_instance_type='ml.p2.xlarge',\n",
    "                    hyperparameters={\n",
    "                        'epochs': 10,\n",
    "                        'hidden_dim': 200,\n",
    "                    })"
   ]
  },
  {
   "cell_type": "code",
   "execution_count": 38,
   "metadata": {},
   "outputs": [
    {
     "name": "stdout",
     "output_type": "stream",
     "text": [
      "2020-01-05 08:56:01 Starting - Starting the training job...\n",
      "2020-01-05 08:56:03 Starting - Launching requested ML instances...\n",
      "2020-01-05 08:56:57 Starting - Preparing the instances for training.........\n",
      "2020-01-05 08:58:17 Downloading - Downloading input data...\n",
      "2020-01-05 08:58:54 Training - Downloading the training image...\n",
      "2020-01-05 08:59:13 Training - Training image download completed. Training in progress.\u001b[34mbash: cannot set terminal process group (-1): Inappropriate ioctl for device\u001b[0m\n",
      "\u001b[34mbash: no job control in this shell\u001b[0m\n",
      "\u001b[34m2020-01-05 08:59:14,491 sagemaker-containers INFO     Imported framework sagemaker_pytorch_container.training\u001b[0m\n",
      "\u001b[34m2020-01-05 08:59:14,514 sagemaker_pytorch_container.training INFO     Block until all host DNS lookups succeed.\u001b[0m\n",
      "\u001b[34m2020-01-05 08:59:15,931 sagemaker_pytorch_container.training INFO     Invoking user training script.\u001b[0m\n",
      "\u001b[34m2020-01-05 08:59:16,155 sagemaker-containers INFO     Module train does not provide a setup.py. \u001b[0m\n",
      "\u001b[34mGenerating setup.py\u001b[0m\n",
      "\u001b[34m2020-01-05 08:59:16,155 sagemaker-containers INFO     Generating setup.cfg\u001b[0m\n",
      "\u001b[34m2020-01-05 08:59:16,155 sagemaker-containers INFO     Generating MANIFEST.in\u001b[0m\n",
      "\u001b[34m2020-01-05 08:59:16,156 sagemaker-containers INFO     Installing module with the following command:\u001b[0m\n",
      "\u001b[34m/usr/bin/python -m pip install -U . -r requirements.txt\u001b[0m\n",
      "\u001b[34mProcessing /opt/ml/code\u001b[0m\n",
      "\u001b[34mCollecting pandas (from -r requirements.txt (line 1))\n",
      "  Downloading https://files.pythonhosted.org/packages/74/24/0cdbf8907e1e3bc5a8da03345c23cbed7044330bb8f73bb12e711a640a00/pandas-0.24.2-cp35-cp35m-manylinux1_x86_64.whl (10.0MB)\u001b[0m\n",
      "\u001b[34mCollecting numpy (from -r requirements.txt (line 2))\u001b[0m\n",
      "\u001b[34m  Downloading https://files.pythonhosted.org/packages/eb/ec/d4b7855249ce87ece79783562dd6101b1f0abf461c25101c2e959d691e68/numpy-1.18.0-cp35-cp35m-manylinux1_x86_64.whl (19.9MB)\u001b[0m\n",
      "\u001b[34mCollecting nltk (from -r requirements.txt (line 3))\n",
      "  Downloading https://files.pythonhosted.org/packages/f6/1d/d925cfb4f324ede997f6d47bea4d9babba51b49e87a767c170b77005889d/nltk-3.4.5.zip (1.5MB)\u001b[0m\n",
      "\u001b[34mCollecting beautifulsoup4 (from -r requirements.txt (line 4))\n",
      "  Downloading https://files.pythonhosted.org/packages/cb/a1/c698cf319e9cfed6b17376281bd0efc6bfc8465698f54170ef60a485ab5d/beautifulsoup4-4.8.2-py3-none-any.whl (106kB)\u001b[0m\n",
      "\u001b[34mCollecting html5lib (from -r requirements.txt (line 5))\n",
      "  Downloading https://files.pythonhosted.org/packages/a5/62/bbd2be0e7943ec8504b517e62bab011b4946e1258842bc159e5dfde15b96/html5lib-1.0.1-py2.py3-none-any.whl (117kB)\u001b[0m\n",
      "\u001b[34mRequirement already satisfied, skipping upgrade: python-dateutil>=2.5.0 in /usr/local/lib/python3.5/dist-packages (from pandas->-r requirements.txt (line 1)) (2.7.5)\u001b[0m\n",
      "\u001b[34mCollecting pytz>=2011k (from pandas->-r requirements.txt (line 1))\n",
      "  Downloading https://files.pythonhosted.org/packages/e7/f9/f0b53f88060247251bf481fa6ea62cd0d25bf1b11a87888e53ce5b7c8ad2/pytz-2019.3-py2.py3-none-any.whl (509kB)\u001b[0m\n",
      "\u001b[34mRequirement already satisfied, skipping upgrade: six in /usr/local/lib/python3.5/dist-packages (from nltk->-r requirements.txt (line 3)) (1.11.0)\u001b[0m\n",
      "\u001b[34mCollecting soupsieve>=1.2 (from beautifulsoup4->-r requirements.txt (line 4))\n",
      "  Downloading https://files.pythonhosted.org/packages/81/94/03c0f04471fc245d08d0a99f7946ac228ca98da4fa75796c507f61e688c2/soupsieve-1.9.5-py2.py3-none-any.whl\u001b[0m\n",
      "\u001b[34mCollecting webencodings (from html5lib->-r requirements.txt (line 5))\n",
      "  Downloading https://files.pythonhosted.org/packages/f4/24/2a3e3df732393fed8b3ebf2ec078f05546de641fe1b667ee316ec1dcf3b7/webencodings-0.5.1-py2.py3-none-any.whl\u001b[0m\n",
      "\u001b[34mBuilding wheels for collected packages: nltk, train\n",
      "  Running setup.py bdist_wheel for nltk: started\u001b[0m\n",
      "\u001b[34m  Running setup.py bdist_wheel for nltk: finished with status 'done'\n",
      "  Stored in directory: /root/.cache/pip/wheels/96/86/f6/68ab24c23f207c0077381a5e3904b2815136b879538a24b483\n",
      "  Running setup.py bdist_wheel for train: started\u001b[0m\n",
      "\u001b[34m  Running setup.py bdist_wheel for train: finished with status 'done'\n",
      "  Stored in directory: /tmp/pip-ephem-wheel-cache-pxf24zwj/wheels/35/24/16/37574d11bf9bde50616c67372a334f94fa8356bc7164af8ca3\u001b[0m\n",
      "\u001b[34mSuccessfully built nltk train\u001b[0m\n",
      "\u001b[34mInstalling collected packages: numpy, pytz, pandas, nltk, soupsieve, beautifulsoup4, webencodings, html5lib, train\n",
      "  Found existing installation: numpy 1.15.4\n",
      "    Uninstalling numpy-1.15.4:\n",
      "      Successfully uninstalled numpy-1.15.4\u001b[0m\n",
      "\u001b[34mSuccessfully installed beautifulsoup4-4.8.2 html5lib-1.0.1 nltk-3.4.5 numpy-1.18.0 pandas-0.24.2 pytz-2019.3 soupsieve-1.9.5 train-1.0.0 webencodings-0.5.1\u001b[0m\n",
      "\u001b[34mYou are using pip version 18.1, however version 19.3.1 is available.\u001b[0m\n",
      "\u001b[34mYou should consider upgrading via the 'pip install --upgrade pip' command.\u001b[0m\n",
      "\u001b[34m2020-01-05 08:59:27,522 sagemaker-containers INFO     Invoking user script\n",
      "\u001b[0m\n",
      "\u001b[34mTraining Env:\n",
      "\u001b[0m\n",
      "\u001b[34m{\n",
      "    \"output_data_dir\": \"/opt/ml/output/data\",\n",
      "    \"network_interface_name\": \"eth0\",\n",
      "    \"hyperparameters\": {\n",
      "        \"epochs\": 10,\n",
      "        \"hidden_dim\": 200\n",
      "    },\n",
      "    \"hosts\": [\n",
      "        \"algo-1\"\n",
      "    ],\n",
      "    \"output_intermediate_dir\": \"/opt/ml/output/intermediate\",\n",
      "    \"module_name\": \"train\",\n",
      "    \"model_dir\": \"/opt/ml/model\",\n",
      "    \"current_host\": \"algo-1\",\n",
      "    \"resource_config\": {\n",
      "        \"current_host\": \"algo-1\",\n",
      "        \"network_interface_name\": \"eth0\",\n",
      "        \"hosts\": [\n",
      "            \"algo-1\"\n",
      "        ]\n",
      "    },\n",
      "    \"framework_module\": \"sagemaker_pytorch_container.training:main\",\n",
      "    \"log_level\": 20,\n",
      "    \"channel_input_dirs\": {\n",
      "        \"training\": \"/opt/ml/input/data/training\"\n",
      "    },\n",
      "    \"input_data_config\": {\n",
      "        \"training\": {\n",
      "            \"TrainingInputMode\": \"File\",\n",
      "            \"RecordWrapperType\": \"None\",\n",
      "            \"S3DistributionType\": \"FullyReplicated\"\n",
      "        }\n",
      "    },\n",
      "    \"num_cpus\": 4,\n",
      "    \"user_entry_point\": \"train.py\",\n",
      "    \"additional_framework_parameters\": {},\n",
      "    \"input_config_dir\": \"/opt/ml/input/config\",\n",
      "    \"job_name\": \"sagemaker-pytorch-2020-01-05-08-56-00-078\",\n",
      "    \"input_dir\": \"/opt/ml/input\",\n",
      "    \"num_gpus\": 1,\n",
      "    \"module_dir\": \"s3://sagemaker-ap-south-1-342884229057/sagemaker-pytorch-2020-01-05-08-56-00-078/source/sourcedir.tar.gz\",\n",
      "    \"output_dir\": \"/opt/ml/output\"\u001b[0m\n",
      "\u001b[34m}\n",
      "\u001b[0m\n",
      "\u001b[34mEnvironment variables:\n",
      "\u001b[0m\n",
      "\u001b[34mSM_NUM_CPUS=4\u001b[0m\n",
      "\u001b[34mSM_NUM_GPUS=1\u001b[0m\n",
      "\u001b[34mSM_FRAMEWORK_MODULE=sagemaker_pytorch_container.training:main\u001b[0m\n",
      "\u001b[34mSM_OUTPUT_INTERMEDIATE_DIR=/opt/ml/output/intermediate\u001b[0m\n",
      "\u001b[34mSM_HP_HIDDEN_DIM=200\u001b[0m\n",
      "\u001b[34mSM_CHANNEL_TRAINING=/opt/ml/input/data/training\u001b[0m\n",
      "\u001b[34mSM_INPUT_DIR=/opt/ml/input\u001b[0m\n",
      "\u001b[34mSM_INPUT_DATA_CONFIG={\"training\":{\"RecordWrapperType\":\"None\",\"S3DistributionType\":\"FullyReplicated\",\"TrainingInputMode\":\"File\"}}\u001b[0m\n",
      "\u001b[34mSM_USER_ARGS=[\"--epochs\",\"10\",\"--hidden_dim\",\"200\"]\u001b[0m\n",
      "\u001b[34mSM_MODULE_NAME=train\u001b[0m\n",
      "\u001b[34mSM_OUTPUT_DIR=/opt/ml/output\u001b[0m\n",
      "\u001b[34mSM_TRAINING_ENV={\"additional_framework_parameters\":{},\"channel_input_dirs\":{\"training\":\"/opt/ml/input/data/training\"},\"current_host\":\"algo-1\",\"framework_module\":\"sagemaker_pytorch_container.training:main\",\"hosts\":[\"algo-1\"],\"hyperparameters\":{\"epochs\":10,\"hidden_dim\":200},\"input_config_dir\":\"/opt/ml/input/config\",\"input_data_config\":{\"training\":{\"RecordWrapperType\":\"None\",\"S3DistributionType\":\"FullyReplicated\",\"TrainingInputMode\":\"File\"}},\"input_dir\":\"/opt/ml/input\",\"job_name\":\"sagemaker-pytorch-2020-01-05-08-56-00-078\",\"log_level\":20,\"model_dir\":\"/opt/ml/model\",\"module_dir\":\"s3://sagemaker-ap-south-1-342884229057/sagemaker-pytorch-2020-01-05-08-56-00-078/source/sourcedir.tar.gz\",\"module_name\":\"train\",\"network_interface_name\":\"eth0\",\"num_cpus\":4,\"num_gpus\":1,\"output_data_dir\":\"/opt/ml/output/data\",\"output_dir\":\"/opt/ml/output\",\"output_intermediate_dir\":\"/opt/ml/output/intermediate\",\"resource_config\":{\"current_host\":\"algo-1\",\"hosts\":[\"algo-1\"],\"network_interface_name\":\"eth0\"},\"user_entry_point\":\"train.py\"}\u001b[0m\n",
      "\u001b[34mSM_CURRENT_HOST=algo-1\u001b[0m\n",
      "\u001b[34mSM_NETWORK_INTERFACE_NAME=eth0\u001b[0m\n",
      "\u001b[34mSM_LOG_LEVEL=20\u001b[0m\n",
      "\u001b[34mSM_CHANNELS=[\"training\"]\u001b[0m\n",
      "\u001b[34mSM_RESOURCE_CONFIG={\"current_host\":\"algo-1\",\"hosts\":[\"algo-1\"],\"network_interface_name\":\"eth0\"}\u001b[0m\n",
      "\u001b[34mSM_FRAMEWORK_PARAMS={}\u001b[0m\n",
      "\u001b[34mSM_HP_EPOCHS=10\u001b[0m\n",
      "\u001b[34mSM_USER_ENTRY_POINT=train.py\u001b[0m\n",
      "\u001b[34mPYTHONPATH=/usr/local/bin:/usr/lib/python35.zip:/usr/lib/python3.5:/usr/lib/python3.5/plat-x86_64-linux-gnu:/usr/lib/python3.5/lib-dynload:/usr/local/lib/python3.5/dist-packages:/usr/lib/python3/dist-packages\u001b[0m\n",
      "\u001b[34mSM_INPUT_CONFIG_DIR=/opt/ml/input/config\u001b[0m\n",
      "\u001b[34mSM_MODULE_DIR=s3://sagemaker-ap-south-1-342884229057/sagemaker-pytorch-2020-01-05-08-56-00-078/source/sourcedir.tar.gz\u001b[0m\n",
      "\u001b[34mSM_HPS={\"epochs\":10,\"hidden_dim\":200}\u001b[0m\n",
      "\u001b[34mSM_OUTPUT_DATA_DIR=/opt/ml/output/data\u001b[0m\n",
      "\u001b[34mSM_HOSTS=[\"algo-1\"]\u001b[0m\n",
      "\u001b[34mSM_MODEL_DIR=/opt/ml/model\n",
      "\u001b[0m\n",
      "\u001b[34mInvoking script with the following command:\n",
      "\u001b[0m\n",
      "\u001b[34m/usr/bin/python -m train --epochs 10 --hidden_dim 200\n",
      "\n",
      "\u001b[0m\n",
      "\u001b[34mUsing device cuda.\u001b[0m\n",
      "\u001b[34mGet train data loader.\u001b[0m\n",
      "\u001b[34mModel loaded with embedding_dim 32, hidden_dim 200, vocab_size 5000.\u001b[0m\n"
     ]
    },
    {
     "name": "stdout",
     "output_type": "stream",
     "text": [
      "\u001b[34mEpoch: 1, BCELoss: 0.6795043069489148\u001b[0m\n",
      "\u001b[34mEpoch: 2, BCELoss: 0.6585599451648946\u001b[0m\n",
      "\u001b[34mEpoch: 3, BCELoss: 0.6778386125759203\u001b[0m\n",
      "\u001b[34mEpoch: 4, BCELoss: 0.6427494384804551\u001b[0m\n",
      "\u001b[34mEpoch: 5, BCELoss: 0.5514015306015404\u001b[0m\n",
      "\u001b[34mEpoch: 6, BCELoss: 0.5253561455376294\u001b[0m\n",
      "\u001b[34mEpoch: 7, BCELoss: 0.6123380150113787\u001b[0m\n",
      "\u001b[34mEpoch: 8, BCELoss: 0.5915674007668787\u001b[0m\n",
      "\u001b[34mEpoch: 9, BCELoss: 0.5387166416158482\u001b[0m\n",
      "\n",
      "2020-01-05 09:02:31 Uploading - Uploading generated training model\u001b[34mEpoch: 10, BCELoss: 0.5604347842080253\u001b[0m\n",
      "\u001b[34m2020-01-05 09:02:28,645 sagemaker-containers INFO     Reporting training SUCCESS\u001b[0m\n",
      "\n",
      "2020-01-05 09:02:38 Completed - Training job completed\n",
      "Training seconds: 261\n",
      "Billable seconds: 261\n"
     ]
    }
   ],
   "source": [
    "estimator.fit({'training': input_data})"
   ]
  },
  {
   "cell_type": "markdown",
   "metadata": {},
   "source": [
    "## Step 5: Testing the model\n",
    "\n",
    "As mentioned at the top of this notebook, we will be testing this model by first deploying it and then sending the testing data to the deployed endpoint. We will do this so that we can make sure that the deployed model is working correctly.\n",
    "\n",
    "## Step 6: Deploy the model for testing\n",
    "\n",
    "Now that we have trained our model, we would like to test it to see how it performs. Currently our model takes input of the form `review_length, review[500]` where `review[500]` is a sequence of `500` integers which describe the words present in the review, encoded using `word_dict`. Fortunately for us, SageMaker provides built-in inference code for models with simple inputs such as this.\n",
    "\n",
    "There is one thing that we need to provide, however, and that is a function which loads the saved model. This function must be called `model_fn()` and takes as its only parameter a path to the directory where the model artifacts are stored. This function must also be present in the python file which we specified as the entry point. In our case the model loading function has been provided and so no changes need to be made.\n",
    "\n",
    "**NOTE**: When the built-in inference code is run it must import the `model_fn()` method from the `train.py` file. This is why the training code is wrapped in a main guard ( ie, `if __name__ == '__main__':` )\n",
    "\n",
    "Since we don't need to change anything in the code that was uploaded during training, we can simply deploy the current model as-is.\n",
    "\n",
    "**NOTE:** When deploying a model you are asking SageMaker to launch an compute instance that will wait for data to be sent to it. As a result, this compute instance will continue to run until *you* shut it down. This is important to know since the cost of a deployed endpoint depends on how long it has been running for.\n",
    "\n",
    "In other words **If you are no longer using a deployed endpoint, shut it down!**\n",
    "\n",
    "**TODO:** Deploy the trained model."
   ]
  },
  {
   "cell_type": "code",
   "execution_count": 39,
   "metadata": {
    "scrolled": true
   },
   "outputs": [
    {
     "name": "stdout",
     "output_type": "stream",
     "text": [
      "--------------------------------------------------------------!"
     ]
    }
   ],
   "source": [
    "# TODO: Deploy the trained model\n",
    "predictor = estimator.deploy(initial_instance_count=1, instance_type='ml.m4.xlarge')"
   ]
  },
  {
   "cell_type": "markdown",
   "metadata": {},
   "source": [
    "## Step 7 - Use the model for testing\n",
    "\n",
    "Once deployed, we can read in the test data and send it off to our deployed model to get some results. Once we collect all of the results we can determine how accurate our model is."
   ]
  },
  {
   "cell_type": "code",
   "execution_count": 40,
   "metadata": {},
   "outputs": [],
   "source": [
    "test_X = pd.concat([pd.DataFrame(test_X_len), pd.DataFrame(test_X)], axis=1)"
   ]
  },
  {
   "cell_type": "code",
   "execution_count": 41,
   "metadata": {},
   "outputs": [],
   "source": [
    "# We split the data into chunks and send each chunk seperately, accumulating the results.\n",
    "\n",
    "def predict(data, rows=512):\n",
    "    split_array = np.array_split(data, int(data.shape[0] / float(rows) + 1))\n",
    "    predictions = np.array([])\n",
    "    for array in split_array:\n",
    "        predictions = np.append(predictions, predictor.predict(array))\n",
    "    \n",
    "    return predictions"
   ]
  },
  {
   "cell_type": "code",
   "execution_count": 42,
   "metadata": {},
   "outputs": [],
   "source": [
    "predictions = predict(test_X.values)\n",
    "predictions = [round(num) for num in predictions]"
   ]
  },
  {
   "cell_type": "code",
   "execution_count": 43,
   "metadata": {},
   "outputs": [
    {
     "data": {
      "text/plain": [
       "0.71024"
      ]
     },
     "execution_count": 43,
     "metadata": {},
     "output_type": "execute_result"
    }
   ],
   "source": [
    "from sklearn.metrics import accuracy_score\n",
    "accuracy_score(test_y, predictions)"
   ]
  },
  {
   "cell_type": "markdown",
   "metadata": {},
   "source": [
    "**Question:** How does this model compare to the XGBoost model you created earlier? Why might these two models perform differently on this dataset? Which do *you* think is better for sentiment analysis?"
   ]
  },
  {
   "cell_type": "markdown",
   "metadata": {},
   "source": [
    "**Answer:**\n",
    "XGBoost is a gradient boosting library which is suitable to handle smaller variable problems with less amount of training and more accuracy. But Deep Learning is designed for large variable data and supervised as well as Unsupervised Learning, but the only downpoint is that it requires more training. For Sentiment Analysis XGBoost is better because it's performance is really well in most regression and classification problems with better result and less amount of training as well. And our task here is a mono classification problem, so yes it would have been better."
   ]
  },
  {
   "cell_type": "markdown",
   "metadata": {},
   "source": [
    "### (TODO) More testing\n",
    "\n",
    "We now have a trained model which has been deployed and which we can send processed reviews to and which returns the predicted sentiment. However, ultimately we would like to be able to send our model an unprocessed review. That is, we would like to send the review itself as a string. For example, suppose we wish to send the following review to our model."
   ]
  },
  {
   "cell_type": "code",
   "execution_count": 61,
   "metadata": {},
   "outputs": [],
   "source": [
    "test_review = 'The simplest pleasures in life are the best, and this film is one of them. Combining a rather basic storyline of love and adventure this movie transcends the usual weekend fair with wit and unmitigated charm.'\n",
    "test_review1 = 'The movie was horrible and I did not liked it at all.'"
   ]
  },
  {
   "cell_type": "markdown",
   "metadata": {},
   "source": [
    "The question we now need to answer is, how do we send this review to our model?\n",
    "\n",
    "Recall in the first section of this notebook we did a bunch of data processing to the IMDb dataset. In particular, we did two specific things to the provided reviews.\n",
    " - Removed any html tags and stemmed the input\n",
    " - Encoded the review as a sequence of integers using `word_dict`\n",
    " \n",
    "In order process the review we will need to repeat these two steps.\n",
    "\n",
    "**TODO**: Using the `review_to_words` and `convert_and_pad` methods from section one, convert `test_review` into a numpy array `test_data` suitable to send to our model. Remember that our model expects input of the form `review_length, review[500]`."
   ]
  },
  {
   "cell_type": "code",
   "execution_count": 45,
   "metadata": {},
   "outputs": [
    {
     "name": "stdout",
     "output_type": "stream",
     "text": [
      "[[   8    1    1 ...    0    0    0]\n",
      " [   7 1439 1223 ...    0    0    0]\n",
      " [   4 1223    1 ...    0    0    0]\n",
      " ...\n",
      " [   3 1811    1 ...    0    0    0]\n",
      " [   7 1101 1499 ...    0    0    0]\n",
      " [   5  894 1768 ...    0    0    0]]\n",
      "    0     0     1     2     3     4     5     6     7    8    ...  490  491  \\\n",
      "0     8     1     1     1  1439  1223   704     1     1    0  ...    0    0   \n",
      "1     7  1439  1223   704     1     1  1101  1208     0    0  ...    0    0   \n",
      "2     4  1223     1  1046   704     0     0     0     0    0  ...    0    0   \n",
      "3     4   425   704     1     1     0     0     0     0    0  ...    0    0   \n",
      "4     4  1046     1  1223     1     0     0     0     0    0  ...    0    0   \n",
      "5     3     1  1499   704     0     0     0     0     0    0  ...    0    0   \n",
      "6     6   894     1     1   425     1  1499     0     0    0  ...    0    0   \n",
      "7     6  1208     1     1  1768   704  1208     0     0    0  ...    0    0   \n",
      "8     5   425     1     1     1   894     0     0     0    0  ...    0    0   \n",
      "9     8     1     1     1  1208     1  1223     1  1499    0  ...    0    0   \n",
      "10    4  1223     1  1732   704     0     0     0     0    0  ...    0    0   \n",
      "11    8     1     1  1732   704  1499     1  1101  1208    0  ...    0    0   \n",
      "12    4     1     1  1732     1     0     0     0     0    0  ...    0    0   \n",
      "13    9     1  1208     1  1499     1   894   704  1499    1  ...    0    0   \n",
      "14    5  1101     1  1101     1  1223     0     0     0    0  ...    0    0   \n",
      "15    7  1811   704   704  1919   704  1499     1     0    0  ...    0    0   \n",
      "16    4  1046     1     1  1208     0     0     0     0    0  ...    0    0   \n",
      "17    3  1811     1     1     0     0     0     0     0    0  ...    0    0   \n",
      "18    7  1101  1499     1     1     1     1  1120     0    0  ...    0    0   \n",
      "19    5   894  1768     1  1208     1     0     0     0    0  ...    0    0   \n",
      "\n",
      "    492  493  494  495  496  497  498  499  \n",
      "0     0    0    0    0    0    0    0    0  \n",
      "1     0    0    0    0    0    0    0    0  \n",
      "2     0    0    0    0    0    0    0    0  \n",
      "3     0    0    0    0    0    0    0    0  \n",
      "4     0    0    0    0    0    0    0    0  \n",
      "5     0    0    0    0    0    0    0    0  \n",
      "6     0    0    0    0    0    0    0    0  \n",
      "7     0    0    0    0    0    0    0    0  \n",
      "8     0    0    0    0    0    0    0    0  \n",
      "9     0    0    0    0    0    0    0    0  \n",
      "10    0    0    0    0    0    0    0    0  \n",
      "11    0    0    0    0    0    0    0    0  \n",
      "12    0    0    0    0    0    0    0    0  \n",
      "13    0    0    0    0    0    0    0    0  \n",
      "14    0    0    0    0    0    0    0    0  \n",
      "15    0    0    0    0    0    0    0    0  \n",
      "16    0    0    0    0    0    0    0    0  \n",
      "17    0    0    0    0    0    0    0    0  \n",
      "18    0    0    0    0    0    0    0    0  \n",
      "19    0    0    0    0    0    0    0    0  \n",
      "\n",
      "[20 rows x 501 columns]\n"
     ]
    }
   ],
   "source": [
    "data_X = None\n",
    "data_len = None\n",
    "input_data_words = review_to_words(test_review)\n",
    "data_X, data_len = convert_and_pad_data(word_dict, input_data_words)\n",
    "data_pack = np.column_stack((data_len, data_X))\n",
    "print(data_pack)\n",
    "data = torch.from_numpy(data_pack)\n",
    "data = data.to(device)\n",
    "# TODO: Convert test_review into a form usable by the model and save the results in test_data\n",
    "\n",
    "test_data = None\n",
    "predictions = None\n",
    "test_review_words = review_to_words(test_review)\n",
    "test_data, test_data_len = convert_and_pad_data(word_dict, test_review_words)\n",
    "test_data = pd.concat([pd.DataFrame(test_data_len), pd.DataFrame(test_data)], axis=1)\n",
    "print(test_data)"
   ]
  },
  {
   "cell_type": "markdown",
   "metadata": {},
   "source": [
    "Now that we have processed the review, we can send the resulting array to our model to predict the sentiment of the review."
   ]
  },
  {
   "cell_type": "code",
   "execution_count": 46,
   "metadata": {},
   "outputs": [
    {
     "data": {
      "text/plain": [
       "array([0.52174133, 0.93590164, 0.2782172 , 0.71846986, 0.2796215 ,\n",
       "       0.5156442 , 0.31924686, 0.9846635 , 0.3112308 , 0.58014643,\n",
       "       0.28195602, 0.9375674 , 0.35722858, 0.787729  , 0.7473434 ,\n",
       "       0.7498028 , 0.7743697 , 0.6535448 , 0.93212336, 0.66334844],\n",
       "      dtype=float32)"
      ]
     },
     "execution_count": 46,
     "metadata": {},
     "output_type": "execute_result"
    }
   ],
   "source": [
    "predictor.predict(test_data)"
   ]
  },
  {
   "cell_type": "markdown",
   "metadata": {},
   "source": [
    "Since the return value of our model is close to `1`, we can be certain that the review we submitted is positive."
   ]
  },
  {
   "cell_type": "markdown",
   "metadata": {},
   "source": [
    "### Delete the endpoint\n",
    "\n",
    "Of course, just like in the XGBoost notebook, once we've deployed an endpoint it continues to run until we tell it to shut down. Since we are done using our endpoint for now, we can delete it."
   ]
  },
  {
   "cell_type": "code",
   "execution_count": 47,
   "metadata": {},
   "outputs": [],
   "source": [
    "estimator.delete_endpoint()"
   ]
  },
  {
   "cell_type": "markdown",
   "metadata": {},
   "source": [
    "## Step 6 (again) - Deploy the model for the web app\n",
    "\n",
    "Now that we know that our model is working, it's time to create some custom inference code so that we can send the model a review which has not been processed and have it determine the sentiment of the review.\n",
    "\n",
    "As we saw above, by default the estimator which we created, when deployed, will use the entry script and directory which we provided when creating the model. However, since we now wish to accept a string as input and our model expects a processed review, we need to write some custom inference code.\n",
    "\n",
    "We will store the code that we write in the `serve` directory. Provided in this directory is the `model.py` file that we used to construct our model, a `utils.py` file which contains the `review_to_words` and `convert_and_pad` pre-processing functions which we used during the initial data processing, and `predict.py`, the file which will contain our custom inference code. Note also that `requirements.txt` is present which will tell SageMaker what Python libraries are required by our custom inference code.\n",
    "\n",
    "When deploying a PyTorch model in SageMaker, you are expected to provide four functions which the SageMaker inference container will use.\n",
    " - `model_fn`: This function is the same function that we used in the training script and it tells SageMaker how to load our model.\n",
    " - `input_fn`: This function receives the raw serialized input that has been sent to the model's endpoint and its job is to de-serialize and make the input available for the inference code.\n",
    " - `output_fn`: This function takes the output of the inference code and its job is to serialize this output and return it to the caller of the model's endpoint.\n",
    " - `predict_fn`: The heart of the inference script, this is where the actual prediction is done and is the function which you will need to complete.\n",
    "\n",
    "For the simple website that we are constructing during this project, the `input_fn` and `output_fn` methods are relatively straightforward. We only require being able to accept a string as input and we expect to return a single value as output. You might imagine though that in a more complex application the input or output may be image data or some other binary data which would require some effort to serialize.\n",
    "\n",
    "### (TODO) Writing inference code\n",
    "\n",
    "Before writing our custom inference code, we will begin by taking a look at the code which has been provided."
   ]
  },
  {
   "cell_type": "code",
   "execution_count": 48,
   "metadata": {},
   "outputs": [
    {
     "name": "stdout",
     "output_type": "stream",
     "text": [
      "\u001b[34mimport\u001b[39;49;00m \u001b[04m\u001b[36margparse\u001b[39;49;00m\r\n",
      "\u001b[34mimport\u001b[39;49;00m \u001b[04m\u001b[36mjson\u001b[39;49;00m\r\n",
      "\u001b[34mimport\u001b[39;49;00m \u001b[04m\u001b[36mos\u001b[39;49;00m\r\n",
      "\u001b[34mimport\u001b[39;49;00m \u001b[04m\u001b[36mpickle\u001b[39;49;00m\r\n",
      "\u001b[34mimport\u001b[39;49;00m \u001b[04m\u001b[36msys\u001b[39;49;00m\r\n",
      "\u001b[34mimport\u001b[39;49;00m \u001b[04m\u001b[36msagemaker_containers\u001b[39;49;00m\r\n",
      "\u001b[34mimport\u001b[39;49;00m \u001b[04m\u001b[36mpandas\u001b[39;49;00m \u001b[34mas\u001b[39;49;00m \u001b[04m\u001b[36mpd\u001b[39;49;00m\r\n",
      "\u001b[34mimport\u001b[39;49;00m \u001b[04m\u001b[36mnumpy\u001b[39;49;00m \u001b[34mas\u001b[39;49;00m \u001b[04m\u001b[36mnp\u001b[39;49;00m\r\n",
      "\u001b[34mimport\u001b[39;49;00m \u001b[04m\u001b[36mtorch\u001b[39;49;00m\r\n",
      "\u001b[34mimport\u001b[39;49;00m \u001b[04m\u001b[36mtorch.nn\u001b[39;49;00m \u001b[34mas\u001b[39;49;00m \u001b[04m\u001b[36mnn\u001b[39;49;00m\r\n",
      "\u001b[34mimport\u001b[39;49;00m \u001b[04m\u001b[36mtorch.optim\u001b[39;49;00m \u001b[34mas\u001b[39;49;00m \u001b[04m\u001b[36moptim\u001b[39;49;00m\r\n",
      "\u001b[34mimport\u001b[39;49;00m \u001b[04m\u001b[36mtorch.utils.data\u001b[39;49;00m\r\n",
      "\r\n",
      "\u001b[34mfrom\u001b[39;49;00m \u001b[04m\u001b[36mmodel\u001b[39;49;00m \u001b[34mimport\u001b[39;49;00m LSTMClassifier\r\n",
      "\r\n",
      "\u001b[34mfrom\u001b[39;49;00m \u001b[04m\u001b[36mutils\u001b[39;49;00m \u001b[34mimport\u001b[39;49;00m review_to_words, convert_and_pad\r\n",
      "\r\n",
      "\u001b[34mdef\u001b[39;49;00m \u001b[32mmodel_fn\u001b[39;49;00m(model_dir):\r\n",
      "    \u001b[33m\"\"\"Load the PyTorch model from the `model_dir` directory.\"\"\"\u001b[39;49;00m\r\n",
      "    \u001b[34mprint\u001b[39;49;00m(\u001b[33m\"\u001b[39;49;00m\u001b[33mLoading model.\u001b[39;49;00m\u001b[33m\"\u001b[39;49;00m)\r\n",
      "\r\n",
      "    \u001b[37m# First, load the parameters used to create the model.\u001b[39;49;00m\r\n",
      "    model_info = {}\r\n",
      "    model_info_path = os.path.join(model_dir, \u001b[33m'\u001b[39;49;00m\u001b[33mmodel_info.pth\u001b[39;49;00m\u001b[33m'\u001b[39;49;00m)\r\n",
      "    \u001b[34mwith\u001b[39;49;00m \u001b[36mopen\u001b[39;49;00m(model_info_path, \u001b[33m'\u001b[39;49;00m\u001b[33mrb\u001b[39;49;00m\u001b[33m'\u001b[39;49;00m) \u001b[34mas\u001b[39;49;00m f:\r\n",
      "        model_info = torch.load(f)\r\n",
      "\r\n",
      "    \u001b[34mprint\u001b[39;49;00m(\u001b[33m\"\u001b[39;49;00m\u001b[33mmodel_info: {}\u001b[39;49;00m\u001b[33m\"\u001b[39;49;00m.format(model_info))\r\n",
      "\r\n",
      "    \u001b[37m# Determine the device and construct the model.\u001b[39;49;00m\r\n",
      "    device = torch.device(\u001b[33m\"\u001b[39;49;00m\u001b[33mcuda\u001b[39;49;00m\u001b[33m\"\u001b[39;49;00m \u001b[34mif\u001b[39;49;00m torch.cuda.is_available() \u001b[34melse\u001b[39;49;00m \u001b[33m\"\u001b[39;49;00m\u001b[33mcpu\u001b[39;49;00m\u001b[33m\"\u001b[39;49;00m)\r\n",
      "    model = LSTMClassifier(model_info[\u001b[33m'\u001b[39;49;00m\u001b[33membedding_dim\u001b[39;49;00m\u001b[33m'\u001b[39;49;00m], model_info[\u001b[33m'\u001b[39;49;00m\u001b[33mhidden_dim\u001b[39;49;00m\u001b[33m'\u001b[39;49;00m], model_info[\u001b[33m'\u001b[39;49;00m\u001b[33mvocab_size\u001b[39;49;00m\u001b[33m'\u001b[39;49;00m])\r\n",
      "\r\n",
      "    \u001b[37m# Load the store model parameters.\u001b[39;49;00m\r\n",
      "    model_path = os.path.join(model_dir, \u001b[33m'\u001b[39;49;00m\u001b[33mmodel.pth\u001b[39;49;00m\u001b[33m'\u001b[39;49;00m)\r\n",
      "    \u001b[34mwith\u001b[39;49;00m \u001b[36mopen\u001b[39;49;00m(model_path, \u001b[33m'\u001b[39;49;00m\u001b[33mrb\u001b[39;49;00m\u001b[33m'\u001b[39;49;00m) \u001b[34mas\u001b[39;49;00m f:\r\n",
      "        model.load_state_dict(torch.load(f))\r\n",
      "\r\n",
      "    \u001b[37m# Load the saved word_dict.\u001b[39;49;00m\r\n",
      "    word_dict_path = os.path.join(model_dir, \u001b[33m'\u001b[39;49;00m\u001b[33mword_dict.pkl\u001b[39;49;00m\u001b[33m'\u001b[39;49;00m)\r\n",
      "    \u001b[34mwith\u001b[39;49;00m \u001b[36mopen\u001b[39;49;00m(word_dict_path, \u001b[33m'\u001b[39;49;00m\u001b[33mrb\u001b[39;49;00m\u001b[33m'\u001b[39;49;00m) \u001b[34mas\u001b[39;49;00m f:\r\n",
      "        model.word_dict = pickle.load(f)\r\n",
      "\r\n",
      "    model.to(device).eval()\r\n",
      "\r\n",
      "    \u001b[34mprint\u001b[39;49;00m(\u001b[33m\"\u001b[39;49;00m\u001b[33mDone loading model.\u001b[39;49;00m\u001b[33m\"\u001b[39;49;00m)\r\n",
      "    \u001b[34mreturn\u001b[39;49;00m model\r\n",
      "\r\n",
      "\u001b[34mdef\u001b[39;49;00m \u001b[32minput_fn\u001b[39;49;00m(serialized_input_data, content_type):\r\n",
      "    \u001b[34mprint\u001b[39;49;00m(\u001b[33m'\u001b[39;49;00m\u001b[33mDeserializing the input data.\u001b[39;49;00m\u001b[33m'\u001b[39;49;00m)\r\n",
      "    \u001b[34mif\u001b[39;49;00m content_type == \u001b[33m'\u001b[39;49;00m\u001b[33mtext/plain\u001b[39;49;00m\u001b[33m'\u001b[39;49;00m:\r\n",
      "        data = serialized_input_data.decode(\u001b[33m'\u001b[39;49;00m\u001b[33mutf-8\u001b[39;49;00m\u001b[33m'\u001b[39;49;00m)\r\n",
      "        \u001b[34mreturn\u001b[39;49;00m data\r\n",
      "    \u001b[34mraise\u001b[39;49;00m \u001b[36mException\u001b[39;49;00m(\u001b[33m'\u001b[39;49;00m\u001b[33mRequested unsupported ContentType in content_type: \u001b[39;49;00m\u001b[33m'\u001b[39;49;00m + content_type)\r\n",
      "\r\n",
      "\u001b[34mdef\u001b[39;49;00m \u001b[32moutput_fn\u001b[39;49;00m(prediction_output, accept):\r\n",
      "    \u001b[34mprint\u001b[39;49;00m(\u001b[33m'\u001b[39;49;00m\u001b[33mSerializing the generated output.\u001b[39;49;00m\u001b[33m'\u001b[39;49;00m)\r\n",
      "    \u001b[34mreturn\u001b[39;49;00m \u001b[36mstr\u001b[39;49;00m(prediction_output)\r\n",
      "\r\n",
      "\u001b[34mdef\u001b[39;49;00m \u001b[32mpredict_fn\u001b[39;49;00m(input_data, model):\r\n",
      "    \u001b[34mprint\u001b[39;49;00m(\u001b[33m'\u001b[39;49;00m\u001b[33mInferring sentiment of input data.\u001b[39;49;00m\u001b[33m'\u001b[39;49;00m)\r\n",
      "\r\n",
      "    device = torch.device(\u001b[33m\"\u001b[39;49;00m\u001b[33mcuda\u001b[39;49;00m\u001b[33m\"\u001b[39;49;00m \u001b[34mif\u001b[39;49;00m torch.cuda.is_available() \u001b[34melse\u001b[39;49;00m \u001b[33m\"\u001b[39;49;00m\u001b[33mcpu\u001b[39;49;00m\u001b[33m\"\u001b[39;49;00m)\r\n",
      "    \r\n",
      "    \u001b[34mif\u001b[39;49;00m model.word_dict \u001b[35mis\u001b[39;49;00m \u001b[36mNone\u001b[39;49;00m:\r\n",
      "        \u001b[34mraise\u001b[39;49;00m \u001b[36mException\u001b[39;49;00m(\u001b[33m'\u001b[39;49;00m\u001b[33mModel has not been loaded properly, no word_dict.\u001b[39;49;00m\u001b[33m'\u001b[39;49;00m)\r\n",
      "    \r\n",
      "    \u001b[37m# TODO: Process input_data so that it is ready to be sent to our model.\u001b[39;49;00m\r\n",
      "    \u001b[37m#       You should produce two variables:\u001b[39;49;00m\r\n",
      "    \u001b[37m#         data_X   - A sequence of length 500 which represents the converted review\u001b[39;49;00m\r\n",
      "    \u001b[37m#         data_len - The length of the review\u001b[39;49;00m\r\n",
      "\r\n",
      "    data_X = \u001b[36mNone\u001b[39;49;00m\r\n",
      "    data_len = \u001b[36mNone\u001b[39;49;00m\r\n",
      "\r\n",
      "    \u001b[37m# Using data_X and data_len we construct an appropriate input tensor. Remember\u001b[39;49;00m\r\n",
      "    \u001b[37m# that our model expects input data of the form 'len, review[500]'.\u001b[39;49;00m\r\n",
      "    data_pack = np.hstack((data_len, data_X))\r\n",
      "    data_pack = data_pack.reshape(\u001b[34m1\u001b[39;49;00m, -\u001b[34m1\u001b[39;49;00m)\r\n",
      "    \r\n",
      "    data = torch.from_numpy(data_pack)\r\n",
      "    data = data.to(device)\r\n",
      "\r\n",
      "    \u001b[37m# Make sure to put the model into evaluation mode\u001b[39;49;00m\r\n",
      "    model.eval()\r\n",
      "\r\n",
      "    \u001b[37m# TODO: Compute the result of applying the model to the input data. The variable `result` should\u001b[39;49;00m\r\n",
      "    \u001b[37m#       be a numpy array which contains a single integer which is either 1 or 0\u001b[39;49;00m\r\n",
      "\r\n",
      "    result = \u001b[36mNone\u001b[39;49;00m\r\n",
      "\r\n",
      "    \u001b[34mreturn\u001b[39;49;00m result\r\n"
     ]
    }
   ],
   "source": [
    "!pygmentize serve/predict.py"
   ]
  },
  {
   "cell_type": "markdown",
   "metadata": {},
   "source": [
    "As mentioned earlier, the `model_fn` method is the same as the one provided in the training code and the `input_fn` and `output_fn` methods are very simple and your task will be to complete the `predict_fn` method. Make sure that you save the completed file as `predict.py` in the `serve` directory.\n",
    "\n",
    "**TODO**: Complete the `predict_fn()` method in the `serve/predict.py` file."
   ]
  },
  {
   "cell_type": "markdown",
   "metadata": {},
   "source": [
    "### Deploying the model\n",
    "\n",
    "Now that the custom inference code has been written, we will create and deploy our model. To begin with, we need to construct a new PyTorchModel object which points to the model artifacts created during training and also points to the inference code that we wish to use. Then we can call the deploy method to launch the deployment container.\n",
    "\n",
    "**NOTE**: The default behaviour for a deployed PyTorch model is to assume that any input passed to the predictor is a `numpy` array. In our case we want to send a string so we need to construct a simple wrapper around the `RealTimePredictor` class to accomodate simple strings. In a more complicated situation you may want to provide a serialization object, for example if you wanted to sent image data."
   ]
  },
  {
   "cell_type": "code",
   "execution_count": 54,
   "metadata": {},
   "outputs": [
    {
     "name": "stdout",
     "output_type": "stream",
     "text": [
      "-------------------------------------------------------------!"
     ]
    }
   ],
   "source": [
    "from sagemaker.predictor import RealTimePredictor\n",
    "from sagemaker.pytorch import PyTorchModel\n",
    "\n",
    "class StringPredictor(RealTimePredictor):\n",
    "    def __init__(self, endpoint_name, sagemaker_session):\n",
    "        super(StringPredictor, self).__init__(endpoint_name, sagemaker_session, content_type='text/plain')\n",
    "\n",
    "model = PyTorchModel(model_data=estimator.model_data,\n",
    "                     role = role,\n",
    "                     framework_version='0.4.0',\n",
    "                     entry_point='predict.py',\n",
    "                     source_dir='serve',\n",
    "                     predictor_cls=StringPredictor)\n",
    "predictor = model.deploy(initial_instance_count=1, instance_type='ml.m4.xlarge')"
   ]
  },
  {
   "cell_type": "markdown",
   "metadata": {},
   "source": [
    "### Testing the model\n",
    "\n",
    "Now that we have deployed our model with the custom inference code, we should test to see if everything is working. Here we test our model by loading the first `250` positive and negative reviews and send them to the endpoint, then collect the results. The reason for only sending some of the data is that the amount of time it takes for our model to process the input and then perform inference is quite long and so testing the entire data set would be prohibitive."
   ]
  },
  {
   "cell_type": "code",
   "execution_count": 57,
   "metadata": {},
   "outputs": [],
   "source": [
    "import glob\n",
    "\n",
    "def test_reviews(data_dir='../data/aclImdb', stop=250):\n",
    "    \n",
    "    results = []\n",
    "    ground = []\n",
    "    \n",
    "    # We make sure to test both positive and negative reviews    \n",
    "    for sentiment in ['pos', 'neg']:\n",
    "        \n",
    "        path = os.path.join(data_dir, 'test', sentiment, '*.txt')\n",
    "        files = glob.glob(path)\n",
    "        \n",
    "        files_read = 0\n",
    "        \n",
    "        print('Starting ', sentiment, ' files')\n",
    "        \n",
    "        # Iterate through the files and send them to the predictor\n",
    "        for f in files:\n",
    "            with open(f) as review:\n",
    "                # First, we store the ground truth (was the review positive or negative)\n",
    "                if sentiment == 'pos':\n",
    "                    ground.append(1)\n",
    "                else:\n",
    "                    ground.append(0)\n",
    "                # Read in the review and convert to 'utf-8' for transmission via HTTP\n",
    "                review_input = review.read().encode('utf-8')\n",
    "                # Send the review to the predictor and store the results\n",
    "                results.append(int(float(predictor.predict(review_input))))\n",
    "                \n",
    "            # Sending reviews to our endpoint one at a time takes a while so we\n",
    "            # only send a small number of reviews\n",
    "            files_read += 1\n",
    "            if files_read == stop:\n",
    "                break\n",
    "            \n",
    "    return ground, results"
   ]
  },
  {
   "cell_type": "code",
   "execution_count": 58,
   "metadata": {},
   "outputs": [
    {
     "name": "stdout",
     "output_type": "stream",
     "text": [
      "Starting  pos  files\n",
      "Starting  neg  files\n"
     ]
    }
   ],
   "source": [
    "ground, results = test_reviews()"
   ]
  },
  {
   "cell_type": "code",
   "execution_count": 59,
   "metadata": {},
   "outputs": [
    {
     "data": {
      "text/plain": [
       "0.68"
      ]
     },
     "execution_count": 59,
     "metadata": {},
     "output_type": "execute_result"
    }
   ],
   "source": [
    "from sklearn.metrics import accuracy_score\n",
    "accuracy_score(ground, results)"
   ]
  },
  {
   "cell_type": "markdown",
   "metadata": {},
   "source": [
    "As an additional test, we can try sending the `test_review` that we looked at earlier."
   ]
  },
  {
   "cell_type": "code",
   "execution_count": 65,
   "metadata": {},
   "outputs": [
    {
     "name": "stdout",
     "output_type": "stream",
     "text": [
      "b'1.0'\n",
      "b'0.0'\n"
     ]
    }
   ],
   "source": [
    "# Sir/ Ma'am I am unable to understand why b is coming before my predicted outputs but as you can see that it \n",
    "# is behaving correctly, And there is no problem in the model behaviour as well as deployment and the output\n",
    "# that the lambda function gives is \"0.0\" or \"1.0\"\n",
    "\n",
    "print(predictor.predict(test_review))\n",
    "print(predictor.predict(test_review1))"
   ]
  },
  {
   "cell_type": "markdown",
   "metadata": {},
   "source": [
    "Now that we know our endpoint is working as expected, we can set up the web page that will interact with it. If you don't have time to finish the project now, make sure to skip down to the end of this notebook and shut down your endpoint. You can deploy it again when you come back."
   ]
  },
  {
   "cell_type": "markdown",
   "metadata": {},
   "source": [
    "## Step 7 (again): Use the model for the web app\n",
    "\n",
    "> **TODO:** This entire section and the next contain tasks for you to complete, mostly using the AWS console.\n",
    "\n",
    "So far we have been accessing our model endpoint by constructing a predictor object which uses the endpoint and then just using the predictor object to perform inference. What if we wanted to create a web app which accessed our model? The way things are set up currently makes that not possible since in order to access a SageMaker endpoint the app would first have to authenticate with AWS using an IAM role which included access to SageMaker endpoints. However, there is an easier way! We just need to use some additional AWS services.\n",
    "\n",
    "<img src=\"Web App Diagram.svg\">\n",
    "\n",
    "The diagram above gives an overview of how the various services will work together. On the far right is the model which we trained above and which is deployed using SageMaker. On the far left is our web app that collects a user's movie review, sends it off and expects a positive or negative sentiment in return.\n",
    "\n",
    "In the middle is where some of the magic happens. We will construct a Lambda function, which you can think of as a straightforward Python function that can be executed whenever a specified event occurs. We will give this function permission to send and recieve data from a SageMaker endpoint.\n",
    "\n",
    "Lastly, the method we will use to execute the Lambda function is a new endpoint that we will create using API Gateway. This endpoint will be a url that listens for data to be sent to it. Once it gets some data it will pass that data on to the Lambda function and then return whatever the Lambda function returns. Essentially it will act as an interface that lets our web app communicate with the Lambda function.\n",
    "\n",
    "### Setting up a Lambda function\n",
    "\n",
    "The first thing we are going to do is set up a Lambda function. This Lambda function will be executed whenever our public API has data sent to it. When it is executed it will receive the data, perform any sort of processing that is required, send the data (the review) to the SageMaker endpoint we've created and then return the result.\n",
    "\n",
    "#### Part A: Create an IAM Role for the Lambda function\n",
    "\n",
    "Since we want the Lambda function to call a SageMaker endpoint, we need to make sure that it has permission to do so. To do this, we will construct a role that we can later give the Lambda function.\n",
    "\n",
    "Using the AWS Console, navigate to the **IAM** page and click on **Roles**. Then, click on **Create role**. Make sure that the **AWS service** is the type of trusted entity selected and choose **Lambda** as the service that will use this role, then click **Next: Permissions**.\n",
    "\n",
    "In the search box type `sagemaker` and select the check box next to the **AmazonSageMakerFullAccess** policy. Then, click on **Next: Review**.\n",
    "\n",
    "Lastly, give this role a name. Make sure you use a name that you will remember later on, for example `LambdaSageMakerRole`. Then, click on **Create role**.\n",
    "\n",
    "#### Part B: Create a Lambda function\n",
    "\n",
    "Now it is time to actually create the Lambda function.\n",
    "\n",
    "Using the AWS Console, navigate to the AWS Lambda page and click on **Create a function**. When you get to the next page, make sure that **Author from scratch** is selected. Now, name your Lambda function, using a name that you will remember later on, for example `sentiment_analysis_func`. Make sure that the **Python 3.6** runtime is selected and then choose the role that you created in the previous part. Then, click on **Create Function**.\n",
    "\n",
    "On the next page you will see some information about the Lambda function you've just created. If you scroll down you should see an editor in which you can write the code that will be executed when your Lambda function is triggered. In our example, we will use the code below. \n",
    "\n",
    "```python\n",
    "# We need to use the low-level library to interact with SageMaker since the SageMaker API\n",
    "# is not available natively through Lambda.\n",
    "import boto3\n",
    "\n",
    "def lambda_handler(event, context):\n",
    "\n",
    "    # The SageMaker runtime is what allows us to invoke the endpoint that we've created.\n",
    "    runtime = boto3.Session().client('sagemaker-runtime')\n",
    "\n",
    "    # Now we use the SageMaker runtime to invoke our endpoint, sending the review we were given\n",
    "    response = runtime.invoke_endpoint(EndpointName = '**ENDPOINT NAME HERE**',    # The name of the endpoint we created\n",
    "                                       ContentType = 'text/plain',                 # The data format that is expected\n",
    "                                       Body = event['body'])                       # The actual review\n",
    "\n",
    "    # The response is an HTTP response whose body contains the result of our inference\n",
    "    result = response['Body'].read().decode('utf-8')\n",
    "\n",
    "    return {\n",
    "        'statusCode' : 200,\n",
    "        'headers' : { 'Content-Type' : 'text/plain', 'Access-Control-Allow-Origin' : '*' },\n",
    "        'body' : result\n",
    "    }\n",
    "```\n",
    "\n",
    "Once you have copy and pasted the code above into the Lambda code editor, replace the `**ENDPOINT NAME HERE**` portion with the name of the endpoint that we deployed earlier. You can determine the name of the endpoint using the code cell below."
   ]
  },
  {
   "cell_type": "code",
   "execution_count": 64,
   "metadata": {},
   "outputs": [
    {
     "data": {
      "text/plain": [
       "'sagemaker-pytorch-2020-01-05-09-36-48-327'"
      ]
     },
     "execution_count": 64,
     "metadata": {},
     "output_type": "execute_result"
    }
   ],
   "source": [
    "predictor.endpoint"
   ]
  },
  {
   "cell_type": "markdown",
   "metadata": {},
   "source": [
    "Once you have added the endpoint name to the Lambda function, click on **Save**. Your Lambda function is now up and running. Next we need to create a way for our web app to execute the Lambda function.\n",
    "\n",
    "### Setting up API Gateway\n",
    "\n",
    "Now that our Lambda function is set up, it is time to create a new API using API Gateway that will trigger the Lambda function we have just created.\n",
    "\n",
    "Using AWS Console, navigate to **Amazon API Gateway** and then click on **Get started**.\n",
    "\n",
    "On the next page, make sure that **New API** is selected and give the new api a name, for example, `sentiment_analysis_api`. Then, click on **Create API**.\n",
    "\n",
    "Now we have created an API, however it doesn't currently do anything. What we want it to do is to trigger the Lambda function that we created earlier.\n",
    "\n",
    "Select the **Actions** dropdown menu and click **Create Method**. A new blank method will be created, select its dropdown menu and select **POST**, then click on the check mark beside it.\n",
    "\n",
    "For the integration point, make sure that **Lambda Function** is selected and click on the **Use Lambda Proxy integration**. This option makes sure that the data that is sent to the API is then sent directly to the Lambda function with no processing. It also means that the return value must be a proper response object as it will also not be processed by API Gateway.\n",
    "\n",
    "Type the name of the Lambda function you created earlier into the **Lambda Function** text entry box and then click on **Save**. Click on **OK** in the pop-up box that then appears, giving permission to API Gateway to invoke the Lambda function you created.\n",
    "\n",
    "The last step in creating the API Gateway is to select the **Actions** dropdown and click on **Deploy API**. You will need to create a new Deployment stage and name it anything you like, for example `prod`.\n",
    "\n",
    "You have now successfully set up a public API to access your SageMaker model. Make sure to copy or write down the URL provided to invoke your newly created public API as this will be needed in the next step. This URL can be found at the top of the page, highlighted in blue next to the text **Invoke URL**."
   ]
  },
  {
   "cell_type": "markdown",
   "metadata": {},
   "source": [
    "## Step 4: Deploying our web app\n",
    "\n",
    "Now that we have a publicly available API, we can start using it in a web app. For our purposes, we have provided a simple static html file which can make use of the public api you created earlier.\n",
    "\n",
    "In the `website` folder there should be a file called `index.html`. Download the file to your computer and open that file up in a text editor of your choice. There should be a line which contains **\\*\\*REPLACE WITH PUBLIC API URL\\*\\***. Replace this string with the url that you wrote down in the last step and then save the file.\n",
    "\n",
    "Now, if you open `index.html` on your local computer, your browser will behave as a local web server and you can use the provided site to interact with your SageMaker model.\n",
    "\n",
    "If you'd like to go further, you can host this html file anywhere you'd like, for example using github or hosting a static site on Amazon's S3. Once you have done this you can share the link with anyone you'd like and have them play with it too!\n",
    "\n",
    "> **Important Note** In order for the web app to communicate with the SageMaker endpoint, the endpoint has to actually be deployed and running. This means that you are paying for it. Make sure that the endpoint is running when you want to use the web app but that you shut it down when you don't need it, otherwise you will end up with a surprisingly large AWS bill.\n",
    "\n",
    "**TODO:** Make sure that you include the edited `index.html` file in your project submission."
   ]
  },
  {
   "cell_type": "markdown",
   "metadata": {},
   "source": [
    "Now that your web app is working, trying playing around with it and see how well it works.\n",
    "\n",
    "**Question**: Give an example of a review that you entered into your web app. What was the predicted sentiment of your example review?"
   ]
  },
  {
   "cell_type": "markdown",
   "metadata": {},
   "source": [
    "**Answer:**\n",
    "Review-> The movie was awesome and thrilling and super cool.\n",
    "Prediction-> Your review was POSITIVE!\n",
    "Review-> I wish that the movie could have better, It was not at all as expected.\n",
    "Prediction-> Your review was NEGATIVE!\n",
    "Review-> How can someone make a movie like this, It was intolerable for me to sit through the movie.\n",
    "Prediction-> Your review was NEGATIVE!"
   ]
  },
  {
   "cell_type": "markdown",
   "metadata": {},
   "source": [
    "### Delete the endpoint\n",
    "\n",
    "Remember to always shut down your endpoint if you are no longer using it. You are charged for the length of time that the endpoint is running so if you forget and leave it on you could end up with an unexpectedly large bill."
   ]
  },
  {
   "cell_type": "code",
   "execution_count": 66,
   "metadata": {},
   "outputs": [],
   "source": [
    "predictor.delete_endpoint()"
   ]
  },
  {
   "cell_type": "code",
   "execution_count": null,
   "metadata": {},
   "outputs": [],
   "source": []
  }
 ],
 "metadata": {
  "kernelspec": {
   "display_name": "conda_pytorch_p36",
   "language": "python",
   "name": "conda_pytorch_p36"
  },
  "language_info": {
   "codemirror_mode": {
    "name": "ipython",
    "version": 3
   },
   "file_extension": ".py",
   "mimetype": "text/x-python",
   "name": "python",
   "nbconvert_exporter": "python",
   "pygments_lexer": "ipython3",
   "version": "3.6.5"
  }
 },
 "nbformat": 4,
 "nbformat_minor": 2
}
